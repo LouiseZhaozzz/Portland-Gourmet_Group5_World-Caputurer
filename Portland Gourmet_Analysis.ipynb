{
 "cells": [
  {
   "cell_type": "markdown",
   "metadata": {},
   "source": [
    "# Portland Gourmet"
   ]
  },
  {
   "cell_type": "markdown",
   "metadata": {},
   "source": [
    "* All the datasets(including processed datasets) used here could be download from https://drive.google.com/drive/folders/1ZJYRasqUVwquTi7DYbDKLaLmGYLWDmDy?usp=sharing"
   ]
  },
  {
   "cell_type": "code",
   "execution_count": 1,
   "metadata": {},
   "outputs": [],
   "source": [
    "import csv\n",
    "import json\n",
    "import sys\n",
    "import os\n",
    "import pandas as pd\n",
    "import geopandas as gpd\n",
    "import numpy as np\n",
    "import matplotlib.pyplot as plt\n",
    "import seaborn as sns\n",
    "import datetime\n",
    "def time_marker(text=''):\n",
    "    print('[{}] {}'.format(datetime.datetime.now().time(), text.lower()))"
   ]
  },
  {
   "cell_type": "markdown",
   "metadata": {},
   "source": [
    "## 1 Text Proceccing\n",
    "* Since that dealing with the business file and review file really takes time, it is highly recommended you to start from 1.2 NLP!!!!!"
   ]
  },
  {
   "cell_type": "markdown",
   "metadata": {},
   "source": [
    "### 1.1 Extract Portland's business file and review file( recommended to skip)\n",
    "1. Download yelp source data (.json) from https://www.yelp.com/dataset/download \n",
    "2. Save it, extract to json files and name it as \"source_data\" in your local directory for this project\n",
    "3. It‘s very big, about 7G!!!!!"
   ]
  },
  {
   "cell_type": "code",
   "execution_count": 3,
   "metadata": {},
   "outputs": [],
   "source": [
    "json_file_path='./Data/yelp_academic_dataset_business.json'\n",
    "csv_file_path='./Data/yelp_restaurant_portland.csv'"
   ]
  },
  {
   "cell_type": "markdown",
   "metadata": {},
   "source": [
    "#### 1.1.1 First dealing with business file"
   ]
  },
  {
   "cell_type": "code",
   "execution_count": 6,
   "metadata": {},
   "outputs": [
    {
     "name": "stdout",
     "output_type": "stream",
     "text": [
      "Shape of the Business in portland : (15905, 12)\n",
      "Shape of the Restaurants in portland : (5644, 12)\n"
     ]
    }
   ],
   "source": [
    "# open business.json and read columns \n",
    "with open(json_file_path,'r',encoding='utf-8') as fin:\n",
    "    for line in fin:\n",
    "        line_contents = json.loads(line)\n",
    "        headers=line_contents.keys()\n",
    "        break\n",
    "        \n",
    "# read business.json to dictionary and output as csv file\n",
    "with open(csv_file_path, 'w', newline='',encoding='utf-8') as fout:\n",
    "    writer=csv.DictWriter(fout, headers)\n",
    "    writer.writeheader()\n",
    "    with open(json_file_path, 'r', encoding='utf-8') as fin:\n",
    "        for line in fin:\n",
    "            line_contents = json.loads(line)\n",
    "            #if 'Phoenix' in line_contents.values():\n",
    "            writer.writerow(line_contents)\n",
    "            \n",
    "df_bus = pd.read_csv(csv_file_path)\n",
    "            \n",
    "# remove postal code and hours columns\n",
    "df_clean = df_bus.drop(['postal_code','hours'],axis=1).dropna()\n",
    "\n",
    "# select the restaurants only within Portland\n",
    "portland = df_clean[(df_clean['city'] == 'Portland') & (df_clean['state'] == 'OR')]\n",
    "df_rest = portland[portland['categories'].str.contains('Restaurant') == True]\n",
    "# write to csv file\n",
    "df_rest.to_csv(csv_file_path,index=False)\n",
    "\n",
    "print(\"Shape of the Business in portland :\", portland.shape)\n",
    "print(\"Shape of the Restaurants in portland :\", df_rest.shape)"
   ]
  },
  {
   "cell_type": "markdown",
   "metadata": {},
   "source": [
    "* Original business json file contains 160585 businesses record, after dropping na, it leaves with 140054 record.\n",
    "* Selecting only businesses in Portland, OR gives us 15905 businesses and only selecting restaurtants leaves 5644 records.\n"
   ]
  },
  {
   "cell_type": "markdown",
   "metadata": {},
   "source": [
    "#### 1.1.2 dealing with review file\n",
    "1. Extract only Portland restaurant reviews using businesses ID \n",
    "2. Select the recent 4 year's reviews and export to csv file"
   ]
  },
  {
   "cell_type": "code",
   "execution_count": 10,
   "metadata": {},
   "outputs": [],
   "source": [
    "json_file_path='../Data/yelp_academic_dataset_review.json'\n",
    "csv_file_path='../Data/yelp_review_portland.csv'"
   ]
  },
  {
   "cell_type": "markdown",
   "metadata": {},
   "source": [
    "#### WARNING!!!: the following piece of code takes 11 mins to load"
   ]
  },
  {
   "cell_type": "code",
   "execution_count": 12,
   "metadata": {
    "collapsed": true,
    "jupyter": {
     "outputs_hidden": true
    }
   },
   "outputs": [
    {
     "name": "stdout",
     "output_type": "stream",
     "text": [
      "[03:10:42.725607] \tfound    8613/ 100000 reviews so far 8.6129 \n",
      "[03:10:53.251693] \tfound   17359/ 200000 reviews so far 8.6795 \n",
      "[03:11:03.255650] \tfound   26083/ 300000 reviews so far 8.6943 \n",
      "[03:11:13.011516] \tfound   34770/ 400000 reviews so far 8.6925 \n",
      "[03:11:22.842950] \tfound   42952/ 500000 reviews so far 8.5904 \n",
      "[03:11:32.639006] \tfound   50887/ 600000 reviews so far 8.4812 \n",
      "[03:11:42.295613] \tfound   57045/ 700000 reviews so far 8.1493 \n",
      "[03:11:51.848196] \tfound   63094/ 800000 reviews so far 7.8867 \n",
      "[03:12:01.347132] \tfound   70298/ 900000 reviews so far 7.8109 \n",
      "[03:12:11.080108] \tfound   80437/1000000 reviews so far 8.0437 \n",
      "[03:12:20.620085] \tfound   90429/1100000 reviews so far 8.2208 \n",
      "[03:12:30.169623] \tfound  100618/1200000 reviews so far 8.3848 \n",
      "[03:12:39.689954] \tfound  110670/1300000 reviews so far 8.5131 \n",
      "[03:12:49.239823] \tfound  119978/1400000 reviews so far 8.5699 \n",
      "[03:12:58.822695] \tfound  127575/1500000 reviews so far 8.5050 \n",
      "[03:13:08.365612] \tfound  134800/1600000 reviews so far 8.4250 \n",
      "[03:13:18.032437] \tfound  141262/1700000 reviews so far 8.3095 \n",
      "[03:13:27.618929] \tfound  149916/1800000 reviews so far 8.3287 \n",
      "[03:13:37.192597] \tfound  158547/1900000 reviews so far 8.3446 \n",
      "[03:13:46.773714] \tfound  167344/2000000 reviews so far 8.3672 \n",
      "[03:13:56.343081] \tfound  176059/2100000 reviews so far 8.3838 \n",
      "[03:14:05.903408] \tfound  184375/2200000 reviews so far 8.3807 \n",
      "[03:14:15.415271] \tfound  192469/2300000 reviews so far 8.3682 \n",
      "[03:14:24.960676] \tfound  198862/2400000 reviews so far 8.2859 \n",
      "[03:14:34.482613] \tfound  205172/2500000 reviews so far 8.2069 \n",
      "[03:14:44.019033] \tfound  211725/2600000 reviews so far 8.1433 \n",
      "[03:14:53.567447] \tfound  222894/2700000 reviews so far 8.2553 \n",
      "[03:15:03.212337] \tfound  234248/2800000 reviews so far 8.3660 \n",
      "[03:15:12.775508] \tfound  245803/2900000 reviews so far 8.4760 \n",
      "[03:15:22.352894] \tfound  257035/3000000 reviews so far 8.5678 \n",
      "[03:15:31.912555] \tfound  267731/3100000 reviews so far 8.6365 \n",
      "[03:15:41.514089] \tfound  277328/3200000 reviews so far 8.6665 \n",
      "[03:15:51.055762] \tfound  284909/3300000 reviews so far 8.6336 \n",
      "[03:16:01.171424] \tfound  292141/3400000 reviews so far 8.5924 \n",
      "[03:16:10.787737] \tfound  300327/3500000 reviews so far 8.5808 \n",
      "[03:16:20.339073] \tfound  309768/3600000 reviews so far 8.6047 \n",
      "[03:16:29.826206] \tfound  319339/3700000 reviews so far 8.6308 \n",
      "[03:16:39.330317] \tfound  328897/3800000 reviews so far 8.6552 \n",
      "[03:16:48.962942] \tfound  338538/3900000 reviews so far 8.6805 \n",
      "[03:16:58.500662] \tfound  346673/4000000 reviews so far 8.6668 \n",
      "[03:17:08.065647] \tfound  354033/4100000 reviews so far 8.6349 \n",
      "[03:17:17.605826] \tfound  359845/4200000 reviews so far 8.5677 \n",
      "[03:17:27.175021] \tfound  365657/4300000 reviews so far 8.5036 \n",
      "[03:17:36.776022] \tfound  375152/4400000 reviews so far 8.5262 \n",
      "[03:17:46.321200] \tfound  385458/4500000 reviews so far 8.5657 \n",
      "[03:17:55.850133] \tfound  395825/4600000 reviews so far 8.6049 \n",
      "[03:18:05.695426] \tfound  406158/4700000 reviews so far 8.6417 \n",
      "[03:18:15.233083] \tfound  416575/4800000 reviews so far 8.6786 \n",
      "[03:18:25.097996] \tfound  424441/4900000 reviews so far 8.6621 \n",
      "[03:18:34.829416] \tfound  431851/5000000 reviews so far 8.6370 \n",
      "[03:18:44.417796] \tfound  438252/5100000 reviews so far 8.5932 \n",
      "[03:18:54.002155] \tfound  446055/5200000 reviews so far 8.5780 \n",
      "[03:19:04.416655] \tfound  455934/5300000 reviews so far 8.6025 \n",
      "[03:19:14.303755] \tfound  465659/5400000 reviews so far 8.6233 \n",
      "[03:19:24.197350] \tfound  475546/5500000 reviews so far 8.6463 \n",
      "[03:19:33.751050] \tfound  485321/5600000 reviews so far 8.6664 \n",
      "[03:19:43.411978] \tfound  494627/5700000 reviews so far 8.6777 \n",
      "[03:19:53.057780] \tfound  502695/5800000 reviews so far 8.6672 \n",
      "[03:20:02.642820] \tfound  510009/5900000 reviews so far 8.6442 \n",
      "[03:20:12.189960] \tfound  517097/6000000 reviews so far 8.6183 \n",
      "[03:20:21.777656] \tfound  526283/6100000 reviews so far 8.6276 \n",
      "[03:20:31.414910] \tfound  536763/6200000 reviews so far 8.6575 \n",
      "[03:20:40.996044] \tfound  547330/6300000 reviews so far 8.6878 \n",
      "[03:20:50.757780] \tfound  557884/6400000 reviews so far 8.7169 \n",
      "[03:21:00.326751] \tfound  567899/6500000 reviews so far 8.7369 \n",
      "[03:21:09.924328] \tfound  577554/6600000 reviews so far 8.7508 \n",
      "[03:21:19.527604] \tfound  585448/6700000 reviews so far 8.7380 \n",
      "[03:21:29.144792] \tfound  592866/6800000 reviews so far 8.7186 \n",
      "[03:21:38.720502] \tfound  599526/6900000 reviews so far 8.6888 \n",
      "[03:21:48.289594] \tfound  608432/7000000 reviews so far 8.6919 \n",
      "[03:21:57.814879] \tfound  617871/7100000 reviews so far 8.7024 \n",
      "[03:22:07.325322] \tfound  627320/7200000 reviews so far 8.7128 \n",
      "[03:22:16.847322] \tfound  636790/7300000 reviews so far 8.7231 \n",
      "[03:22:26.991712] \tfound  645401/7400000 reviews so far 8.7216 \n",
      "[03:22:36.585990] \tfound  653730/7500000 reviews so far 8.7164 \n",
      "[03:22:46.724408] \tfound  659960/7600000 reviews so far 8.6837 \n",
      "[03:22:57.242009] \tfound  665808/7700000 reviews so far 8.6469 \n",
      "[03:23:07.316964] \tfound  672158/7800000 reviews so far 8.6174 \n",
      "[03:23:17.608336] \tfound  682739/7900000 reviews so far 8.6423 \n",
      "[03:23:27.652814] \tfound  693351/8000000 reviews so far 8.6669 \n",
      "[03:23:37.541108] \tfound  704056/8100000 reviews so far 8.6920 \n",
      "[03:23:47.793010] \tfound  714373/8200000 reviews so far 8.7119 \n",
      "[03:23:58.139340] \tfound  723838/8300000 reviews so far 8.7209 \n",
      "[03:24:08.164765] \tfound  732774/8400000 reviews so far 8.7235 \n",
      "[03:24:18.232122] \tfound  740462/8500000 reviews so far 8.7113 \n",
      "[03:24:28.300654] \tfound  748088/8600000 reviews so far 8.6987 \n",
      "Selected 750395 portland Restaurant Reviews from 8635402 total reviews\n",
      "Shape of the portland Restaurant Review dataframe : (750395, 9)\n"
     ]
    }
   ],
   "source": [
    "restaurant_data = pd.read_csv('./Data/yelp_restaurant_portland.csv')\n",
    "restaurant_bids = restaurant_data.business_id.values\n",
    "\n",
    "reviews = []\n",
    "\n",
    "source_data_file = '../Data/yelp_academic_dataset_review.json'\n",
    "\n",
    "# read the file line by line and save only lines we need\n",
    "with open(source_data_file, 'r') as review_file:\n",
    "    for i, review_json in enumerate(review_file):\n",
    "        review = json.loads(review_json)\n",
    "\n",
    "        # append to restaurant reviews\n",
    "        if review['business_id'] in restaurant_bids:\n",
    "            reviews.append(review)\n",
    "            \n",
    "        if i % 100000 == 0 and i != 0:\n",
    "            time_marker('\\tfound {:>7}/{:>7} Reviews so far {:2.4f} '.format(str(len(reviews)),str(i),\n",
    "                                                                                 len(reviews)/(i+1)*100.))\n",
    "        \n",
    "print('Selected {:d} portland Restaurant Reviews from {:d} total reviews'.format(len(reviews), i))\n",
    "df_review = pd.DataFrame(reviews)\n",
    "print(\"Shape of the portland Restaurant Review dataframe :\", df_review.shape)"
   ]
  },
  {
   "cell_type": "code",
   "execution_count": 2,
   "metadata": {},
   "outputs": [
    {
     "ename": "NameError",
     "evalue": "name 'df_review' is not defined",
     "output_type": "error",
     "traceback": [
      "\u001b[0;31m---------------------------------------------------------------------------\u001b[0m",
      "\u001b[0;31mNameError\u001b[0m                                 Traceback (most recent call last)",
      "\u001b[0;32m<ipython-input-2-03f5a2d2082e>\u001b[0m in \u001b[0;36m<module>\u001b[0;34m\u001b[0m\n\u001b[1;32m      1\u001b[0m \u001b[0;31m# convert date from object to datatime\u001b[0m\u001b[0;34m\u001b[0m\u001b[0;34m\u001b[0m\u001b[0;34m\u001b[0m\u001b[0m\n\u001b[0;32m----> 2\u001b[0;31m \u001b[0mdf_review\u001b[0m\u001b[0;34m[\u001b[0m\u001b[0;34m'date'\u001b[0m\u001b[0;34m]\u001b[0m \u001b[0;34m=\u001b[0m \u001b[0mpd\u001b[0m\u001b[0;34m.\u001b[0m\u001b[0mto_datetime\u001b[0m\u001b[0;34m(\u001b[0m\u001b[0mdf_review\u001b[0m\u001b[0;34m[\u001b[0m\u001b[0;34m'date'\u001b[0m\u001b[0;34m]\u001b[0m\u001b[0;34m,\u001b[0m\u001b[0minfer_datetime_format\u001b[0m\u001b[0;34m=\u001b[0m\u001b[0;32mTrue\u001b[0m\u001b[0;34m)\u001b[0m\u001b[0;34m\u001b[0m\u001b[0;34m\u001b[0m\u001b[0m\n\u001b[0m\u001b[1;32m      3\u001b[0m \u001b[0;34m\u001b[0m\u001b[0m\n\u001b[1;32m      4\u001b[0m \u001b[0;31m# select reviews after 2017-01-01\u001b[0m\u001b[0;34m\u001b[0m\u001b[0;34m\u001b[0m\u001b[0;34m\u001b[0m\u001b[0m\n\u001b[1;32m      5\u001b[0m \u001b[0mstart_date\u001b[0m \u001b[0;34m=\u001b[0m \u001b[0mpd\u001b[0m\u001b[0;34m.\u001b[0m\u001b[0mto_datetime\u001b[0m\u001b[0;34m(\u001b[0m\u001b[0;34m'2017-01-01'\u001b[0m\u001b[0;34m,\u001b[0m \u001b[0mdayfirst\u001b[0m\u001b[0;34m=\u001b[0m\u001b[0;32mTrue\u001b[0m\u001b[0;34m)\u001b[0m\u001b[0;34m\u001b[0m\u001b[0;34m\u001b[0m\u001b[0m\n",
      "\u001b[0;31mNameError\u001b[0m: name 'df_review' is not defined"
     ]
    }
   ],
   "source": [
    "# convert date from object to datatime\n",
    "df_review['date'] = pd.to_datetime(df_review['date'],infer_datetime_format=True)\n",
    "\n",
    "# select reviews after 2017-01-01\n",
    "start_date = pd.to_datetime('2017-01-01', dayfirst=True)\n",
    "df_reviews = df_review[df_review['date'] > start_date]\n",
    "df_reviews = df_reviews.dropna()\n",
    "print(\"Shape of the Portland Restaurant Review since 2017:\", df_reviews.shape)"
   ]
  },
  {
   "cell_type": "code",
   "execution_count": 17,
   "metadata": {},
   "outputs": [
    {
     "data": {
      "text/plain": [
       "4160"
      ]
     },
     "execution_count": 17,
     "metadata": {},
     "output_type": "execute_result"
    }
   ],
   "source": [
    "# compare with 5644 businesses before\n",
    "df_reviews.to_csv(csv_file_path,index=False)\n",
    "len(df_reviews.business_id.unique())   #(5644 - 4160 = 1484)"
   ]
  },
  {
   "cell_type": "markdown",
   "metadata": {},
   "source": [
    "#### Summay:\n",
    "1. There are 5644 resutaurants in Portland with at least one yelp review.\n",
    "2. There 750395 reviews for those resutaurants in total (based on the time we downloaded the data).\n",
    "3. Due to computational limitations, we have to reduce the amount of reviews for NLP and LDA modelling, so we select only the recent 4 year's reviews, that leaves us 297993 Portland's restaurant reviews since 2017/1/1.\n",
    "4. There are 1484 restaurants in Atlanta that do not have a review ever since the start of 2017."
   ]
  },
  {
   "cell_type": "markdown",
   "metadata": {},
   "source": [
    "### 1.2 NLP (suggest starting from here!!)\n",
    "* Remove unwanted characters, numbers and symbols\n",
    "* Remove English stopwords\n",
    "* Lemmatize words (method 1)\n",
    "* Stemmer words (method 2)"
   ]
  },
  {
   "cell_type": "code",
   "execution_count": 2,
   "metadata": {},
   "outputs": [],
   "source": [
    "# the dataset is from the result 1.1\n",
    "df_reviews=pd.read_csv('https://github.com/LouiseZhaozzz/Portland-Gourmet_Group5_World-Caputurer/blob/main/Data/unprocessed_reviews_portland.csv.gz?raw=true',\n",
    "                      compression='gzip', low_memory=False)"
   ]
  },
  {
   "cell_type": "code",
   "execution_count": 3,
   "metadata": {},
   "outputs": [],
   "source": [
    "# the dataset is from the result 1.1\n",
    "df_business=pd.read_csv('https://github.com/LouiseZhaozzz/Portland-Gourmet_Group5_World-Caputurer/blob/main/Data/yelp_restaurant_portland.csv?raw=true')"
   ]
  },
  {
   "cell_type": "code",
   "execution_count": 4,
   "metadata": {},
   "outputs": [
    {
     "name": "stderr",
     "output_type": "stream",
     "text": [
      "[nltk_data] Downloading package stopwords to /home/jovyan/nltk_data...\n",
      "[nltk_data]   Package stopwords is already up-to-date!\n",
      "[nltk_data] Downloading package punkt to /home/jovyan/nltk_data...\n",
      "[nltk_data]   Package punkt is already up-to-date!\n"
     ]
    },
    {
     "ename": "ModuleNotFoundError",
     "evalue": "No module named 'gensim'",
     "output_type": "error",
     "traceback": [
      "\u001b[0;31m---------------------------------------------------------------------------\u001b[0m",
      "\u001b[0;31mModuleNotFoundError\u001b[0m                       Traceback (most recent call last)",
      "\u001b[0;32m<ipython-input-4-5e987fb19843>\u001b[0m in \u001b[0;36m<module>\u001b[0;34m\u001b[0m\n\u001b[1;32m      6\u001b[0m \u001b[0;32mimport\u001b[0m \u001b[0mre\u001b[0m\u001b[0;34m\u001b[0m\u001b[0;34m\u001b[0m\u001b[0m\n\u001b[1;32m      7\u001b[0m \u001b[0;32mimport\u001b[0m \u001b[0mspacy\u001b[0m\u001b[0;34m\u001b[0m\u001b[0;34m\u001b[0m\u001b[0m\n\u001b[0;32m----> 8\u001b[0;31m \u001b[0;32mimport\u001b[0m \u001b[0mgensim\u001b[0m\u001b[0;34m\u001b[0m\u001b[0;34m\u001b[0m\u001b[0m\n\u001b[0m\u001b[1;32m      9\u001b[0m \u001b[0;32mfrom\u001b[0m \u001b[0mgensim\u001b[0m \u001b[0;32mimport\u001b[0m \u001b[0mcorpora\u001b[0m\u001b[0;34m\u001b[0m\u001b[0;34m\u001b[0m\u001b[0m\n\u001b[1;32m     10\u001b[0m \u001b[0;34m\u001b[0m\u001b[0m\n",
      "\u001b[0;31mModuleNotFoundError\u001b[0m: No module named 'gensim'"
     ]
    }
   ],
   "source": [
    "import nltk\n",
    "from nltk import FreqDist\n",
    "nltk.download('stopwords')\n",
    "nltk.download('punkt')\n",
    "\n",
    "import re\n",
    "import spacy\n",
    "import gensim\n",
    "from gensim import corpora\n",
    "\n",
    "import pyLDAvis\n",
    "import pyLDAvis.gensim_models as gensimvis\n",
    "pyLDAvis.enable_notebook()\n",
    "import matplotlib.pyplot as plt\n",
    "import seaborn as sns\n",
    "%matplotlib inline\n",
    "\n",
    "# functions to plot words frequency\n",
    "def freq_words(x, terms = 15):\n",
    "    all_words = ' '.join([text for text in x])\n",
    "    all_words = all_words.split()\n",
    "    fdist = FreqDist(all_words)\n",
    "    words_df = pd.DataFrame({'word':list(fdist.keys()), 'count':list(fdist.values())})\n",
    "  \n",
    "  # selecting top 20 most frequent words\n",
    "    d = words_df.nlargest(columns=\"count\", n = terms) \n",
    "    fig = plt.figure(figsize=(20,5))\n",
    "    ax = sns.barplot(data=d, x= \"word\", y = \"count\", color=\"salmon\", saturation=.5)\n",
    "    ax.set(ylabel = 'Counts', xlabel='')\n",
    "    plt.show()\n",
    "    \n",
    "    return fig"
   ]
  },
  {
   "cell_type": "markdown",
   "metadata": {},
   "source": [
    "#### 1.2.1 Remove unwanted characters, numbers, symbols and stopwords "
   ]
  },
  {
   "cell_type": "code",
   "execution_count": 10,
   "metadata": {},
   "outputs": [
    {
     "name": "stderr",
     "output_type": "stream",
     "text": [
      "/opt/conda/envs/sds2020/lib/python3.7/site-packages/ipykernel/ipkernel.py:287: DeprecationWarning: `should_run_async` will not call `transform_cell` automatically in the future. Please pass the result to `transformed_cell` argument and any exception that happen during thetransform in `preprocessing_exc_tuple` in IPython 7.17 and above.\n",
      "  and should_run_async(code)\n",
      "/opt/conda/envs/sds2020/lib/python3.7/site-packages/ipykernel_launcher.py:5: FutureWarning: The default value of regex will change from True to False in a future version.\n",
      "  \"\"\"\n",
      "/opt/conda/envs/sds2020/lib/python3.7/site-packages/sklearn/utils/deprecation.py:143: FutureWarning: The sklearn.feature_extraction.stop_words module is  deprecated in version 0.22 and will be removed in version 0.24. The corresponding classes / functions should instead be imported from sklearn.feature_extraction.text. Anything that cannot be imported from sklearn.feature_extraction.text is now part of the private API.\n",
      "  warnings.warn(message, FutureWarning)\n"
     ]
    },
    {
     "data": {
      "text/html": [
       "<div>\n",
       "<style scoped>\n",
       "    .dataframe tbody tr th:only-of-type {\n",
       "        vertical-align: middle;\n",
       "    }\n",
       "\n",
       "    .dataframe tbody tr th {\n",
       "        vertical-align: top;\n",
       "    }\n",
       "\n",
       "    .dataframe thead th {\n",
       "        text-align: right;\n",
       "    }\n",
       "</style>\n",
       "<table border=\"1\" class=\"dataframe\">\n",
       "  <thead>\n",
       "    <tr style=\"text-align: right;\">\n",
       "      <th></th>\n",
       "      <th>Word</th>\n",
       "      <th>Frequency</th>\n",
       "    </tr>\n",
       "  </thead>\n",
       "  <tbody>\n",
       "    <tr>\n",
       "      <th>0</th>\n",
       "      <td>i</td>\n",
       "      <td>716479</td>\n",
       "    </tr>\n",
       "    <tr>\n",
       "      <th>1</th>\n",
       "      <td>the</td>\n",
       "      <td>275635</td>\n",
       "    </tr>\n",
       "    <tr>\n",
       "      <th>2</th>\n",
       "      <td>food</td>\n",
       "      <td>195512</td>\n",
       "    </tr>\n",
       "    <tr>\n",
       "      <th>3</th>\n",
       "      <td>good</td>\n",
       "      <td>149134</td>\n",
       "    </tr>\n",
       "    <tr>\n",
       "      <th>4</th>\n",
       "      <td>place</td>\n",
       "      <td>137479</td>\n",
       "    </tr>\n",
       "    <tr>\n",
       "      <th>5</th>\n",
       "      <td>great</td>\n",
       "      <td>122999</td>\n",
       "    </tr>\n",
       "    <tr>\n",
       "      <th>6</th>\n",
       "      <td>we</td>\n",
       "      <td>112158</td>\n",
       "    </tr>\n",
       "    <tr>\n",
       "      <th>7</th>\n",
       "      <td>service</td>\n",
       "      <td>91264</td>\n",
       "    </tr>\n",
       "    <tr>\n",
       "      <th>8</th>\n",
       "      <td>it</td>\n",
       "      <td>87298</td>\n",
       "    </tr>\n",
       "    <tr>\n",
       "      <th>9</th>\n",
       "      <td>like</td>\n",
       "      <td>85892</td>\n",
       "    </tr>\n",
       "  </tbody>\n",
       "</table>\n",
       "</div>"
      ],
      "text/plain": [
       "      Word  Frequency\n",
       "0        i     716479\n",
       "1      the     275635\n",
       "2     food     195512\n",
       "3     good     149134\n",
       "4    place     137479\n",
       "5    great     122999\n",
       "6       we     112158\n",
       "7  service      91264\n",
       "8       it      87298\n",
       "9     like      85892"
      ]
     },
     "execution_count": 10,
     "metadata": {},
     "output_type": "execute_result"
    }
   ],
   "source": [
    "# replace \"n't\" with \" not\"\n",
    "df_reviews['text'] = df_reviews['text'].str.replace(\"n\\'t\", \" not\")\n",
    "\n",
    "# remove unwanted characters, numbers and symbols\n",
    "df_reviews['text'] = df_reviews['text'].str.replace(\"[^a-zA-Z#]\", \" \")\n",
    "\n",
    "from nltk.corpus import stopwords\n",
    "from sklearn.feature_extraction.stop_words import ENGLISH_STOP_WORDS\n",
    "\n",
    "stop_words = set(stopwords.words('english') + list(ENGLISH_STOP_WORDS)) \n",
    "\n",
    "# function to remove stopwords\n",
    "def remove_stopwords(rev):\n",
    "  rev_new = \" \".join([i for i in rev if i not in stop_words])\n",
    "  return rev_new\n",
    "\n",
    "# remove stopwords from the text\n",
    "reviews = [remove_stopwords(r.split()) for r in df_reviews['text']]\n",
    "\n",
    "# make entire text lowercase\n",
    "reviews = [r.lower() for r in reviews]\n",
    "\n",
    "# tokenized means to segment it into words, punctuation and so on\n",
    "tokenized_reviews = pd.Series(reviews).apply(lambda x: x.split())\n",
    "words=[]\n",
    "for i in tokenized_reviews:\n",
    "    for j in i:\n",
    "        if j.isalpha():\n",
    "            words.append(j)\n",
    "            \n",
    "token_dist = FreqDist(words)\n",
    "dist = pd.DataFrame(token_dist.most_common(50),columns=['Word', 'Frequency'])\n",
    "dist.head(10)"
   ]
  },
  {
   "cell_type": "markdown",
   "metadata": {},
   "source": [
    "Note: from the above result, there are many high frequent but not important words and most of them are verbs, so before manually removing them, let's lemmatize review context. Lemmatize means to assign the base forms of words. For example, the lemma of “was” is “be”, and the lemma of “rats” is “rat”."
   ]
  },
  {
   "cell_type": "markdown",
   "metadata": {},
   "source": [
    "#### 1.2.2 Lemmatization (select noun, adj, adv, only)"
   ]
  },
  {
   "cell_type": "code",
   "execution_count": 11,
   "metadata": {},
   "outputs": [
    {
     "name": "stderr",
     "output_type": "stream",
     "text": [
      "/opt/conda/envs/sds2020/lib/python3.7/site-packages/ipykernel/ipkernel.py:287: DeprecationWarning: `should_run_async` will not call `transform_cell` automatically in the future. Please pass the result to `transformed_cell` argument and any exception that happen during thetransform in `preprocessing_exc_tuple` in IPython 7.17 and above.\n",
      "  and should_run_async(code)\n"
     ]
    }
   ],
   "source": [
    "# Initialize spacy 'en' model, keeping only tagger component needed for lemmatizatio\n",
    "nlp = spacy.load('en_core_web_sm', disable=['parser', 'ner'])\n",
    "# function to lemmatize words \n",
    "def lemmatization(texts, tags=['NOUN', 'ADJ', 'ADV']): # filter noun and adjective\n",
    "    output = []\n",
    "    for sent in texts:\n",
    "        doc = nlp(\" \".join(sent)) \n",
    "        output.append([token.lemma_ for token in doc if token.pos_ in tags])\n",
    "    return output"
   ]
  },
  {
   "cell_type": "code",
   "execution_count": null,
   "metadata": {},
   "outputs": [
    {
     "name": "stderr",
     "output_type": "stream",
     "text": [
      "/opt/conda/envs/sds2020/lib/python3.7/site-packages/ipykernel/ipkernel.py:287: DeprecationWarning: `should_run_async` will not call `transform_cell` automatically in the future. Please pass the result to `transformed_cell` argument and any exception that happen during thetransform in `preprocessing_exc_tuple` in IPython 7.17 and above.\n",
      "  and should_run_async(code)\n"
     ]
    }
   ],
   "source": [
    "lemmatized_reviews = lemmatization(tokenized_reviews)\n",
    "re_reviews = []\n",
    "for i in range(len(lemmatized_reviews)):\n",
    "    re_reviews.append(' '.join(lemmatized_reviews[i]))\n",
    "    \n",
    "# add to df_reviews\n",
    "df_reviews['lemmatized_reviews'] = re_reviews"
   ]
  },
  {
   "cell_type": "code",
   "execution_count": null,
   "metadata": {},
   "outputs": [],
   "source": [
    "### word cloud\n",
    "from wordcloud import WordCloud, STOPWORDS, ImageColorGenerator\n",
    "words=[]\n",
    "for i in df_reviews['lemmatized_reviews'].str.split():\n",
    "    for j in i:\n",
    "        if j.isalpha():\n",
    "            words.append(j)\n",
    "string = ' '.join(words)\n",
    "\n",
    "# Create stopword list:\n",
    "stopwords = set(STOPWORDS)\n",
    "stopwords.update([\"food\",\"good\",\"amazing\",\"really\",\"time\",\"way\",\"maybe\",\"restaurant\",\"definitely\",\"thing\",\"well\",\n",
    "                 \"excellent\",\"lot\",\"right\",\"people\",\"probably\",\"hour\",\"day\",\"bad\",\"actually\",\"happy\",\"long\",\"order\",\n",
    "                 \"meal\",\"sure\",\"dish\",\"nice\",\"long\",\"little\",\"place\",\"great\",\"drink\",\"delicious\",\"favorite\"])\n",
    "\n",
    "# Generate a word cloud image\n",
    "wordcloud = WordCloud(max_font_size=50, max_words=300, stopwords=stopwords, background_color=\"rgba(255, 255, 255, 0)\", mode=\"RGBA\").generate(string)\n",
    "\n",
    "# Display the generated image:\n",
    "plt.figure(figsize=(12,6))\n",
    "plt.imshow(wordcloud, interpolation='bilinear')\n",
    "plt.axis(\"off\")\n",
    "#plt.savefig('./image/wordcloud.png', dpi=500, transparent=True)\n",
    "plt.show()"
   ]
  },
  {
   "cell_type": "markdown",
   "metadata": {},
   "source": [
    "#### 1.2.3 Stemming"
   ]
  },
  {
   "cell_type": "code",
   "execution_count": 53,
   "metadata": {},
   "outputs": [
    {
     "name": "stderr",
     "output_type": "stream",
     "text": [
      "/Users/yingchen/opt/anaconda3/lib/python3.8/site-packages/ipykernel/ipkernel.py:287: DeprecationWarning: `should_run_async` will not call `transform_cell` automatically in the future. Please pass the result to `transformed_cell` argument and any exception that happen during thetransform in `preprocessing_exc_tuple` in IPython 7.17 and above.\n",
      "  and should_run_async(code)\n"
     ]
    }
   ],
   "source": [
    "from nltk.stem.porter import PorterStemmer\n",
    "from nltk.stem.snowball import SnowballStemmer\n",
    "\n",
    "# add snowball stemmmer reviews to df\n",
    "df_reviews['split'] = df_reviews['text'].str.split()\n",
    "stemmer = SnowballStemmer(language='english')\n",
    "df_reviews['snowball_reviews'] = df_reviews['split'].apply(lambda x:[stemmer.stem(y) for y in x])\n",
    "\n",
    "snow = []\n",
    "for i in df_reviews['snowball_reviews']:\n",
    "    snow.append(' '.join(i))\n",
    "df_reviews['snowball_reviews'] = snow\n",
    "\n",
    "# remove stopwords from the text\n",
    "reviews = [remove_stopwords(r.split()) for r in df_reviews['snowball_reviews']]\n",
    "df_reviews['snowball_reviews'] = reviews"
   ]
  },
  {
   "cell_type": "code",
   "execution_count": 58,
   "metadata": {},
   "outputs": [
    {
     "name": "stderr",
     "output_type": "stream",
     "text": [
      "/Users/yingchen/opt/anaconda3/lib/python3.8/site-packages/ipykernel/ipkernel.py:287: DeprecationWarning: `should_run_async` will not call `transform_cell` automatically in the future. Please pass the result to `transformed_cell` argument and any exception that happen during thetransform in `preprocessing_exc_tuple` in IPython 7.17 and above.\n",
      "  and should_run_async(code)\n"
     ]
    }
   ],
   "source": [
    "# add PorterStemmer reviews to df\n",
    "stemmer = PorterStemmer()\n",
    "df_reviews['porter_reviews'] = df_reviews['split'].apply(lambda x:[stemmer.stem(y) for y in x])\n",
    "\n",
    "porter = []\n",
    "for i in df_reviews['porter_reviews']:\n",
    "    porter.append(' '.join(i))\n",
    "df_reviews['porter_reviews'] = porter\n",
    "\n",
    "# remove stopwords from the text\n",
    "reviews = [remove_stopwords(r.split()) for r in df_reviews['porter_reviews']]\n",
    "df_reviews['porter_reviews'] = reviews"
   ]
  },
  {
   "cell_type": "markdown",
   "metadata": {},
   "source": [
    "* Compare with the original text"
   ]
  },
  {
   "cell_type": "code",
   "execution_count": 59,
   "metadata": {},
   "outputs": [
    {
     "name": "stderr",
     "output_type": "stream",
     "text": [
      "/Users/yingchen/opt/anaconda3/lib/python3.8/site-packages/ipykernel/ipkernel.py:287: DeprecationWarning: `should_run_async` will not call `transform_cell` automatically in the future. Please pass the result to `transformed_cell` argument and any exception that happen during thetransform in `preprocessing_exc_tuple` in IPython 7.17 and above.\n",
      "  and should_run_async(code)\n"
     ]
    },
    {
     "data": {
      "text/plain": [
       "'Incredible donuts  Sometimes you have to go early to have the full selection but the donuts never disappoint '"
      ]
     },
     "execution_count": 59,
     "metadata": {},
     "output_type": "execute_result"
    }
   ],
   "source": [
    "df_reviews.text[1]"
   ]
  },
  {
   "cell_type": "code",
   "execution_count": 60,
   "metadata": {},
   "outputs": [
    {
     "name": "stderr",
     "output_type": "stream",
     "text": [
      "/Users/yingchen/opt/anaconda3/lib/python3.8/site-packages/ipykernel/ipkernel.py:287: DeprecationWarning: `should_run_async` will not call `transform_cell` automatically in the future. Please pass the result to `transformed_cell` argument and any exception that happen during thetransform in `preprocessing_exc_tuple` in IPython 7.17 and above.\n",
      "  and should_run_async(code)\n"
     ]
    },
    {
     "data": {
      "text/plain": [
       "'incredible donut sometimes early selection donut'"
      ]
     },
     "execution_count": 60,
     "metadata": {},
     "output_type": "execute_result"
    }
   ],
   "source": [
    "df_reviews.lemmatized_reviews[1]"
   ]
  },
  {
   "cell_type": "code",
   "execution_count": 61,
   "metadata": {},
   "outputs": [
    {
     "name": "stderr",
     "output_type": "stream",
     "text": [
      "/Users/yingchen/opt/anaconda3/lib/python3.8/site-packages/ipykernel/ipkernel.py:287: DeprecationWarning: `should_run_async` will not call `transform_cell` automatically in the future. Please pass the result to `transformed_cell` argument and any exception that happen during thetransform in `preprocessing_exc_tuple` in IPython 7.17 and above.\n",
      "  and should_run_async(code)\n"
     ]
    },
    {
     "data": {
      "text/plain": [
       "'incred donut sometim earli select donut disappoint'"
      ]
     },
     "execution_count": 61,
     "metadata": {},
     "output_type": "execute_result"
    }
   ],
   "source": [
    "df_reviews.snowball_reviews[1]"
   ]
  },
  {
   "cell_type": "code",
   "execution_count": 62,
   "metadata": {},
   "outputs": [
    {
     "name": "stderr",
     "output_type": "stream",
     "text": [
      "/Users/yingchen/opt/anaconda3/lib/python3.8/site-packages/ipykernel/ipkernel.py:287: DeprecationWarning: `should_run_async` will not call `transform_cell` automatically in the future. Please pass the result to `transformed_cell` argument and any exception that happen during thetransform in `preprocessing_exc_tuple` in IPython 7.17 and above.\n",
      "  and should_run_async(code)\n"
     ]
    },
    {
     "data": {
      "text/plain": [
       "'incred donut sometim earli select donut disappoint'"
      ]
     },
     "execution_count": 62,
     "metadata": {},
     "output_type": "execute_result"
    }
   ],
   "source": [
    "df_reviews.porter_reviews[1]"
   ]
  },
  {
   "cell_type": "code",
   "execution_count": 63,
   "metadata": {},
   "outputs": [
    {
     "name": "stderr",
     "output_type": "stream",
     "text": [
      "/Users/yingchen/opt/anaconda3/lib/python3.8/site-packages/ipykernel/ipkernel.py:287: DeprecationWarning: `should_run_async` will not call `transform_cell` automatically in the future. Please pass the result to `transformed_cell` argument and any exception that happen during thetransform in `preprocessing_exc_tuple` in IPython 7.17 and above.\n",
      "  and should_run_async(code)\n"
     ]
    },
    {
     "name": "stdout",
     "output_type": "stream",
     "text": [
      "(297993, 13)\n"
     ]
    }
   ],
   "source": [
    "# write to csv file\n",
    "df_reviews.to_csv(csv_file_path,index=False)\n",
    "df_reviews_final = pd.read_csv(csv_file_path)\n",
    "print(df_reviews_final.shape)"
   ]
  },
  {
   "cell_type": "markdown",
   "metadata": {},
   "source": [
    "* Explore Nan Values"
   ]
  },
  {
   "cell_type": "code",
   "execution_count": 65,
   "metadata": {},
   "outputs": [
    {
     "name": "stderr",
     "output_type": "stream",
     "text": [
      "/Users/yingchen/opt/anaconda3/lib/python3.8/site-packages/ipykernel/ipkernel.py:287: DeprecationWarning: `should_run_async` will not call `transform_cell` automatically in the future. Please pass the result to `transformed_cell` argument and any exception that happen during thetransform in `preprocessing_exc_tuple` in IPython 7.17 and above.\n",
      "  and should_run_async(code)\n"
     ]
    },
    {
     "data": {
      "text/html": [
       "<div>\n",
       "<style scoped>\n",
       "    .dataframe tbody tr th:only-of-type {\n",
       "        vertical-align: middle;\n",
       "    }\n",
       "\n",
       "    .dataframe tbody tr th {\n",
       "        vertical-align: top;\n",
       "    }\n",
       "\n",
       "    .dataframe thead th {\n",
       "        text-align: right;\n",
       "    }\n",
       "</style>\n",
       "<table border=\"1\" class=\"dataframe\">\n",
       "  <thead>\n",
       "    <tr style=\"text-align: right;\">\n",
       "      <th></th>\n",
       "      <th>review_id</th>\n",
       "      <th>user_id</th>\n",
       "      <th>business_id</th>\n",
       "      <th>stars</th>\n",
       "      <th>useful</th>\n",
       "      <th>funny</th>\n",
       "      <th>cool</th>\n",
       "      <th>text</th>\n",
       "      <th>date</th>\n",
       "      <th>lemmatized_reviews</th>\n",
       "      <th>split</th>\n",
       "      <th>snowball_reviews</th>\n",
       "      <th>porter_reviews</th>\n",
       "    </tr>\n",
       "  </thead>\n",
       "  <tbody>\n",
       "    <tr>\n",
       "      <th>348</th>\n",
       "      <td>O77zgMU0v-oS5mxmUYa0OA</td>\n",
       "      <td>275b3kiDOhnQOXoytdfokQ</td>\n",
       "      <td>a3eMeyMEXtpAn2QkA9X7nw</td>\n",
       "      <td>1.0</td>\n",
       "      <td>0</td>\n",
       "      <td>0</td>\n",
       "      <td>0</td>\n",
       "      <td>...</td>\n",
       "      <td>2017-05-13 21:55:28</td>\n",
       "      <td>NaN</td>\n",
       "      <td>[]</td>\n",
       "      <td>NaN</td>\n",
       "      <td>NaN</td>\n",
       "    </tr>\n",
       "  </tbody>\n",
       "</table>\n",
       "</div>"
      ],
      "text/plain": [
       "                  review_id                 user_id             business_id  \\\n",
       "348  O77zgMU0v-oS5mxmUYa0OA  275b3kiDOhnQOXoytdfokQ  a3eMeyMEXtpAn2QkA9X7nw   \n",
       "\n",
       "     stars  useful  funny  cool  \\\n",
       "348    1.0       0      0     0   \n",
       "\n",
       "                                                  text                 date  \\\n",
       "348                                                ...  2017-05-13 21:55:28   \n",
       "\n",
       "    lemmatized_reviews split snowball_reviews porter_reviews  \n",
       "348                NaN    []              NaN            NaN  "
      ]
     },
     "execution_count": 65,
     "metadata": {},
     "output_type": "execute_result"
    }
   ],
   "source": [
    "# check the nan values \n",
    "df_reviews_final[df_reviews_final['review_id'] == df_reviews_final[df_reviews_final.snowball_reviews.isnull()].iloc[0].review_id]"
   ]
  },
  {
   "cell_type": "markdown",
   "metadata": {},
   "source": [
    "We can see that nan values appear in lemmatized_reviews and stemmer_reviews are either empty reviews or only symbols or emoji; nan values in lemmatized_reviews appear more because we only keep nouns, adjs, and advs; therefore, all nan values are not important for us and we can delete nan values."
   ]
  },
  {
   "cell_type": "code",
   "execution_count": 66,
   "metadata": {},
   "outputs": [
    {
     "name": "stderr",
     "output_type": "stream",
     "text": [
      "/Users/yingchen/opt/anaconda3/lib/python3.8/site-packages/ipykernel/ipkernel.py:287: DeprecationWarning: `should_run_async` will not call `transform_cell` automatically in the future. Please pass the result to `transformed_cell` argument and any exception that happen during thetransform in `preprocessing_exc_tuple` in IPython 7.17 and above.\n",
      "  and should_run_async(code)\n"
     ]
    },
    {
     "name": "stdout",
     "output_type": "stream",
     "text": [
      "Shape of the Non-Null Portland Restaurant Reviews csv file: (297781, 13)\n"
     ]
    }
   ],
   "source": [
    "df_reviews_final = df_reviews_final.dropna()\n",
    "df_reviews_final.isnull().values.any()\n",
    "df_reviews_final.to_csv(csv_file_path,index=False)\n",
    "print(\"Shape of the Non-Null Portland Restaurant Reviews csv file:\", df_reviews_final.shape)"
   ]
  },
  {
   "cell_type": "markdown",
   "metadata": {},
   "source": [
    "## 2 Theme Exploring\n",
    "* LDA model to see potential themes\n",
    "* Word frequecy to see the themes with high frequency\n",
    "* The person correlation to measure the correlation between themes.If two themes has high correlation coefficient, the high-frequency themes usually would be selected, and the other was deleted"
   ]
  },
  {
   "cell_type": "markdown",
   "metadata": {},
   "source": [
    "###  2.1 LDA Model \n",
    "Parameters of LDA：\n",
    "1. Alpha and Beta Hyperparameters – alpha represents document-topic density and Beta represents topic-word density. \n",
    "    * Higher the value of alpha, documents are composed of more topics and lower the value of alpha, documents contain fewer topics. \n",
    "    * On the other hand, higher the beta, topics are composed of a large number of words in the corpus, and with the lower value of beta, they are composed of few words.\n",
    "\n",
    "2. Number of Topics – Number of topics to be extracted from the corpus. \n",
    "    * Researchers have developed approaches to obtain an optimal number of topics by using Kullback Leibler Divergence Score. \n",
    "\n",
    "3. Number of Topic Terms – Number of terms composed in a single topic. It is generally decided according to the requirement. \n",
    "    * If the problem statement talks about extracting themes or concepts, it is recommended to choose a higher number, \n",
    "    * if problem statement talks about extracting features or terms, a low number is recommended.\n",
    "\n",
    "4. Number of Iterations / passes – Maximum number of iterations allowed to LDA algorithm for convergence."
   ]
  },
  {
   "cell_type": "code",
   "execution_count": 70,
   "metadata": {},
   "outputs": [
    {
     "name": "stderr",
     "output_type": "stream",
     "text": [
      "/Users/yingchen/opt/anaconda3/lib/python3.8/site-packages/ipykernel/ipkernel.py:287: DeprecationWarning: `should_run_async` will not call `transform_cell` automatically in the future. Please pass the result to `transformed_cell` argument and any exception that happen during thetransform in `preprocessing_exc_tuple` in IPython 7.17 and above.\n",
      "  and should_run_async(code)\n"
     ]
    },
    {
     "data": {
      "text/plain": [
       "[(0,\n",
       "  '0.031*\"food\" + 0.030*\"order\" + 0.029*\"time\" + 0.016*\"service\" + 0.016*\"minute\" + 0.016*\"pizza\" + 0.013*\"bad\" + 0.013*\"place\" + 0.012*\"customer\" + 0.011*\"people\"'),\n",
       " (1,\n",
       "  '0.042*\"great\" + 0.036*\"good\" + 0.036*\"place\" + 0.029*\"bar\" + 0.028*\"food\" + 0.023*\"drink\" + 0.022*\"hour\" + 0.021*\"happy\" + 0.017*\"really\" + 0.017*\"nice\"'),\n",
       " (2,\n",
       "  '0.047*\"coffee\" + 0.031*\"cream\" + 0.029*\"tea\" + 0.023*\"ice\" + 0.020*\"flavor\" + 0.019*\"good\" + 0.018*\"sweet\" + 0.014*\"shop\" + 0.014*\"chocolate\" + 0.010*\"cake\"'),\n",
       " (3,\n",
       "  '0.034*\"good\" + 0.019*\"chicken\" + 0.018*\"sauce\" + 0.013*\"flavor\" + 0.013*\"really\" + 0.011*\"meat\" + 0.011*\"place\" + 0.011*\"food\" + 0.011*\"dish\" + 0.010*\"rice\"'),\n",
       " (4,\n",
       "  '0.055*\"food\" + 0.042*\"good\" + 0.039*\"great\" + 0.035*\"place\" + 0.025*\"service\" + 0.018*\"amazing\" + 0.018*\"friendly\" + 0.015*\"definitely\" + 0.013*\"breakfast\" + 0.013*\"time\"'),\n",
       " (5,\n",
       "  '0.027*\"restaurant\" + 0.026*\"table\" + 0.020*\"dinner\" + 0.018*\"experience\" + 0.016*\"server\" + 0.014*\"meal\" + 0.014*\"menu\" + 0.012*\"dish\" + 0.011*\"night\" + 0.011*\"dining\"'),\n",
       " (6,\n",
       "  '0.068*\"burger\" + 0.049*\"beer\" + 0.046*\"fry\" + 0.015*\"outdoor\" + 0.014*\"room\" + 0.014*\"hotel\" + 0.013*\"seating\" + 0.012*\"area\" + 0.010*\"cheese\" + 0.010*\"brewery\"')]"
      ]
     },
     "execution_count": 70,
     "metadata": {},
     "output_type": "execute_result"
    }
   ],
   "source": [
    "# Create the term dictionary of our corpus, where every unique term is assigned an index\n",
    "dictionary = corpora.Dictionary(lemmatized_reviews)\n",
    "\n",
    "# Convert list of reviews into a Document Term Matrix using the dictionary prepared above.\n",
    "doc_term_matrix = [dictionary.doc2bow(rev) for rev in lemmatized_reviews]\n",
    "\n",
    "# Creating the object for LDA model using gensim library\n",
    "LDA = gensim.models.ldamodel.LdaModel\n",
    "\n",
    "# Build LDA model\n",
    "lda_model = LDA(corpus=doc_term_matrix,\n",
    "                id2word=dictionary,\n",
    "                num_topics=7)\n",
    "# print topics\n",
    "lda_model.print_topics()"
   ]
  },
  {
   "cell_type": "markdown",
   "metadata": {},
   "source": [
    "#### 2.1.1 LDA Model with different star"
   ]
  },
  {
   "cell_type": "markdown",
   "metadata": {},
   "source": [
    "##### LDA for Star 1: topics = 7"
   ]
  },
  {
   "cell_type": "code",
   "execution_count": null,
   "metadata": {},
   "outputs": [],
   "source": [
    "# prepare star1 reviews for the LDA model\n",
    "df_star1 = df_reviews_final[df_reviews_final['stars'] == 1.0]\n",
    "\n",
    "def join_sentence (rev):\n",
    "    rev_new = \" \".join([i for i in rev])\n",
    "    return rev_new\n",
    "star1_reviews = [join_sentence(r.split()) for r in df_star1['lemmatized_reviews']]\n",
    "tokenized_star1 = pd.Series(star1_reviews).apply(lambda x: x.split())"
   ]
  },
  {
   "cell_type": "code",
   "execution_count": 78,
   "metadata": {},
   "outputs": [
    {
     "name": "stderr",
     "output_type": "stream",
     "text": [
      "/Users/yingchen/opt/anaconda3/lib/python3.8/site-packages/ipykernel/ipkernel.py:287: DeprecationWarning: `should_run_async` will not call `transform_cell` automatically in the future. Please pass the result to `transformed_cell` argument and any exception that happen during thetransform in `preprocessing_exc_tuple` in IPython 7.17 and above.\n",
      "  and should_run_async(code)\n"
     ]
    },
    {
     "data": {
      "text/plain": [
       "[(0,\n",
       "  '0.019*\"customer\" + 0.016*\"friend\" + 0.015*\"bar\" + 0.015*\"time\" + 0.015*\"people\" + 0.013*\"service\" + 0.012*\"place\" + 0.012*\"food\" + 0.011*\"rude\" + 0.010*\"bartender\"'),\n",
       " (1,\n",
       "  '0.025*\"food\" + 0.023*\"chicken\" + 0.020*\"good\" + 0.017*\"place\" + 0.016*\"bad\" + 0.013*\"sauce\" + 0.012*\"flavor\" + 0.011*\"meat\" + 0.010*\"restaurant\" + 0.010*\"taste\"'),\n",
       " (2,\n",
       "  '0.057*\"order\" + 0.032*\"food\" + 0.029*\"time\" + 0.022*\"service\" + 0.017*\"customer\" + 0.016*\"place\" + 0.011*\"bad\" + 0.011*\"minute\" + 0.010*\"location\" + 0.009*\"wrong\"'),\n",
       " (3,\n",
       "  '0.028*\"table\" + 0.027*\"food\" + 0.026*\"minute\" + 0.024*\"service\" + 0.023*\"time\" + 0.020*\"order\" + 0.016*\"server\" + 0.014*\"restaurant\" + 0.014*\"place\" + 0.011*\"hour\"'),\n",
       " (4,\n",
       "  '0.060*\"food\" + 0.028*\"place\" + 0.019*\"good\" + 0.015*\"bad\" + 0.013*\"time\" + 0.012*\"egg\" + 0.012*\"really\" + 0.010*\"service\" + 0.009*\"restaurant\" + 0.008*\"cold\"'),\n",
       " (5,\n",
       "  '0.033*\"burger\" + 0.021*\"fry\" + 0.021*\"room\" + 0.014*\"hotel\" + 0.011*\"hour\" + 0.010*\"reservation\" + 0.010*\"day\" + 0.009*\"restaurant\" + 0.009*\"price\" + 0.008*\"night\"'),\n",
       " (6,\n",
       "  '0.053*\"pizza\" + 0.014*\"cheese\" + 0.013*\"delivery\" + 0.010*\"time\" + 0.009*\"sandwich\" + 0.009*\"sauce\" + 0.009*\"customer\" + 0.008*\"good\" + 0.008*\"bread\" + 0.008*\"slice\"')]"
      ]
     },
     "execution_count": 78,
     "metadata": {},
     "output_type": "execute_result"
    }
   ],
   "source": [
    "# Create the term dictionary of our corpus, where every unique term is assigned an index\n",
    "dictionary = corpora.Dictionary(tokenized_star1)\n",
    "\n",
    "# Convert list of reviews into a Document Term Matrix using the dictionary prepared above.\n",
    "doc_term_matrix = [dictionary.doc2bow(rev) for rev in tokenized_star1]\n",
    "\n",
    "# Creating the object for LDA model using gensim library\n",
    "LDA = gensim.models.ldamodel.LdaModel\n",
    "\n",
    "# Build LDA model\n",
    "lda_model = LDA(corpus=doc_term_matrix,\n",
    "                id2word=dictionary,\n",
    "                num_topics=7)\n",
    "# print topics\n",
    "lda_model.print_topics()"
   ]
  },
  {
   "cell_type": "markdown",
   "metadata": {},
   "source": [
    "##### LDA for Star 5: topics = 7"
   ]
  },
  {
   "cell_type": "code",
   "execution_count": null,
   "metadata": {},
   "outputs": [],
   "source": [
    "# prepare star5 reviews for the LDA model\n",
    "df_star5 = df_reviews_final[df_reviews_final['stars'] == 5.0]\n",
    "\n",
    "def join_sentence (rev):\n",
    "    rev_new = \" \".join([i for i in rev])\n",
    "    return rev_new\n",
    "star5_reviews = [join_sentence(r.split()) for r in df_star5['lemmatized_reviews']]\n",
    "tokenized_star5 = pd.Series(star5_reviews).apply(lambda x: x.split())#### LDA for Star 5: topics = 5"
   ]
  },
  {
   "cell_type": "code",
   "execution_count": 84,
   "metadata": {},
   "outputs": [
    {
     "name": "stderr",
     "output_type": "stream",
     "text": [
      "/Users/yingchen/opt/anaconda3/lib/python3.8/site-packages/ipykernel/ipkernel.py:287: DeprecationWarning: `should_run_async` will not call `transform_cell` automatically in the future. Please pass the result to `transformed_cell` argument and any exception that happen during thetransform in `preprocessing_exc_tuple` in IPython 7.17 and above.\n",
      "  and should_run_async(code)\n"
     ]
    },
    {
     "data": {
      "text/plain": [
       "[(0,\n",
       "  '0.085*\"pizza\" + 0.069*\"biscuit\" + 0.029*\"good\" + 0.020*\"slice\" + 0.019*\"pie\" + 0.019*\"crust\" + 0.015*\"reggie\" + 0.013*\"egg\" + 0.012*\"cheese\" + 0.011*\"hash\"'),\n",
       " (1,\n",
       "  '0.020*\"flavor\" + 0.017*\"cream\" + 0.013*\"good\" + 0.012*\"ice\" + 0.011*\"sweet\" + 0.010*\"beer\" + 0.009*\"chocolate\" + 0.008*\"really\" + 0.007*\"cake\" + 0.006*\"little\"'),\n",
       " (2,\n",
       "  '0.060*\"good\" + 0.026*\"food\" + 0.022*\"place\" + 0.021*\"sauce\" + 0.021*\"chicken\" + 0.020*\"burger\" + 0.017*\"sandwich\" + 0.014*\"really\" + 0.013*\"meat\" + 0.012*\"amazing\"'),\n",
       " (3,\n",
       "  '0.066*\"food\" + 0.062*\"great\" + 0.041*\"service\" + 0.038*\"place\" + 0.037*\"good\" + 0.021*\"friendly\" + 0.020*\"amazing\" + 0.018*\"staff\" + 0.014*\"definitely\" + 0.014*\"time\"'),\n",
       " (4,\n",
       "  '0.027*\"place\" + 0.023*\"coffee\" + 0.022*\"breakfast\" + 0.019*\"good\" + 0.019*\"great\" + 0.014*\"friendly\" + 0.013*\"nice\" + 0.012*\"staff\" + 0.010*\"really\" + 0.010*\"time\"'),\n",
       " (5,\n",
       "  '0.025*\"good\" + 0.019*\"dish\" + 0.019*\"chicken\" + 0.018*\"noodle\" + 0.018*\"food\" + 0.018*\"spicy\" + 0.016*\"rice\" + 0.015*\"place\" + 0.015*\"fresh\" + 0.014*\"flavor\"'),\n",
       " (6,\n",
       "  '0.024*\"time\" + 0.015*\"restaurant\" + 0.015*\"order\" + 0.014*\"food\" + 0.013*\"menu\" + 0.012*\"meal\" + 0.012*\"table\" + 0.012*\"dish\" + 0.010*\"dinner\" + 0.010*\"long\"')]"
      ]
     },
     "execution_count": 84,
     "metadata": {},
     "output_type": "execute_result"
    }
   ],
   "source": [
    "# Create the term dictionary of our corpus, where every unique term is assigned an index\n",
    "dictionary = corpora.Dictionary(tokenized_star5)\n",
    "\n",
    "# Convert list of reviews into a Document Term Matrix using the dictionary prepared above.\n",
    "doc_term_matrix = [dictionary.doc2bow(rev) for rev in tokenized_star5]\n",
    "\n",
    "# Creating the object for LDA model using gensim library\n",
    "LDA = gensim.models.ldamodel.LdaModel\n",
    "\n",
    "# Build LDA model\n",
    "lda_model = LDA(corpus=doc_term_matrix,\n",
    "                id2word=dictionary,\n",
    "                num_topics=7)\n",
    "# print topics\n",
    "lda_model.print_topics()"
   ]
  },
  {
   "cell_type": "markdown",
   "metadata": {},
   "source": [
    "### 2.2 Word Frequency\n",
    "* LDA has explored several categories of topics for us. These categories are not unique. \n",
    "  They are still general words, which are different from the atmosphere we want to find. \n",
    "* SO we still need to back to word frequency, and find atmosphere characteristic words with high frequency"
   ]
  },
  {
   "cell_type": "code",
   "execution_count": 5,
   "metadata": {},
   "outputs": [],
   "source": [
    "# the dataset is from the result above\n",
    "df_review=pd.read_csv('./Data/yelp_review_portland.csv',low_memory=False)"
   ]
  },
  {
   "cell_type": "code",
   "execution_count": 6,
   "metadata": {},
   "outputs": [
    {
     "data": {
      "text/html": [
       "<div>\n",
       "<style scoped>\n",
       "    .dataframe tbody tr th:only-of-type {\n",
       "        vertical-align: middle;\n",
       "    }\n",
       "\n",
       "    .dataframe tbody tr th {\n",
       "        vertical-align: top;\n",
       "    }\n",
       "\n",
       "    .dataframe thead th {\n",
       "        text-align: right;\n",
       "    }\n",
       "</style>\n",
       "<table border=\"1\" class=\"dataframe\">\n",
       "  <thead>\n",
       "    <tr style=\"text-align: right;\">\n",
       "      <th></th>\n",
       "      <th>review_id</th>\n",
       "      <th>user_id</th>\n",
       "      <th>business_id</th>\n",
       "      <th>stars</th>\n",
       "      <th>useful</th>\n",
       "      <th>funny</th>\n",
       "      <th>cool</th>\n",
       "      <th>text</th>\n",
       "      <th>date</th>\n",
       "      <th>split</th>\n",
       "      <th>snowball_reviews</th>\n",
       "    </tr>\n",
       "  </thead>\n",
       "  <tbody>\n",
       "    <tr>\n",
       "      <th>0</th>\n",
       "      <td>lJ7rzbvT-l8KO8lHfEsXsg</td>\n",
       "      <td>LV1ME-ibA2h0IGyFUUWhaQ</td>\n",
       "      <td>H_RM2u1WWGU1HkKZrYq2Ow</td>\n",
       "      <td>5.0</td>\n",
       "      <td>0</td>\n",
       "      <td>0</td>\n",
       "      <td>0</td>\n",
       "      <td>Incredible donuts  Sometimes you have to go ea...</td>\n",
       "      <td>2017-08-07 19:34:13</td>\n",
       "      <td>['Incredible', 'donuts', 'Sometimes', 'you', '...</td>\n",
       "      <td>incred donut sometim earli select donut disapp...</td>\n",
       "    </tr>\n",
       "    <tr>\n",
       "      <th>1</th>\n",
       "      <td>EO5rALvJMkK8QEvUNs1gxg</td>\n",
       "      <td>u2xPfv6_wcKt-lW-C1cV8A</td>\n",
       "      <td>9P-lp3AWDXGayDqJz9VPwQ</td>\n",
       "      <td>2.0</td>\n",
       "      <td>0</td>\n",
       "      <td>0</td>\n",
       "      <td>0</td>\n",
       "      <td>The ramen here is less than great  It came out...</td>\n",
       "      <td>2018-02-11 03:30:12</td>\n",
       "      <td>['The', 'ramen', 'here', 'is', 'less', 'than',...</td>\n",
       "      <td>ramen great came luke warm oili servic receiv ...</td>\n",
       "    </tr>\n",
       "    <tr>\n",
       "      <th>2</th>\n",
       "      <td>T6EtnGwJqhFgZXyIBjRksw</td>\n",
       "      <td>EdR5dIPOK9fR_IFGcTCxZA</td>\n",
       "      <td>X9sz3xeaLujW9PhsSLCQyg</td>\n",
       "      <td>5.0</td>\n",
       "      <td>0</td>\n",
       "      <td>0</td>\n",
       "      <td>0</td>\n",
       "      <td>Realize this is a small cafe local hang out   ...</td>\n",
       "      <td>2017-12-02 20:03:04</td>\n",
       "      <td>['Realize', 'this', 'is', 'a', 'small', 'cafe'...</td>\n",
       "      <td>realiz small cafe local hang wow food big surp...</td>\n",
       "    </tr>\n",
       "  </tbody>\n",
       "</table>\n",
       "</div>"
      ],
      "text/plain": [
       "                review_id                 user_id             business_id  \\\n",
       "0  lJ7rzbvT-l8KO8lHfEsXsg  LV1ME-ibA2h0IGyFUUWhaQ  H_RM2u1WWGU1HkKZrYq2Ow   \n",
       "1  EO5rALvJMkK8QEvUNs1gxg  u2xPfv6_wcKt-lW-C1cV8A  9P-lp3AWDXGayDqJz9VPwQ   \n",
       "2  T6EtnGwJqhFgZXyIBjRksw  EdR5dIPOK9fR_IFGcTCxZA  X9sz3xeaLujW9PhsSLCQyg   \n",
       "\n",
       "   stars  useful  funny  cool  \\\n",
       "0    5.0       0      0     0   \n",
       "1    2.0       0      0     0   \n",
       "2    5.0       0      0     0   \n",
       "\n",
       "                                                text                 date  \\\n",
       "0  Incredible donuts  Sometimes you have to go ea...  2017-08-07 19:34:13   \n",
       "1  The ramen here is less than great  It came out...  2018-02-11 03:30:12   \n",
       "2  Realize this is a small cafe local hang out   ...  2017-12-02 20:03:04   \n",
       "\n",
       "                                               split  \\\n",
       "0  ['Incredible', 'donuts', 'Sometimes', 'you', '...   \n",
       "1  ['The', 'ramen', 'here', 'is', 'less', 'than',...   \n",
       "2  ['Realize', 'this', 'is', 'a', 'small', 'cafe'...   \n",
       "\n",
       "                                    snowball_reviews  \n",
       "0  incred donut sometim earli select donut disapp...  \n",
       "1  ramen great came luke warm oili servic receiv ...  \n",
       "2  realiz small cafe local hang wow food big surp...  "
      ]
     },
     "execution_count": 6,
     "metadata": {},
     "output_type": "execute_result"
    }
   ],
   "source": [
    "pd.set_option('display.max_columns',None)\n",
    "df_review.head(3)"
   ]
  },
  {
   "cell_type": "code",
   "execution_count": 7,
   "metadata": {},
   "outputs": [
    {
     "data": {
      "text/html": [
       "<div>\n",
       "<style scoped>\n",
       "    .dataframe tbody tr th:only-of-type {\n",
       "        vertical-align: middle;\n",
       "    }\n",
       "\n",
       "    .dataframe tbody tr th {\n",
       "        vertical-align: top;\n",
       "    }\n",
       "\n",
       "    .dataframe thead th {\n",
       "        text-align: right;\n",
       "    }\n",
       "</style>\n",
       "<table border=\"1\" class=\"dataframe\">\n",
       "  <thead>\n",
       "    <tr style=\"text-align: right;\">\n",
       "      <th></th>\n",
       "      <th>word</th>\n",
       "      <th>counts</th>\n",
       "    </tr>\n",
       "  </thead>\n",
       "  <tbody>\n",
       "    <tr>\n",
       "      <th>22</th>\n",
       "      <td>food</td>\n",
       "      <td>198275</td>\n",
       "    </tr>\n",
       "    <tr>\n",
       "      <th>35</th>\n",
       "      <td>place</td>\n",
       "      <td>155082</td>\n",
       "    </tr>\n",
       "    <tr>\n",
       "      <th>14</th>\n",
       "      <td>good</td>\n",
       "      <td>152430</td>\n",
       "    </tr>\n",
       "    <tr>\n",
       "      <th>113</th>\n",
       "      <td>order</td>\n",
       "      <td>128228</td>\n",
       "    </tr>\n",
       "    <tr>\n",
       "      <th>7</th>\n",
       "      <td>great</td>\n",
       "      <td>123543</td>\n",
       "    </tr>\n",
       "    <tr>\n",
       "      <th>79</th>\n",
       "      <td>like</td>\n",
       "      <td>97623</td>\n",
       "    </tr>\n",
       "    <tr>\n",
       "      <th>233</th>\n",
       "      <td>veri</td>\n",
       "      <td>95772</td>\n",
       "    </tr>\n",
       "    <tr>\n",
       "      <th>93</th>\n",
       "      <td>time</td>\n",
       "      <td>95547</td>\n",
       "    </tr>\n",
       "    <tr>\n",
       "      <th>12</th>\n",
       "      <td>servic</td>\n",
       "      <td>92044</td>\n",
       "    </tr>\n",
       "    <tr>\n",
       "      <th>39</th>\n",
       "      <td>tri</td>\n",
       "      <td>77391</td>\n",
       "    </tr>\n",
       "    <tr>\n",
       "      <th>102</th>\n",
       "      <td>friend</td>\n",
       "      <td>73143</td>\n",
       "    </tr>\n",
       "    <tr>\n",
       "      <th>185</th>\n",
       "      <td>love</td>\n",
       "      <td>72517</td>\n",
       "    </tr>\n",
       "    <tr>\n",
       "      <th>84</th>\n",
       "      <td>realli</td>\n",
       "      <td>69276</td>\n",
       "    </tr>\n",
       "    <tr>\n",
       "      <th>169</th>\n",
       "      <td>delici</td>\n",
       "      <td>65476</td>\n",
       "    </tr>\n",
       "    <tr>\n",
       "      <th>58</th>\n",
       "      <td>portland</td>\n",
       "      <td>63066</td>\n",
       "    </tr>\n",
       "    <tr>\n",
       "      <th>206</th>\n",
       "      <td>come</td>\n",
       "      <td>62593</td>\n",
       "    </tr>\n",
       "    <tr>\n",
       "      <th>205</th>\n",
       "      <td>wait</td>\n",
       "      <td>59384</td>\n",
       "    </tr>\n",
       "    <tr>\n",
       "      <th>198</th>\n",
       "      <td>got</td>\n",
       "      <td>57297</td>\n",
       "    </tr>\n",
       "    <tr>\n",
       "      <th>143</th>\n",
       "      <td>chicken</td>\n",
       "      <td>56439</td>\n",
       "    </tr>\n",
       "    <tr>\n",
       "      <th>26</th>\n",
       "      <td>flavor</td>\n",
       "      <td>55036</td>\n",
       "    </tr>\n",
       "  </tbody>\n",
       "</table>\n",
       "</div>"
      ],
      "text/plain": [
       "         word  counts\n",
       "22       food  198275\n",
       "35      place  155082\n",
       "14       good  152430\n",
       "113     order  128228\n",
       "7       great  123543\n",
       "79       like   97623\n",
       "233      veri   95772\n",
       "93       time   95547\n",
       "12     servic   92044\n",
       "39        tri   77391\n",
       "102    friend   73143\n",
       "185      love   72517\n",
       "84     realli   69276\n",
       "169    delici   65476\n",
       "58   portland   63066\n",
       "206      come   62593\n",
       "205      wait   59384\n",
       "198       got   57297\n",
       "143   chicken   56439\n",
       "26     flavor   55036"
      ]
     },
     "execution_count": 7,
     "metadata": {},
     "output_type": "execute_result"
    }
   ],
   "source": [
    "from collections import Counter\n",
    "words=[]\n",
    "for i in df_review['snowball_reviews'].str.split():\n",
    "    for j in i:\n",
    "        if j.isalpha():\n",
    "            words.append(j)\n",
    "counts = Counter(words)\n",
    "df_counts = pd.DataFrame.from_dict(counts, orient='index',columns=['counts']).reset_index()\n",
    "df_counts.rename(columns={'index':'word'}, inplace=True)\n",
    "df_counts.sort_values(by=['counts'],ascending=False,inplace=True)\n",
    "df_counts.head(20)"
   ]
  },
  {
   "cell_type": "markdown",
   "metadata": {},
   "source": [
    "#### 2.3 Regular Expression\n",
    "* After exploring the word frequncy, we select seveal words with atmosphere characteristics, and words with similar meanings are divided into the same theme. \n",
    "* And we calculate the rate of each themes in each restaurant, which is (the number of reviews contains theme words) / (the number of reviews of this restaurant).\n",
    "* We try to use \"rate\" to test theme indensity. The higher the intensity of the theme, the higher the probability of the theme appears in this restaurant's reviews, which means that the stronger the atmosphere of the theme."
   ]
  },
  {
   "cell_type": "code",
   "execution_count": 8,
   "metadata": {},
   "outputs": [
    {
     "data": {
      "text/html": [
       "<div>\n",
       "<style scoped>\n",
       "    .dataframe tbody tr th:only-of-type {\n",
       "        vertical-align: middle;\n",
       "    }\n",
       "\n",
       "    .dataframe tbody tr th {\n",
       "        vertical-align: top;\n",
       "    }\n",
       "\n",
       "    .dataframe thead th {\n",
       "        text-align: right;\n",
       "    }\n",
       "</style>\n",
       "<table border=\"1\" class=\"dataframe\">\n",
       "  <thead>\n",
       "    <tr style=\"text-align: right;\">\n",
       "      <th></th>\n",
       "      <th>business_id</th>\n",
       "      <th>name</th>\n",
       "      <th>address</th>\n",
       "      <th>city</th>\n",
       "      <th>state</th>\n",
       "      <th>latitude</th>\n",
       "      <th>longitude</th>\n",
       "      <th>stars</th>\n",
       "      <th>review_count</th>\n",
       "      <th>is_open</th>\n",
       "      <th>attributes</th>\n",
       "      <th>categories</th>\n",
       "      <th>number_of_reviews</th>\n",
       "    </tr>\n",
       "  </thead>\n",
       "  <tbody>\n",
       "    <tr>\n",
       "      <th>0</th>\n",
       "      <td>tCbdrRPZA0oiIYSmHG3J0w</td>\n",
       "      <td>Flying Elephants at PDX</td>\n",
       "      <td>7000 NE Airport Way</td>\n",
       "      <td>Portland</td>\n",
       "      <td>OR</td>\n",
       "      <td>45.588906</td>\n",
       "      <td>-122.593331</td>\n",
       "      <td>4.0</td>\n",
       "      <td>126</td>\n",
       "      <td>1</td>\n",
       "      <td>{'RestaurantsTakeOut': 'True', 'RestaurantsAtt...</td>\n",
       "      <td>Salad, Soup, Sandwiches, Delis, Restaurants, C...</td>\n",
       "      <td>35.0</td>\n",
       "    </tr>\n",
       "    <tr>\n",
       "      <th>1</th>\n",
       "      <td>jx91IMdGOmLOo8h_F9z39g</td>\n",
       "      <td>Cleary's Restaurant &amp; Spirits</td>\n",
       "      <td>12429 NE Glisan St</td>\n",
       "      <td>Portland</td>\n",
       "      <td>OR</td>\n",
       "      <td>45.526473</td>\n",
       "      <td>-122.535323</td>\n",
       "      <td>3.5</td>\n",
       "      <td>19</td>\n",
       "      <td>1</td>\n",
       "      <td>{'RestaurantsGoodForGroups': 'True', 'Alcohol'...</td>\n",
       "      <td>Nightlife, Sandwiches, Seafood, Restaurants</td>\n",
       "      <td>9.0</td>\n",
       "    </tr>\n",
       "  </tbody>\n",
       "</table>\n",
       "</div>"
      ],
      "text/plain": [
       "              business_id                           name              address  \\\n",
       "0  tCbdrRPZA0oiIYSmHG3J0w        Flying Elephants at PDX  7000 NE Airport Way   \n",
       "1  jx91IMdGOmLOo8h_F9z39g  Cleary's Restaurant & Spirits   12429 NE Glisan St   \n",
       "\n",
       "       city state   latitude   longitude  stars  review_count  is_open  \\\n",
       "0  Portland    OR  45.588906 -122.593331    4.0           126        1   \n",
       "1  Portland    OR  45.526473 -122.535323    3.5            19        1   \n",
       "\n",
       "                                          attributes  \\\n",
       "0  {'RestaurantsTakeOut': 'True', 'RestaurantsAtt...   \n",
       "1  {'RestaurantsGoodForGroups': 'True', 'Alcohol'...   \n",
       "\n",
       "                                          categories  number_of_reviews  \n",
       "0  Salad, Soup, Sandwiches, Delis, Restaurants, C...               35.0  \n",
       "1        Nightlife, Sandwiches, Seafood, Restaurants                9.0  "
      ]
     },
     "execution_count": 8,
     "metadata": {},
     "output_type": "execute_result"
    }
   ],
   "source": [
    "#calculate the number of reviews from review file\n",
    "reviews_count = df_review.groupby('business_id').agg({'snowball_reviews':['count']}).reset_index()\n",
    "reviews_count.columns = reviews_count.columns.get_level_values(1)\n",
    "reviews_count.rename(columns={'':'business_id','count':'number_of_reviews'}, inplace=True)\n",
    "\n",
    "#merge the number of reviews  to businiess file\n",
    "df_restaurant = pd.merge(df_business, reviews_count, how= 'left',  left_on  = 'business_id',  right_on = 'business_id').fillna(0)\n",
    "#drop NO Review\n",
    "df_restaurant.drop(index=df_restaurant[(df_restaurant.number_of_reviews==0)].index, inplace=True)\n",
    "df_restaurant.head(2)"
   ]
  },
  {
   "cell_type": "code",
   "execution_count": 9,
   "metadata": {},
   "outputs": [],
   "source": [
    "import re\n",
    "\n",
    "liquor = df_review[df_review.snowball_reviews.str.contains(r'(?:beer|wine|cocktail|vodka|martini|liquor)', regex=True, flags=re.IGNORECASE)].groupby('business_id').agg({'snowball_reviews':['count']}).reset_index()\n",
    "liquor.columns = liquor.columns.get_level_values(1)\n",
    "liquor.rename(columns={'':'business_id', 'count':'liquor_counts'}, inplace=True)\n",
    "df_restaurant = pd.merge(df_restaurant, liquor, how= 'left',  left_on  = 'business_id',  right_on = 'business_id').fillna(0)   \n",
    "df_restaurant['liquor_rate']=df_restaurant['liquor_counts']/df_restaurant['number_of_reviews']\n",
    "\n",
    "vegan = df_review[df_review.snowball_reviews.str.contains(r'(?:vegan|vege)', regex=True, flags=re.IGNORECASE)].groupby('business_id').agg({'snowball_reviews':['count']}).reset_index()\n",
    "vegan.columns = vegan.columns.get_level_values(1)\n",
    "vegan.rename(columns={'':'business_id', 'count':'vegan_counts'}, inplace=True)\n",
    "df_restaurant = pd.merge(df_restaurant, vegan, how= 'left',  left_on  = 'business_id',  right_on = 'business_id').fillna(0)   \n",
    "df_restaurant['vegan_rate']=df_restaurant['vegan_counts']/df_restaurant['number_of_reviews']\n",
    "\n",
    "romance = df_review[df_review.snowball_reviews.str.contains(r'(?:romant|romantic|romanc|romant|intima|dating|anniversary|boyfriend|girlfriend|lover|love)', regex=True, flags=re.IGNORECASE)].groupby('business_id').agg({'snowball_reviews':['count']}).reset_index()\n",
    "romance.columns =romance.columns.get_level_values(1)\n",
    "romance.rename(columns={'':'business_id', 'count':'romance_counts'}, inplace=True)\n",
    "df_restaurant = pd.merge(df_restaurant,romance, how= 'left',  left_on  = 'business_id',  right_on = 'business_id').fillna(0)  \n",
    "df_restaurant['romance_rate']=df_restaurant['romance_counts']/df_restaurant['number_of_reviews']\n",
    "\n"
   ]
  },
  {
   "cell_type": "code",
   "execution_count": 10,
   "metadata": {},
   "outputs": [],
   "source": [
    "student = df_review[df_review.snowball_reviews.str.contains(r'(?:student|young|classmat|pupil|school)', regex=True, flags=re.IGNORECASE)].groupby('business_id').agg({'snowball_reviews':['count']}).reset_index()\n",
    "student.columns =student.columns.get_level_values(1)\n",
    "student.rename(columns={'':'business_id', 'count':'student_counts'}, inplace=True)\n",
    "df_restaurant = pd.merge(df_restaurant,student, how= 'left',  left_on  = 'business_id',  right_on = 'business_id').fillna(0)  \n",
    "df_restaurant['student_rate']=df_restaurant['student_counts']/df_restaurant['number_of_reviews']\n",
    "\n",
    "outdoor = df_review[df_review.snowball_reviews.str.contains(r'(?:outdoor|patio)', regex=True, flags=re.IGNORECASE)].groupby('business_id').agg({'snowball_reviews':['count']}).reset_index()\n",
    "outdoor.columns =outdoor.columns.get_level_values(1)\n",
    "outdoor.rename(columns={'':'business_id', 'count':'outdoor_counts'}, inplace=True)\n",
    "df_restaurant = pd.merge(df_restaurant,outdoor, how= 'left',  left_on  = 'business_id',  right_on = 'business_id').fillna(0)  \n",
    "df_restaurant['outdoor_rate']=df_restaurant['outdoor_counts']/df_restaurant['number_of_reviews']\n",
    "\n",
    "family = df_review[df_review.snowball_reviews.str.contains(r'(?:kid|child|famili)', regex=True, flags=re.IGNORECASE)].groupby('business_id').agg({'snowball_reviews':['count']}).reset_index()\n",
    "family.columns =family.columns.get_level_values(1)\n",
    "family.rename(columns={'':'business_id', 'count':'family_counts'}, inplace=True)\n",
    "df_restaurant = pd.merge(df_restaurant,family, how= 'left',  left_on  = 'business_id',  right_on = 'business_id').fillna(0)  \n",
    "df_restaurant['family_rate']=df_restaurant['family_counts']/df_restaurant['number_of_reviews']\n"
   ]
  },
  {
   "cell_type": "code",
   "execution_count": 11,
   "metadata": {},
   "outputs": [],
   "source": [
    "music = df_review[df_review.snowball_reviews.str.contains(r'(?:music)', regex=True, flags=re.IGNORECASE)].groupby('business_id').agg({'snowball_reviews':['count']}).reset_index()\n",
    "music.columns =music.columns.get_level_values(1)\n",
    "music.rename(columns={'':'business_id', 'count':'music_counts'}, inplace=True)\n",
    "df_restaurant = pd.merge(df_restaurant,music, how= 'left',  left_on  = 'business_id',  right_on = 'business_id').fillna(0)  \n",
    "df_restaurant['music_rate']=df_restaurant['music_counts']/df_restaurant['number_of_reviews']\n",
    "\n",
    "classy = df_review[df_review.snowball_reviews.str.contains(r'(?:classi|upscal|moder|creativ|trend|trendi|classic|cozi|cosi)', regex=True, flags=re.IGNORECASE)].groupby('business_id').agg({'snowball_reviews':['count']}).reset_index()\n",
    "classy.columns =classy.columns.get_level_values(1)\n",
    "classy.rename(columns={'':'business_id', 'count':'classy_counts'}, inplace=True)\n",
    "df_restaurant = pd.merge(df_restaurant,classy, how= 'left',  left_on  = 'business_id',  right_on = 'business_id').fillna(0)  \n",
    "df_restaurant['classy_rate']=df_restaurant['classy_counts']/df_restaurant['number_of_reviews']\n",
    "\n",
    "tourist = df_review[df_review.snowball_reviews.str.contains(r'(?:tourist|tourism|touristi)', regex=True, flags=re.IGNORECASE)].groupby('business_id').agg({'snowball_reviews':['count']}).reset_index()\n",
    "tourist.columns =tourist.columns.get_level_values(1)\n",
    "tourist.rename(columns={'':'business_id', 'count':'tourist_counts'}, inplace=True)\n",
    "df_restaurant = pd.merge(df_restaurant,tourist, how= 'left',  left_on  = 'business_id',  right_on = 'business_id').fillna(0)  \n",
    "df_restaurant['tourist_rate']=df_restaurant['tourist_counts']/df_restaurant['number_of_reviews']"
   ]
  },
  {
   "cell_type": "code",
   "execution_count": 12,
   "metadata": {},
   "outputs": [
    {
     "data": {
      "text/html": [
       "<div>\n",
       "<style scoped>\n",
       "    .dataframe tbody tr th:only-of-type {\n",
       "        vertical-align: middle;\n",
       "    }\n",
       "\n",
       "    .dataframe tbody tr th {\n",
       "        vertical-align: top;\n",
       "    }\n",
       "\n",
       "    .dataframe thead th {\n",
       "        text-align: right;\n",
       "    }\n",
       "</style>\n",
       "<table border=\"1\" class=\"dataframe\">\n",
       "  <thead>\n",
       "    <tr style=\"text-align: right;\">\n",
       "      <th></th>\n",
       "      <th>business_id</th>\n",
       "      <th>name</th>\n",
       "      <th>address</th>\n",
       "      <th>city</th>\n",
       "      <th>state</th>\n",
       "      <th>latitude</th>\n",
       "      <th>longitude</th>\n",
       "      <th>stars</th>\n",
       "      <th>review_count</th>\n",
       "      <th>is_open</th>\n",
       "      <th>attributes</th>\n",
       "      <th>categories</th>\n",
       "      <th>number_of_reviews</th>\n",
       "      <th>liquor_counts</th>\n",
       "      <th>liquor_rate</th>\n",
       "      <th>vegan_counts</th>\n",
       "      <th>vegan_rate</th>\n",
       "      <th>romance_counts</th>\n",
       "      <th>romance_rate</th>\n",
       "      <th>student_counts</th>\n",
       "      <th>student_rate</th>\n",
       "      <th>outdoor_counts</th>\n",
       "      <th>outdoor_rate</th>\n",
       "      <th>family_counts</th>\n",
       "      <th>family_rate</th>\n",
       "      <th>music_counts</th>\n",
       "      <th>music_rate</th>\n",
       "      <th>classy_counts</th>\n",
       "      <th>classy_rate</th>\n",
       "      <th>tourist_counts</th>\n",
       "      <th>tourist_rate</th>\n",
       "    </tr>\n",
       "  </thead>\n",
       "  <tbody>\n",
       "    <tr>\n",
       "      <th>0</th>\n",
       "      <td>tCbdrRPZA0oiIYSmHG3J0w</td>\n",
       "      <td>Flying Elephants at PDX</td>\n",
       "      <td>7000 NE Airport Way</td>\n",
       "      <td>Portland</td>\n",
       "      <td>OR</td>\n",
       "      <td>45.588906</td>\n",
       "      <td>-122.593331</td>\n",
       "      <td>4.0</td>\n",
       "      <td>126</td>\n",
       "      <td>1</td>\n",
       "      <td>{'RestaurantsTakeOut': 'True', 'RestaurantsAtt...</td>\n",
       "      <td>Salad, Soup, Sandwiches, Delis, Restaurants, C...</td>\n",
       "      <td>35.0</td>\n",
       "      <td>1.0</td>\n",
       "      <td>0.028571</td>\n",
       "      <td>3.0</td>\n",
       "      <td>0.085714</td>\n",
       "      <td>6.0</td>\n",
       "      <td>0.171429</td>\n",
       "      <td>1.0</td>\n",
       "      <td>0.028571</td>\n",
       "      <td>0.0</td>\n",
       "      <td>0.0</td>\n",
       "      <td>1.0</td>\n",
       "      <td>0.028571</td>\n",
       "      <td>0.0</td>\n",
       "      <td>0.000000</td>\n",
       "      <td>0.0</td>\n",
       "      <td>0.000000</td>\n",
       "      <td>0.0</td>\n",
       "      <td>0.000000</td>\n",
       "    </tr>\n",
       "    <tr>\n",
       "      <th>1</th>\n",
       "      <td>jx91IMdGOmLOo8h_F9z39g</td>\n",
       "      <td>Cleary's Restaurant &amp; Spirits</td>\n",
       "      <td>12429 NE Glisan St</td>\n",
       "      <td>Portland</td>\n",
       "      <td>OR</td>\n",
       "      <td>45.526473</td>\n",
       "      <td>-122.535323</td>\n",
       "      <td>3.5</td>\n",
       "      <td>19</td>\n",
       "      <td>1</td>\n",
       "      <td>{'RestaurantsGoodForGroups': 'True', 'Alcohol'...</td>\n",
       "      <td>Nightlife, Sandwiches, Seafood, Restaurants</td>\n",
       "      <td>9.0</td>\n",
       "      <td>0.0</td>\n",
       "      <td>0.000000</td>\n",
       "      <td>1.0</td>\n",
       "      <td>0.111111</td>\n",
       "      <td>1.0</td>\n",
       "      <td>0.111111</td>\n",
       "      <td>1.0</td>\n",
       "      <td>0.111111</td>\n",
       "      <td>0.0</td>\n",
       "      <td>0.0</td>\n",
       "      <td>1.0</td>\n",
       "      <td>0.111111</td>\n",
       "      <td>0.0</td>\n",
       "      <td>0.000000</td>\n",
       "      <td>0.0</td>\n",
       "      <td>0.000000</td>\n",
       "      <td>0.0</td>\n",
       "      <td>0.000000</td>\n",
       "    </tr>\n",
       "    <tr>\n",
       "      <th>2</th>\n",
       "      <td>5PsApTz-WqhF_-8mfqGtGw</td>\n",
       "      <td>Cafe Yumm!</td>\n",
       "      <td>301 SW Morrison St</td>\n",
       "      <td>Portland</td>\n",
       "      <td>OR</td>\n",
       "      <td>45.518450</td>\n",
       "      <td>-122.675723</td>\n",
       "      <td>3.5</td>\n",
       "      <td>158</td>\n",
       "      <td>1</td>\n",
       "      <td>{'OutdoorSeating': 'True', 'GoodForKids': 'Tru...</td>\n",
       "      <td>Vegetarian, Vegan, Sandwiches, Soup, American ...</td>\n",
       "      <td>57.0</td>\n",
       "      <td>0.0</td>\n",
       "      <td>0.000000</td>\n",
       "      <td>9.0</td>\n",
       "      <td>0.157895</td>\n",
       "      <td>8.0</td>\n",
       "      <td>0.140351</td>\n",
       "      <td>0.0</td>\n",
       "      <td>0.000000</td>\n",
       "      <td>0.0</td>\n",
       "      <td>0.0</td>\n",
       "      <td>2.0</td>\n",
       "      <td>0.035088</td>\n",
       "      <td>1.0</td>\n",
       "      <td>0.017544</td>\n",
       "      <td>1.0</td>\n",
       "      <td>0.017544</td>\n",
       "      <td>1.0</td>\n",
       "      <td>0.017544</td>\n",
       "    </tr>\n",
       "  </tbody>\n",
       "</table>\n",
       "</div>"
      ],
      "text/plain": [
       "              business_id                           name              address  \\\n",
       "0  tCbdrRPZA0oiIYSmHG3J0w        Flying Elephants at PDX  7000 NE Airport Way   \n",
       "1  jx91IMdGOmLOo8h_F9z39g  Cleary's Restaurant & Spirits   12429 NE Glisan St   \n",
       "2  5PsApTz-WqhF_-8mfqGtGw                     Cafe Yumm!   301 SW Morrison St   \n",
       "\n",
       "       city state   latitude   longitude  stars  review_count  is_open  \\\n",
       "0  Portland    OR  45.588906 -122.593331    4.0           126        1   \n",
       "1  Portland    OR  45.526473 -122.535323    3.5            19        1   \n",
       "2  Portland    OR  45.518450 -122.675723    3.5           158        1   \n",
       "\n",
       "                                          attributes  \\\n",
       "0  {'RestaurantsTakeOut': 'True', 'RestaurantsAtt...   \n",
       "1  {'RestaurantsGoodForGroups': 'True', 'Alcohol'...   \n",
       "2  {'OutdoorSeating': 'True', 'GoodForKids': 'Tru...   \n",
       "\n",
       "                                          categories  number_of_reviews  \\\n",
       "0  Salad, Soup, Sandwiches, Delis, Restaurants, C...               35.0   \n",
       "1        Nightlife, Sandwiches, Seafood, Restaurants                9.0   \n",
       "2  Vegetarian, Vegan, Sandwiches, Soup, American ...               57.0   \n",
       "\n",
       "   liquor_counts  liquor_rate  vegan_counts  vegan_rate  romance_counts  \\\n",
       "0            1.0     0.028571           3.0    0.085714             6.0   \n",
       "1            0.0     0.000000           1.0    0.111111             1.0   \n",
       "2            0.0     0.000000           9.0    0.157895             8.0   \n",
       "\n",
       "   romance_rate  student_counts  student_rate  outdoor_counts  outdoor_rate  \\\n",
       "0      0.171429             1.0      0.028571             0.0           0.0   \n",
       "1      0.111111             1.0      0.111111             0.0           0.0   \n",
       "2      0.140351             0.0      0.000000             0.0           0.0   \n",
       "\n",
       "   family_counts  family_rate  music_counts  music_rate  classy_counts  \\\n",
       "0            1.0     0.028571           0.0    0.000000            0.0   \n",
       "1            1.0     0.111111           0.0    0.000000            0.0   \n",
       "2            2.0     0.035088           1.0    0.017544            1.0   \n",
       "\n",
       "   classy_rate  tourist_counts  tourist_rate  \n",
       "0     0.000000             0.0      0.000000  \n",
       "1     0.000000             0.0      0.000000  \n",
       "2     0.017544             1.0      0.017544  "
      ]
     },
     "execution_count": 12,
     "metadata": {},
     "output_type": "execute_result"
    }
   ],
   "source": [
    "df_restaurant.head(3)"
   ]
  },
  {
   "cell_type": "code",
   "execution_count": 13,
   "metadata": {},
   "outputs": [],
   "source": [
    "df_restaurant.to_csv(\"./Data/theme_dataframe_final.csv\")"
   ]
  },
  {
   "cell_type": "markdown",
   "metadata": {},
   "source": [
    "## 3 Themes Selection\n",
    "* We have found out potential atmosphere words, but these atmosphere words may have high correlation with each other. In order to find different themes with biggest spatial difference, we could use person correlation coefficient and word frequency to select topics."
   ]
  },
  {
   "cell_type": "markdown",
   "metadata": {},
   "source": [
    "### 3.1 Word Frequency Compare"
   ]
  },
  {
   "cell_type": "code",
   "execution_count": 14,
   "metadata": {},
   "outputs": [],
   "source": [
    "df_restaurant=pd.read_csv(\"./Data/theme_dataframe_final.csv\")"
   ]
  },
  {
   "cell_type": "code",
   "execution_count": 15,
   "metadata": {},
   "outputs": [],
   "source": [
    "cols = ['theme','word','count']\n",
    "word_count = pd.DataFrame(columns=cols)\n",
    "\n",
    "dic = {'liquor':['beer','wine','cocktail','vodka','martini','liquor'],\n",
    "      'vegen':['vegan','vege'],\n",
    "      'romance':['romant','romantic','romanc','romant','boyfriend','girlfriend','lover','husband','wife'],\n",
    "      'family':['kid','child','famili'],\n",
    "      'student':['student','young','classmat','pupil','school'],\n",
    "      'outdoor':['outdoor','patio'],\n",
    "      'music':['music'],\n",
    "      'classy':['classi','upscal','moder','creativ','trend','trendi','classic','cozi','cosi'],\n",
    "      'tourist':['tourist','tourism','touristi']}\n",
    "\n",
    "themecol=['liquor','vegen','romance','family','student','outdoor', 'music','classy','tourist']\n",
    "index = 0\n",
    "for i in themecol:\n",
    "    for j in range(len(dic[i])):\n",
    "            word_count.loc[index,'theme'] = i\n",
    "            word_count.loc[index,'word'] = dic[i][j]\n",
    "            word_count.loc[index,'count'] = counts[dic[i][j]]\n",
    "            index +=1\n",
    "            j +=1          "
   ]
  },
  {
   "cell_type": "code",
   "execution_count": 16,
   "metadata": {},
   "outputs": [],
   "source": [
    "sum=word_count['count'].groupby(word_count['theme']).sum()\n",
    "word_count2=pd.merge(word_count, sum, how= 'left',  left_on  = 'theme',  right_on = 'theme')\n",
    "word_count2=word_count2.sort_values(by=['count_y','count_x'],ascending=False).reset_index(drop=True)\n",
    "word_count2.rename(columns={'count_y':'theme_sum', 'count_x':'count'}, inplace=True)"
   ]
  },
  {
   "cell_type": "code",
   "execution_count": 17,
   "metadata": {},
   "outputs": [
    {
     "data": {
      "text/plain": [
       "<matplotlib.legend.Legend at 0x7fbaabfdcf10>"
      ]
     },
     "execution_count": 17,
     "metadata": {},
     "output_type": "execute_result"
    },
    {
     "data": {
      "text/plain": [
       "<Figure size 1440x1152 with 0 Axes>"
      ]
     },
     "metadata": {},
     "output_type": "display_data"
    },
    {
     "data": {
      "image/png": "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\n",
      "text/plain": [
       "<Figure size 1080x360 with 1 Axes>"
      ]
     },
     "metadata": {
      "needs_background": "light"
     },
     "output_type": "display_data"
    }
   ],
   "source": [
    "import matplotlib as mpl\n",
    "#COLOR = 'white'\n",
    "#mpl.rcParams['text.color'] = COLOR\n",
    "#mpl.rcParams['axes.labelcolor'] = COLOR\n",
    "#mpl.rcParams['xtick.color'] = COLOR\n",
    "#mpl.rcParams['ytick.color'] = COLOR\n",
    "\n",
    "plt.figure(figsize=(20,16))\n",
    "pl = sns.catplot(x='word', y='count', kind='bar', hue='theme', data=word_count2, palette='GnBu_r', aspect=3, dodge=False,\n",
    "                legend=False)\n",
    "pl.set_xticklabels(rotation=50,horizontalalignment='right')\n",
    "plt.legend(ncol=3,fontsize='large')\n",
    "#plt.savefig('./image/word_count.png', dpi=400, transparent=True)"
   ]
  },
  {
   "cell_type": "markdown",
   "metadata": {},
   "source": [
    "### 3.2 Pearson Correlation Coefficient"
   ]
  },
  {
   "cell_type": "code",
   "execution_count": 18,
   "metadata": {},
   "outputs": [],
   "source": [
    "df_review = df_review[['business_id', 'stars','snowball_reviews']]\n",
    "#Distinguish stars from review and business\n",
    "df_review.rename(columns={'stars':'stars_r'},inplace=True)"
   ]
  },
  {
   "cell_type": "code",
   "execution_count": 19,
   "metadata": {},
   "outputs": [
    {
     "data": {
      "image/png": "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\n",
      "text/plain": [
       "<Figure size 1008x864 with 2 Axes>"
      ]
     },
     "metadata": {
      "needs_background": "dark"
     },
     "output_type": "display_data"
    }
   ],
   "source": [
    "correlation=df_restaurant[[ 'liquor_rate',\n",
    " 'vegan_rate',\n",
    " 'romance_rate',\n",
    " 'family_rate',\n",
    " 'student_rate',\n",
    " 'outdoor_rate',\n",
    " 'music_rate',\n",
    " 'classy_rate',\n",
    " 'tourist_rate']].copy()\n",
    "correlation.rename(columns={'liquor_rate':'liquor', 'vegan_rate':'vegan','romance_rate':'romance',\n",
    "                            'family_rate':'family','student_rate':'student', 'outdoor_rate':'outdoor',\n",
    "                            'music_rate':'music', 'classy_rate':'classy','tourist_rate':'tourist'}, inplace=True)\n",
    "\n",
    "# correlation heatmap \n",
    "plt.figure(figsize=(14,12))\n",
    "COLOR = 'white'\n",
    "mpl.rcParams['text.color'] = COLOR\n",
    "mpl.rcParams['axes.labelcolor'] = COLOR\n",
    "mpl.rcParams['xtick.color'] = COLOR\n",
    "mpl.rcParams['ytick.color'] = COLOR\n",
    "#plt.title('Pearson Correlation',y=1.05,size=16)\n",
    "#matrix = np.triu(correlation.corr(method='pearson'))\n",
    "sns.heatmap(correlation.astype(float).corr(),linewidths=0.1,vmax=0.45,\n",
    "            square=True,linecolor='white',annot=True,cmap='GnBu', cbar=True)\n",
    "plt.xticks(fontsize=14)\n",
    "plt.yticks(fontsize=14)\n",
    "plt.savefig('./image/correlation_map_blue.png', dpi=300, transparent=True)\n",
    "plt.show()"
   ]
  },
  {
   "cell_type": "markdown",
   "metadata": {},
   "source": [
    "## 3 Spatial Distribution\n",
    "* Heatmap of different themes\n",
    "* Cluster analysis: mainly use Hierarchical clustering, and use Moran's I to test Spatial autocorrelation."
   ]
  },
  {
   "cell_type": "markdown",
   "metadata": {},
   "source": [
    "### 3.1 Heatmap"
   ]
  },
  {
   "cell_type": "code",
   "execution_count": 20,
   "metadata": {},
   "outputs": [],
   "source": [
    "import folium\n",
    "from folium.plugins import HeatMap\n",
    "def openstreet_heatmap(all_data):\n",
    "    \n",
    "    lat = np.array(all_data[\"latitude\"][0:len(all_data)])\n",
    "    lon = np.array(all_data[\"longitude\"][0:len(all_data)])\n",
    " \n",
    "    new_data = [[lat[i], lon[i]] for i in range(len(all_data))]\n",
    " \n",
    "    density_map = folium.Map(location=[all_data['latitude'].mean(), all_data['longitude'].mean()],\n",
    "                             zoom_start=12,\n",
    "                             #tiles='http://webrd02.is.autonavi.com/appmaptile?lang=zh_cn&size=1&scale=1&style=8&x={x}&y={y}&z={z}'\n",
    "                             #attr=\"http://ditu.amap.com/\"\n",
    "                             )\n",
    "\n",
    "    HeatMap(new_data, radius=15).add_to(density_map)\n",
    "    \n",
    "    ####density_map.save('{}_heat_map.html'.format(name))\n",
    "    return density_map"
   ]
  },
  {
   "cell_type": "code",
   "execution_count": 21,
   "metadata": {},
   "outputs": [
    {
     "data": {
      "text/html": [
       "<div style=\"width:100%;\"><div style=\"position:relative;width:100%;height:0;padding-bottom:60%;\"><iframe src=\"data:text/html;charset=utf-8;base64,PCFET0NUWVBFIGh0bWw+CjxoZWFkPiAgICAKICAgIDxtZXRhIGh0dHAtZXF1aXY9ImNvbnRlbnQtdHlwZSIgY29udGVudD0idGV4dC9odG1sOyBjaGFyc2V0PVVURi04IiAvPgogICAgCiAgICAgICAgPHNjcmlwdD4KICAgICAgICAgICAgTF9OT19UT1VDSCA9IGZhbHNlOwogICAgICAgICAgICBMX0RJU0FCTEVfM0QgPSBmYWxzZTsKICAgICAgICA8L3NjcmlwdD4KICAgIAogICAgPHNjcmlwdCBzcmM9Imh0dHBzOi8vY2RuLmpzZGVsaXZyLm5ldC9ucG0vbGVhZmxldEAxLjYuMC9kaXN0L2xlYWZsZXQuanMiPjwvc2NyaXB0PgogICAgPHNjcmlwdCBzcmM9Imh0dHBzOi8vY29kZS5qcXVlcnkuY29tL2pxdWVyeS0xLjEyLjQubWluLmpzIj48L3NjcmlwdD4KICAgIDxzY3JpcHQgc3JjPSJodHRwczovL21heGNkbi5ib290c3RyYXBjZG4uY29tL2Jvb3RzdHJhcC8zLjIuMC9qcy9ib290c3RyYXAubWluLmpzIj48L3NjcmlwdD4KICAgIDxzY3JpcHQgc3JjPSJodHRwczovL2NkbmpzLmNsb3VkZmxhcmUuY29tL2FqYXgvbGlicy9MZWFmbGV0LmF3ZXNvbWUtbWFya2Vycy8yLjAuMi9sZWFmbGV0LmF3ZXNvbWUtbWFya2Vycy5qcyI+PC9zY3JpcHQ+CiAgICA8bGluayByZWw9InN0eWxlc2hlZXQiIGhyZWY9Imh0dHBzOi8vY2RuLmpzZGVsaXZyLm5ldC9ucG0vbGVhZmxldEAxLjYuMC9kaXN0L2xlYWZsZXQuY3NzIi8+CiAgICA8bGluayByZWw9InN0eWxlc2hlZXQiIGhyZWY9Imh0dHBzOi8vbWF4Y2RuLmJvb3RzdHJhcGNkbi5jb20vYm9vdHN0cmFwLzMuMi4wL2Nzcy9ib290c3RyYXAubWluLmNzcyIvPgogICAgPGxpbmsgcmVsPSJzdHlsZXNoZWV0IiBocmVmPSJodHRwczovL21heGNkbi5ib290c3RyYXBjZG4uY29tL2Jvb3RzdHJhcC8zLjIuMC9jc3MvYm9vdHN0cmFwLXRoZW1lLm1pbi5jc3MiLz4KICAgIDxsaW5rIHJlbD0ic3R5bGVzaGVldCIgaHJlZj0iaHR0cHM6Ly9tYXhjZG4uYm9vdHN0cmFwY2RuLmNvbS9mb250LWF3ZXNvbWUvNC42LjMvY3NzL2ZvbnQtYXdlc29tZS5taW4uY3NzIi8+CiAgICA8bGluayByZWw9InN0eWxlc2hlZXQiIGhyZWY9Imh0dHBzOi8vY2RuanMuY2xvdWRmbGFyZS5jb20vYWpheC9saWJzL0xlYWZsZXQuYXdlc29tZS1tYXJrZXJzLzIuMC4yL2xlYWZsZXQuYXdlc29tZS1tYXJrZXJzLmNzcyIvPgogICAgPGxpbmsgcmVsPSJzdHlsZXNoZWV0IiBocmVmPSJodHRwczovL3Jhd2Nkbi5naXRoYWNrLmNvbS9weXRob24tdmlzdWFsaXphdGlvbi9mb2xpdW0vbWFzdGVyL2ZvbGl1bS90ZW1wbGF0ZXMvbGVhZmxldC5hd2Vzb21lLnJvdGF0ZS5jc3MiLz4KICAgIDxzdHlsZT5odG1sLCBib2R5IHt3aWR0aDogMTAwJTtoZWlnaHQ6IDEwMCU7bWFyZ2luOiAwO3BhZGRpbmc6IDA7fTwvc3R5bGU+CiAgICA8c3R5bGU+I21hcCB7cG9zaXRpb246YWJzb2x1dGU7dG9wOjA7Ym90dG9tOjA7cmlnaHQ6MDtsZWZ0OjA7fTwvc3R5bGU+CiAgICAKICAgICAgICAgICAgPG1ldGEgbmFtZT0idmlld3BvcnQiIGNvbnRlbnQ9IndpZHRoPWRldmljZS13aWR0aCwKICAgICAgICAgICAgICAgIGluaXRpYWwtc2NhbGU9MS4wLCBtYXhpbXVtLXNjYWxlPTEuMCwgdXNlci1zY2FsYWJsZT1ubyIgLz4KICAgICAgICAgICAgPHN0eWxlPgogICAgICAgICAgICAgICAgI21hcF8xYjAwYWU0MGI1MTY0NmIzYjA4NzRiODc1YzNhN2I1OCB7CiAgICAgICAgICAgICAgICAgICAgcG9zaXRpb246IHJlbGF0aXZlOwogICAgICAgICAgICAgICAgICAgIHdpZHRoOiAxMDAuMCU7CiAgICAgICAgICAgICAgICAgICAgaGVpZ2h0OiAxMDAuMCU7CiAgICAgICAgICAgICAgICAgICAgbGVmdDogMC4wJTsKICAgICAgICAgICAgICAgICAgICB0b3A6IDAuMCU7CiAgICAgICAgICAgICAgICB9CiAgICAgICAgICAgIDwvc3R5bGU+CiAgICAgICAgCiAgICA8c2NyaXB0IHNyYz0iaHR0cHM6Ly9sZWFmbGV0LmdpdGh1Yi5pby9MZWFmbGV0LmhlYXQvZGlzdC9sZWFmbGV0LWhlYXQuanMiPjwvc2NyaXB0Pgo8L2hlYWQ+Cjxib2R5PiAgICAKICAgIAogICAgICAgICAgICA8ZGl2IGNsYXNzPSJmb2xpdW0tbWFwIiBpZD0ibWFwXzFiMDBhZTQwYjUxNjQ2YjNiMDg3NGI4NzVjM2E3YjU4IiA+PC9kaXY+CiAgICAgICAgCjwvYm9keT4KPHNjcmlwdD4gICAgCiAgICAKICAgICAgICAgICAgdmFyIG1hcF8xYjAwYWU0MGI1MTY0NmIzYjA4NzRiODc1YzNhN2I1OCA9IEwubWFwKAogICAgICAgICAgICAgICAgIm1hcF8xYjAwYWU0MGI1MTY0NmIzYjA4NzRiODc1YzNhN2I1OCIsCiAgICAgICAgICAgICAgICB7CiAgICAgICAgICAgICAgICAgICAgY2VudGVyOiBbNDUuNTIyODE5NjQ4NTYyMzA0LCAtMTIyLjY1MzY4MTMwOTkwNDE0XSwKICAgICAgICAgICAgICAgICAgICBjcnM6IEwuQ1JTLkVQU0czODU3LAogICAgICAgICAgICAgICAgICAgIHpvb206IDEyLAogICAgICAgICAgICAgICAgICAgIHpvb21Db250cm9sOiB0cnVlLAogICAgICAgICAgICAgICAgICAgIHByZWZlckNhbnZhczogZmFsc2UsCiAgICAgICAgICAgICAgICB9CiAgICAgICAgICAgICk7CgogICAgICAgICAgICAKCiAgICAgICAgCiAgICAKICAgICAgICAgICAgdmFyIHRpbGVfbGF5ZXJfYWU2MTYzMzVhZDJjNGIyMDljNDliMjI1YTMxMmIxZDMgPSBMLnRpbGVMYXllcigKICAgICAgICAgICAgICAgICJodHRwczovL3tzfS50aWxlLm9wZW5zdHJlZXRtYXAub3JnL3t6fS97eH0ve3l9LnBuZyIsCiAgICAgICAgICAgICAgICB7ImF0dHJpYnV0aW9uIjogIkRhdGEgYnkgXHUwMDI2Y29weTsgXHUwMDNjYSBocmVmPVwiaHR0cDovL29wZW5zdHJlZXRtYXAub3JnXCJcdTAwM2VPcGVuU3RyZWV0TWFwXHUwMDNjL2FcdTAwM2UsIHVuZGVyIFx1MDAzY2EgaHJlZj1cImh0dHA6Ly93d3cub3BlbnN0cmVldG1hcC5vcmcvY29weXJpZ2h0XCJcdTAwM2VPRGJMXHUwMDNjL2FcdTAwM2UuIiwgImRldGVjdFJldGluYSI6IGZhbHNlLCAibWF4TmF0aXZlWm9vbSI6IDE4LCAibWF4Wm9vbSI6IDE4LCAibWluWm9vbSI6IDAsICJub1dyYXAiOiBmYWxzZSwgIm9wYWNpdHkiOiAxLCAic3ViZG9tYWlucyI6ICJhYmMiLCAidG1zIjogZmFsc2V9CiAgICAgICAgICAgICkuYWRkVG8obWFwXzFiMDBhZTQwYjUxNjQ2YjNiMDg3NGI4NzVjM2E3YjU4KTsKICAgICAgICAKICAgIAogICAgICAgICAgICB2YXIgaGVhdF9tYXBfZDQ5ZDFmMmMzZTBmNDMzMGI0NGM4ZjI1N2FlMjBmN2UgPSBMLmhlYXRMYXllcigKICAgICAgICAgICAgICAgIFtbNDUuNTg4OSwgLTEyMi41OTMzXSwgWzQ1LjUyNjUsIC0xMjIuNTM1M10sIFs0NS41MTg1LCAtMTIyLjY3NTddLCBbNDUuNTI5OSwgLTEyMi42ODI5XSwgWzQ1LjUyNzQsIC0xMjIuNjg0NF0sIFs0NS41MjEsIC0xMjIuNjc2Nl0sIFs0NS41NTQ2LCAtMTIyLjY3NTddLCBbNDUuNTQyNiwgLTEyMi42MDMzXSwgWzQ1LjUxMjIsIC0xMjIuNjQzMV0sIFs0NS41MTcyLCAtMTIyLjY4MTFdLCBbNDUuNDc5LCAtMTIyLjYyMDNdLCBbNDUuNDgyOCwgLTEyMi42NzZdLCBbNDUuNTE3MywgLTEyMi41NjRdLCBbNDUuNTQ2MDAwMDAwMDAwMDEsIC0xMjIuNTc4NV0sIFs0NS41MjQ3LCAtMTIyLjgxNTVdLCBbNDUuNTMzMywgLTEyMi41MzczXSwgWzQ1LjUxMjMsIC0xMjIuNjMyNF0sIFs0NS41NjI4LCAtMTIyLjY3NTVdLCBbNDUuNDY3MywgLTEyMi42NTMxXSwgWzQ1LjUyMTUsIC0xMjIuNjcyNF0sIFs0NS40OTkxLCAtMTIyLjU4MDNdLCBbNDUuNTQ4NCwgLTEyMi42MTMyXSwgWzQ1LjUyOCwgLTEyMi44MTQ0XSwgWzQ1LjUyNzksIC0xMjIuNjk0Ml0sIFs0NS41NjI5LCAtMTIyLjY4NjJdLCBbNDUuNTIzNywgLTEyMi42MzcxXSwgWzQ1LjU3NDMsIC0xMjIuNTc5NF0sIFs0NS41MjM0LCAtMTIyLjY1ODRdLCBbNDUuNTI4OTk5OTk5OTk5OTk2LCAtMTIyLjYzODNdLCBbNDUuNDczOCwgLTEyMi42NDk2XSwgWzQ1LjUxMjMsIC0xMjIuNjMyOV0sIFs0NS41MTAyLCAtMTIyLjY4MzRdLCBbNDUuNTg5MywgLTEyMi43NTM5OTk5OTk5OTk5OV0sIFs0NS40NjI0LCAtMTIyLjYyOTVdLCBbNDUuNTIxNSwgLTEyMi42NzIzXSwgWzQ1LjM5NTcsIC0xMjIuNjE2XSwgWzQ1LjUwMDIsIC0xMjIuNjU0XSwgWzQ1LjQ3MzksIC0xMjIuNjQ5NF0sIFs0NS41MjIyLCAtMTIyLjY3NzFdLCBbNDUuNDkyNSwgLTEyMi40ODc0XSwgWzQ1LjUyMDMsIC0xMjIuNjgyOV0sIFs0NS41NDA4LCAtMTIyLjYwOTNdLCBbNDUuNTIxLCAtMTIyLjY3MjJdLCBbNDUuNTIzMiwgLTEyMi42NDM4XSwgWzQ1LjU1OSwgLTEyMi42NDY3XSwgWzQ1LjU4MiwgLTEyMi43MjIxXSwgWzQ1LjQ3ODgsIC0xMjIuNjkzMV0sIFs0NS41MTQyLCAtMTIyLjY1OTZdLCBbNDUuNTMzLCAtMTIyLjY5ODVdLCBbNDUuNTI4MywgLTEyMi42Mzg2XSwgWzQ1LjQ3ODcsIC0xMjIuNjk1NV0sIFs0NS41MDI0LCAtMTIyLjU3ODVdLCBbNDUuNTA4MiwgLTEyMi41Nzg1XSwgWzQ1LjUwNjQsIC0xMjIuNjYxNl0sIFs0NS41NDAzLCAtMTIyLjYwOTRdLCBbNDUuNTI5NSwgLTEyMi42OTQzXSwgWzQ1LjUyNDksIC0xMjIuNjg0XSwgWzQ1LjUyNDUsIC0xMjIuNjM3XSwgWzQ1LjUwNDYsIC0xMjIuNjI0MV0sIFs0NS40NTQ3LCAtMTIyLjc3N10sIFs0NS41NTksIC0xMjIuNjUwOV0sIFs0NS40NzM5LCAtMTIyLjY0OV0sIFs0NS41MTIzLCAtMTIyLjYxNjldLCBbNDUuNTI3MiwgLTEyMi42OTQ0XSwgWzQ1LjUyMjQsIC0xMjIuNjU5NF0sIFs0NS41MzMzLCAtMTIyLjY5ODVdLCBbNDUuNTIzOCwgLTEyMi42MzcxXSwgWzQ1LjU2MTIsIC0xMjIuNjYxOV0sIFs0NS40NjM2LCAtMTIyLjU3OTZdLCBbNDUuNTcyNiwgLTEyMi41NTcxXSwgWzQ1LjQ5MDMsIC0xMjIuNTY5XSwgWzQ1LjUyMzEsIC0xMjIuNjM3MV0sIFs0NS41NTksIC0xMjIuNjM4NV0sIFs0NS41NjI0LCAtMTIyLjYyMDZdLCBbNDUuNTAwNCwgLTEyMi42NzA3XSwgWzQ1LjUxNTMsIC0xMjIuNjY2MV0sIFs0NS40NTA1LCAtMTIyLjcyNzFdLCBbNDUuNTIwNiwgLTEyMi42ODExXSwgWzQ1LjUxMjgsIC0xMjIuNjU0OV0sIFs0NS41MjU4LCAtMTIyLjY5NDddLCBbNDUuNTEyMiwgLTEyMi42Mjc2XSwgWzQ1LjU1ODcsIC0xMjIuODY1N10sIFs0NS41MDU3LCAtMTIyLjU3ODNdLCBbNDUuNjExOCwgLTEyMi42ODI3XSwgWzQ1LjQ2NzksIC0xMjIuNzEzMl0sIFs0NS40OTg5OTk5OTk5OTk5OTUsIC0xMjIuNTgwOV0sIFs0NS41MzUzLCAtMTIyLjYzMjNdLCBbNDUuNTMzOSwgLTEyMi42MDEzXSwgWzQ1LjUwNCwgLTEyMi41NTExXSwgWzQ1LjUwMDgsIC0xMjIuNjQ1XSwgWzQ1LjU0MDcsIC0xMjIuNjYzNV0sIFs0NS41NjI5LCAtMTIyLjY3MTFdLCBbNDUuNTYzLCAtMTIyLjY1OTFdLCBbNDUuNTQwNCwgLTEyMi41Nzg2XSwgWzQ1LjUyMDcsIC0xMjIuNjgzOV0sIFs0NS41MTY2LCAtMTIyLjYxODNdLCBbNDUuNTE3NSwgLTEyMi42OTFdLCBbNDUuNTEyNCwgLTEyMi42MzEyXSwgWzQ1LjUzNTQsIC0xMjIuNjIxMV0sIFs0NS41MTkzLCAtMTIyLjU4MjNdLCBbNDUuNDc3MSwgLTEyMi42NzM3XSwgWzQ1LjUxMiwgLTEyMi42Nzc4XSwgWzQ1LjUyMDYsIC0xMjIuNjc5Ml0sIFs0NS41MjE2LCAtMTIyLjY3MzZdLCBbNDUuNTE0MywgLTEyMi42ODI0XSwgWzQ1LjU2OTksIC0xMjIuNTQ2OF0sIFs0NS41MTMyLCAtMTIyLjY3NTFdLCBbNDUuNTMxNCwgLTEyMi42OTQ1XSwgWzQ1LjUyMzMsIC0xMjIuNjc0OF0sIFs0NS41MjUyLCAtMTIyLjY5NDZdLCBbNDUuNDc3NCwgLTEyMi42NzI0XSwgWzQ1LjUyNDUsIC0xMjIuNjcwN10sIFs0NS40NTkzLCAtMTIyLjcwOTVdLCBbNDUuNTA0OSwgLTEyMi41Nzc3XSwgWzQ1LjUxOTMsIC0xMjIuNTgwNF0sIFs0NS41MzY5LCAtMTIyLjYyMDZdLCBbNDUuNTQ1OCwgLTEyMi42NjY1XSwgWzQ1LjUxNjYsIC0xMjIuNjQ0Nl0sIFs0NS41MjcyLCAtMTIyLjY4MzVdLCBbNDUuNTQ4MSwgLTEyMi42NDE1XSwgWzQ1LjUxNDYsIC0xMjIuNjg0M10sIFs0NS41MTAyLCAtMTIyLjY3Mzk5OTk5OTk5OTk5XSwgWzQ1LjUyMDYsIC0xMjIuNjczMV0sIFs0NS40Mzc1LCAtMTIyLjc1NjhdLCBbNDUuNTE2OCwgLTEyMi42ODcwMDAwMDAwMDAwMV0sIFs0NS41MDQ3LCAtMTIyLjU3NjNdLCBbNDUuNTMxNiwgLTEyMi42OTQ0XSwgWzQ1LjUyODYsIC0xMjIuNjc2M10sIFs0NS40NjIzLCAtMTIyLjY0NzNdLCBbNDUuNTU4OSwgLTEyMi42Mzc3XSwgWzQ1LjQ2ODksIC0xMjIuNzA4N10sIFs0NS40NjUyLCAtMTIyLjY5OF0sIFs0NS40NzM5LCAtMTIyLjY0OTddLCBbNDUuNTE4MiwgLTEyMi42ODE3XSwgWzQ1LjU2MjYsIC0xMjIuNjM0N10sIFs0NS41MDUsIC0xMjIuNjU0NV0sIFs0NS41MjEsIC0xMjIuNjU1OV0sIFs0NS40NzIsIC0xMjIuNzcyM10sIFs0NS41MDk2LCAtMTIyLjY4MTVdLCBbNDUuNTczNiwgLTEyMi41NTk0XSwgWzQ1LjU5MywgLTEyMi42ODEyXSwgWzQ1LjU2MjUsIC0xMjIuNjY5OF0sIFs0NS41OTAzLCAtMTIyLjc1NTRdLCBbNDUuNDk5MSwgLTEyMi42OTA1XSwgWzQ1LjUxMiwgLTEyMi42NDc0XSwgWzQ1LjUwOTQsIC0xMjIuNjczM10sIFs0NS41NTksIC0xMjIuNjQ4OV0sIFs0NS41NzczLCAtMTIyLjY4NzZdLCBbNDUuNTYxMiwgLTEyMi42Ml0sIFs0NS41ODg4LCAtMTIyLjc2MTNdLCBbNDUuNDkwOSwgLTEyMi42MDA0XSwgWzQ1LjUyMDQsIC0xMjIuNjc1MV0sIFs0NS41NjMsIC0xMjIuNjIwOV0sIFs0NS41NzY4LCAtMTIyLjY5MDddLCBbNDUuNTAyNiwgLTEyMi41Nzg1XSwgWzQ1LjUxNzYsIC0xMjIuNjc4NF0sIFs0NS41MTc4LCAtMTIyLjY1NF0sIFs0NS41MjEzLCAtMTIyLjQ3NzVdLCBbNDUuNTg4OSwgLTEyMi41OTRdLCBbNDUuNTIwNiwgLTEyMi42ODA1XSwgWzQ1LjUwNDUsIC0xMjIuNjI5Ml0sIFs0NS41MDgzLCAtMTIyLjY0ODhdLCBbNDUuNTE5NSwgLTEyMi42MzY1XSwgWzQ1LjQ0NzMsIC0xMjIuNzc4OV0sIFs0NS41NTkyLCAtMTIyLjYzNF0sIFs0NS41MDE4LCAtMTIyLjU3NzRdLCBbNDUuNTAzOCwgLTEyMi41NjcwMDAwMDAwMDAwMV0sIFs0NS41MjIzLCAtMTIyLjY1NTRdLCBbNDUuNTIyNiwgLTEyMi42ODQ0XSwgWzQ1LjU3MzIsIC0xMjIuNTU3NV0sIFs0NS41MzQ3LCAtMTIyLjU5MjldLCBbNDUuNTA0OSwgLTEyMi42MzM1XSwgWzQ1LjUwNDcsIC0xMjIuNjM0Ml0sIFs0NS41MjEzLCAtMTIyLjY3MDldLCBbNDUuNTQyMiwgLTEyMi42NjEzXSwgWzQ1LjU4NzYsIC0xMjIuNzQyNF0sIFs0NS40ODY4LCAtMTIyLjc0M10sIFs0NS41MTc0LCAtMTIyLjY5MDJdLCBbNDUuNTU5MiwgLTEyMi42MzgzXSwgWzQ1LjU2MjksIC0xMjIuNjQ4NF0sIFs0NS41MDM0LCAtMTIyLjY0XSwgWzQ1LjUzMzgsIC0xMjIuNTU1OV0sIFs0NS41NTksIC0xMjIuNjU0N10sIFs0NS41MTE5LCAtMTIyLjYyNjZdLCBbNDUuNTA1MiwgLTEyMi42MDA5XSwgWzQ1LjUxOTQsIC0xMjIuNTgwMl0sIFs0NS41MTY0LCAtMTIyLjYxODFdLCBbNDUuNTE2NiwgLTEyMi42Mjg5XSwgWzQ1LjUwNDYsIC0xMjIuNjM2Ml0sIFs0NS40ODkzLCAtMTIyLjU5NjVdLCBbNDUuNTA0NiwgLTEyMi42MzYyXSwgWzQ1LjU1MTMsIC0xMjIuNjc1Ml0sIFs0NS41MzMxLCAtMTIyLjU3OTVdLCBbNDUuNTI2OSwgLTEyMi42ODUyXSwgWzQ1LjUxNjksIC0xMjIuNjg3MV0sIFs0NS41MjgzLCAtMTIyLjY5NDRdLCBbNDUuNTE4NCwgLTEyMi41MTIyXSwgWzQ1LjUyMzUsIC0xMjIuNjk3Ml0sIFs0NS41MDA4LCAtMTIyLjY0NV0sIFs0NS41MiwgLTEyMi42NjM2XSwgWzQ1LjU2MjUsIC0xMjIuNjc0M10sIFs0NS41MzY0LCAtMTIyLjYxOTddLCBbNDUuNTIyMywgLTEyMi42ODI3XSwgWzQ1LjUwODUsIC0xMjIuNjU0OV0sIFs0NS41MDE2LCAtMTIyLjU3NzVdLCBbNDUuNDgyOCwgLTEyMi42Mzc5OTk5OTk5OTk5OV0sIFs0NS41MTAyLCAtMTIyLjY1MzVdLCBbNDUuNTE3MSwgLTEyMi41OTI0XSwgWzQ1LjUzMjcsIC0xMjIuNjkyNV0sIFs0NS41MTk2LCAtMTIyLjY3NTddLCBbNDUuNTUwMiwgLTEyMi42NzU0XSwgWzQ1LjUzNjEsIC0xMjIuNjY2OV0sIFs0NS40NjQxLCAtMTIyLjY1NDZdLCBbNDUuNTIyNiwgLTEyMi42NzI5OTk5OTk5OTk5OV0sIFs0NS40OTk1LCAtMTIyLjY1MzldLCBbNDUuNTc3NCwgLTEyMi42NDcyXSwgWzQ1LjU1ODIsIC0xMjIuODY3OV0sIFs0NS41NDk0LCAtMTIyLjY2MTldLCBbNDUuNTQ4LCAtMTIyLjU4NjFdLCBbNDUuNTQ5NCwgLTEyMi42NzUyXSwgWzQ1LjUxNSwgLTEyMi42NzcxXSwgWzQ1LjU0ODYsIC0xMjIuNjJdLCBbNDUuNTE5NSwgLTEyMi42NTMyXSwgWzQ1LjUyNDEsIC0xMjIuNjk4Ml0sIFs0NS41MTE5LCAtMTIyLjYyODVdLCBbNDUuNjAwNiwgLTEyMi42MjI0XSwgWzQ1LjUxMiwgLTEyMi42NTY0XSwgWzQ1LjM5NDQsIC0xMjIuNzUwM10sIFs0NS41ODI2LCAtMTIyLjcyNDhdLCBbNDUuNTM1MywgLTEyMi42MzgyXSwgWzQ1LjUyLCAtMTIyLjY3NDVdLCBbNDUuNTA1MiwgLTEyMi42MDA4XSwgWzQ1LjU1MTgsIC0xMjIuNjA0M10sIFs0NS40NDIzLCAtMTIyLjc0NjZdLCBbNDUuNDk1NiwgLTEyMi42MDg1XSwgWzQ1LjU1OTMsIC0xMjIuNjU1Ml0sIFs0NS41MTc0LCAtMTIyLjY1OTFdLCBbNDUuNTY3MSwgLTEyMi42MDMyXSwgWzQ1LjU1OTMsIC0xMjIuNjU2M10sIFs0NS41NTM2LCAtMTIyLjY2NjVdLCBbNDUuNDc5MywgLTEyMi42MTIxXSwgWzQ1LjQ5NzcsIC0xMjIuNjg5Ml0sIFs0NS40ODYxLCAtMTIyLjU4NzRdLCBbNDUuNDgyOCwgLTEyMi41ODk1XSwgWzQ1LjUyNjYsIC0xMjIuNjQxNl0sIFs0NS41MjE1LCAtMTIyLjY3MjRdLCBbNDUuNTM1NiwgLTEyMi42OTk3XSwgWzQ1LjUxNjMsIC0xMjIuNjU5NF0sIFs0NS41MTIyLCAtMTIyLjYxNDhdLCBbNDUuNTI2MywgLTEyMi42ODA1XSwgWzQ1LjUzMzQsIC0xMjIuNDc4OV0sIFs0NS41MjE3LCAtMTIyLjYzNzddLCBbNDUuNTcxNywgLTEyMi42NDddLCBbNDUuNTI2MSwgLTEyMi42MTU1XSwgWzQ1LjU2MjYsIC0xMjIuNjg2OF0sIFs0NS41MTE5LCAtMTIyLjYyNl0sIFs0NS41MTc0LCAtMTIyLjY3ODZdLCBbNDUuNTEyOCwgLTEyMi42NTQ5XSwgWzQ1LjUxMiwgLTEyMi42ODZdLCBbNDUuNDkwNiwgLTEyMi42MzcyXSwgWzQ1LjU2MjUsIC0xMjIuNjQ5XSwgWzQ1LjUxNjMsIC0xMjIuNjNdLCBbNDUuNDk2NCwgLTEyMi41NDY2XSwgWzQ1LjQ3ODcsIC0xMjIuNjkzXSwgWzQ1LjUzMTMsIC0xMjIuNjgyNl0sIFs0NS41MDAzLCAtMTIyLjY3MTldLCBbNDUuNTU5MywgLTEyMi42MjA3XSwgWzQ1LjUyMDEsIC0xMjIuNjgyN10sIFs0NS40NjQ1LCAtMTIyLjU3OTRdLCBbNDUuNTI4MiwgLTEyMi42MzkxXSwgWzQ1LjUyMzQsIC0xMjIuNjk0OV0sIFs0NS41NTkyLCAtMTIyLjYzOTNdLCBbNDUuNTQ4OCwgLTEyMi42NzUyXSwgWzQ1LjUyMTQsIC0xMjIuNjUzOF0sIFs0NS41MzQ0LCAtMTIyLjY5ODZdLCBbNDUuNTIxMSwgLTEyMi42ODEyXSwgWzQ1LjUzOTYsIC0xMjIuNjExMV0sIFs0NS41MjM1LCAtMTIyLjY5NThdLCBbNDUuNTA1MiwgLTEyMi42NTRdLCBbNDUuNDg5NiwgLTEyMi41OTYxXSwgWzQ1LjUxMjgsIC0xMjIuNjU0OV0sIFs0NS41Mjg4LCAtMTIyLjY4MjldLCBbNDUuNDc4OSwgLTEyMi42MDcyXSwgWzQ1LjU0ODQsIC0xMjIuNjEwOF0sIFs0NS41MzUsIC0xMjIuNjIwN10sIFs0NS41MjExLCAtMTIyLjY4MTJdLCBbNDUuNTE5NiwgLTEyMi42NzQ4XSwgWzQ1LjUyOTksIC0xMjIuNjgxNl0sIFs0NS41MTY3LCAtMTIyLjYzOThdLCBbNDUuNTE2MywgLTEyMi42Mjg0XSwgWzQ1LjU0NjIsIC0xMjIuNTc4Nl0sIFs0NS40OTc4LCAtMTIyLjY1MzhdLCBbNDUuNTA0NCwgLTEyMi41NDc4XSwgWzQ1LjU1NDQsIC0xMjIuNjc1N10sIFs0NS40NDQ5LCAtMTIyLjcyNzVdLCBbNDUuNTM1NCwgLTEyMi42MzczXSwgWzQ1LjUxNjYsIC0xMjIuNjUxNF0sIFs0NS41MjI1LCAtMTIyLjY5MDRdLCBbNDUuNTE5NiwgLTEyMi41MDk1XSwgWzQ1LjUxNjcsIC0xMjIuNjE4NV0sIFs0NS40OTcxLCAtMTIyLjU4MzldLCBbNDUuNTU0MiwgLTEyMi44MzZdLCBbNDUuNTAwMywgLTEyMi41Nzg0XSwgWzQ1LjUxNjYsIC0xMjIuNjU5Nl0sIFs0NS41MDMsIC0xMjIuNTM4M10sIFs0NS40NjcsIC0xMjIuNzEzNV0sIFs0NS40OTc3LCAtMTIyLjU4MjNdLCBbNDUuNTE3NiwgLTEyMi42NTk0XSwgWzQ1LjUxMzQsIC0xMjIuNjUzNF0sIFs0NS41MjIsIC0xMjIuNjM3NV0sIFs0NS41MTkzLCAtMTIyLjUzODZdLCBbNDUuNTIyOCwgLTEyMi42MzQ3XSwgWzQ1LjU3MTUsIC0xMjIuNjU3MV0sIFs0NS40OTY5LCAtMTIyLjYzNDhdLCBbNDUuNTIzOSwgLTEyMi42NTczXSwgWzQ1LjUzNDUsIC0xMjIuNjU4M10sIFs0NS41MzAyLCAtMTIyLjY4MzZdLCBbNDUuNTY3NywgLTEyMi41ODFdLCBbNDUuNTE2MSwgLTEyMi42NTY0XSwgWzQ1LjUxMjIsIC0xMjIuNjMyMl0sIFs0NS41MTIxLCAtMTIyLjY4NjNdLCBbNDUuNTE3NCwgLTEyMi42NzMyXSwgWzQ1LjUyOTYsIC0xMjIuNjg1Ml0sIFs0NS40OTI2LCAtMTIyLjY3NjNdLCBbNDUuNTA1MSwgLTEyMi42NTI5XSwgWzQ1LjUyNjcsIC0xMjIuNTkxOF0sIFs0NS41MTI4LCAtMTIyLjY1NDldLCBbNDUuNTE3NiwgLTEyMi42NTk0XSwgWzQ1LjUwNDUsIC0xMjIuNTQ5OV0sIFs0NS41NTExLCAtMTIyLjUwNDFdLCBbNDUuNTU1NywgLTEyMi42NTA0XSwgWzQ1LjU1MSwgLTEyMi42NjE4XSwgWzQ1LjU1Mzk5OTk5OTk5OTk5NSwgLTEyMi42MDE3XSwgWzQ1LjU4ODcsIC0xMjIuNTk2Ml0sIFs0NS41MTY1LCAtMTIyLjYxODZdLCBbNDUuNTMxMDAwMDAwMDAwMDA2LCAtMTIyLjYzMjddLCBbNDUuNDQ3MiwgLTEyMi43Nzc0XSwgWzQ1LjUyMDMsIC0xMjIuNjc0NF0sIFs0NS41NTg1LCAtMTIyLjg2NTJdLCBbNDUuNTI4OCwgLTEyMi42ODMxXSwgWzQ1LjU4OTUsIC0xMjIuNTkzNl0sIFs0NS41MTk1LCAtMTIyLjU4MTNdLCBbNDUuNTY5NywgLTEyMi42ODcxXSwgWzQ1LjUxOTYsIC0xMjIuNjc0Nl0sIFs0NS41MjMxLCAtMTIyLjYzOTFdLCBbNDUuNTg3NiwgLTEyMi43NDI0XSwgWzQ1LjU4OTIsIC0xMjIuNTkzNV0sIFs0NS41NzI3LCAtMTIyLjU1N10sIFs0NS40OTg5LCAtMTIyLjY3MTRdLCBbNDUuNTE2NCwgLTEyMi42MTg2XSwgWzQ1LjUwODgsIC0xMjIuNzEyNl0sIFs0NS41MTk0LCAtMTIyLjU1NjhdLCBbNDUuNTIzMiwgLTEyMi42NDM4XSwgWzQ1LjUyNywgLTEyMi40OTU1XSwgWzQ1LjU1MTQsIC0xMjIuNjc1Ml0sIFs0NS41MTc2LCAtMTIyLjY1MDldLCBbNDUuNTM0MywgLTEyMi42OTVdLCBbNDUuNTQ5LCAtMTIyLjY2MTldLCBbNDUuNTA0OSwgLTEyMi42NDU0XSwgWzQ1LjUyMjIsIC0xMjIuNjc2MV0sIFs0NS40NjM2LCAtMTIyLjU3OTZdLCBbNDUuNTQ2NCwgLTEyMi41OTQ1XSwgWzQ1LjU1OTMsIC0xMjIuNjQ5XSwgWzQ1LjU0ODQsIC0xMjIuNjE1Ml0sIFs0NS40OTc5LCAtMTIyLjU3NzVdLCBbNDUuNTQwNCwgLTEyMi42MDkyXSwgWzQ1LjUxNzMsIC0xMjIuNjc1MV0sIFs0NS41MTM0LCAtMTIyLjY1ODk5OTk5OTk5OTk5XSwgWzQ1LjQ5NzYsIC0xMjIuNjY5NF0sIFs0NS41ODEyLCAtMTIyLjY2M10sIFs0NS41MTI4LCAtMTIyLjY4NTVdLCBbNDUuNTExOCwgLTEyMi42NTg0XSwgWzQ1LjUwMjQsIC0xMjIuNTc3OV0sIFs0NS41MjIyLCAtMTIyLjY4Mjk5OTk5OTk5OTk5XSwgWzQ1LjUyODksIC0xMjIuNjk4OF0sIFs0NS41MTEsIC0xMjIuNTM3Ml0sIFs0NS42MDkxLCAtMTIyLjY3NzZdLCBbNDUuNTIyMiwgLTEyMi42NzE2XSwgWzQ1LjU4MzIsIC0xMjIuNjg3MV0sIFs0NS41NDQ5LCAtMTIyLjU3ODVdLCBbNDUuNTA5NywgLTEyMi42ODE1XSwgWzQ1LjUzMDksIC0xMjIuNjgyNl0sIFs0NS41NTQ1LCAtMTIyLjY3NTddLCBbNDUuNTA0NywgLTEyMi42MzIxXSwgWzQ1LjQ3ODIsIC0xMjIuNjk0N10sIFs0NS41MzIsIC0xMjIuNjI4OTk5OTk5OTk5OTldLCBbNDUuNTI2OCwgLTEyMi42NDE4XSwgWzQ1LjUxMjMsIC0xMjIuNjI2MV0sIFs0NS41NDg0LCAtMTIyLjYxNTRdLCBbNDUuNDk3OCwgLTEyMi42MTExXSwgWzQ1LjU3MjEsIC0xMjIuNzI1OF0sIFs0NS41MjAyLCAtMTIyLjY3NDNdLCBbNDUuNTI0NywgLTEyMi42NzI2XSwgWzQ1LjUyMzUsIC0xMjIuNjM3MV0sIFs0NS41MTc3LCAtMTIyLjY4MjVdLCBbNDUuNTI2OCwgLTEyMi41ODQ5XSwgWzQ1LjU1OTYsIC0xMjIuNzAyM10sIFs0NS41MjE0LCAtMTIyLjY2MTFdLCBbNDUuNTIzMiwgLTEyMi42NDM4XSwgWzQ1LjQyLCAtMTIyLjc4NTddLCBbNDUuNDYzNSwgLTEyMi41Nzk1XSwgWzQ1LjUxMjMsIC0xMjIuNjE0N10sIFs0NS40NTYzLCAtMTIyLjc2NzZdLCBbNDUuNTE3NiwgLTEyMi42NTA5XSwgWzQ1LjUxODEsIC0xMjIuNjhdLCBbNDUuNTMxNiwgLTEyMi42NTQ2XSwgWzQ1LjUzNCwgLTEyMi42MDE0XSwgWzQ1LjUxNjMsIC0xMjIuNjMxMl0sIFs0NS41MTM5LCAtMTIyLjY3NzFdLCBbNDUuNTI2MSwgLTEyMi41MDExXSwgWzQ1LjUyMjgsIC0xMjIuNjU2Ml0sIFs0NS41MDQ2LCAtMTIyLjYyNTZdLCBbNDUuNTE4OCwgLTEyMi42NTgxXSwgWzQ1LjU2ODIsIC0xMjIuNjgxOV0sIFs0NS41MzIzLCAtMTIyLjY5ODhdLCBbNDUuNTE1MywgLTEyMi42NjQ0XSwgWzQ1LjU1MDMsIC0xMjIuNjc1OF0sIFs0NS41MTMwMDAwMDAwMDAwMDUsIC0xMjIuNjc3OF0sIFs0NS40OTc2LCAtMTIyLjU5NDldLCBbNDUuNTE2MywgLTEyMi43NTM1XSwgWzQ1LjQ3OSwgLTEyMi42MjEwMDAwMDAwMDAwMV0sIFs0NS41MjMxLCAtMTIyLjY4MTNdLCBbNDUuNTA5NCwgLTEyMi42ODE3XSwgWzQ1LjU1ODksIC0xMjIuNjM0Ml0sIFs0NS41MTIyLCAtMTIyLjYzMjZdLCBbNDUuNTcxOSwgLTEyMi42NTE1XSwgWzQ1LjUxOTQsIC0xMjIuNDY5XSwgWzQ1LjUyNDMsIC0xMjIuNjczOF0sIFs0NS41MTgxLCAtMTIyLjY5MTVdLCBbNDUuNTE5LCAtMTIyLjU1ODRdLCBbNDUuNDM3NiwgLTEyMi43NTc4XSwgWzQ1LjU4OTUsIC0xMjIuNzUyOF0sIFs0NS40ODUzLCAtMTIyLjY0NzFdLCBbNDUuNTIyNywgLTEyMi42Njk3XSwgWzQ1LjQ2NywgLTEyMi43MTMyXSwgWzQ1LjUxMzcsIC0xMjIuNjc3MV0sIFs0NS41Mjk1LCAtMTIyLjY5ODldLCBbNDUuNTE2OTk5OTk5OTk5OTk2LCAtMTIyLjYyOTddLCBbNDUuNTIxLCAtMTIyLjY4MzVdLCBbNDUuNTAwNCwgLTEyMi42NTM0XSwgWzQ1LjUyMzIsIC0xMjIuNjk1OV0sIFs0NS41MzM3LCAtMTIyLjU0NzddLCBbNDUuNTIyMywgLTEyMi42NzMxXSwgWzQ1LjU2MjMsIC0xMjIuNjM1MV0sIFs0NS41MTE5LCAtMTIyLjYxNV0sIFs0NS40OTI0LCAtMTIyLjYwMl0sIFs0NS41MjMsIC0xMjIuNjQzMV0sIFs0NS41MDM4LCAtMTIyLjUxNTVdLCBbNDUuNTEyOCwgLTEyMi42NTQ5XSwgWzQ1LjU3NzQsIC0xMjIuNjc1N10sIFs0NS40ODY4LCAtMTIyLjU3OTFdLCBbNDUuNTEyMiwgLTEyMi42MzE1XSwgWzQ1LjUyMjksIC0xMjIuNjkwNl0sIFs0NS41MjE4LCAtMTIyLjgwMjJdLCBbNDUuNTYyNywgLTEyMi42NTg1XSwgWzQ1LjUxNjcsIC0xMjIuNjQyMl0sIFs0NS40NjQxLCAtMTIyLjY1NDddLCBbNDUuNDk3MSwgLTEyMi41ODM5XSwgWzQ1LjQ2MzYsIC0xMjIuNTc5Nl0sIFs0NS40OTcxLCAtMTIyLjY3ODVdLCBbNDUuNTI5NSwgLTEyMi42OTQ4XSwgWzQ1LjUxOTMsIC0xMjIuNTgyMDAwMDAwMDAwMDFdLCBbNDUuNTI3LCAtMTIyLjUxODNdLCBbNDUuNTI2NywgLTEyMi42NDE4XSwgWzQ1LjUyNTgsIC0xMjIuNjg0OV0sIFs0NS41MTc3LCAtMTIyLjY3NzddLCBbNDUuNDk2NywgLTEyMi42MjZdLCBbNDUuNTQwNiwgLTEyMi42MDk5XSwgWzQ1LjUzMiwgLTEyMi42Mjg5OTk5OTk5OTk5OV0sIFs0NS41MTYzLCAtMTIyLjYzMDZdLCBbNDUuNTEwMSwgLTEyMi42ODQzXSwgWzQ1LjUxMjYsIC0xMjIuNjUzNV0sIFs0NS40OTUyLCAtMTIyLjYwNzZdLCBbNDUuNTgyMywgLTEyMi42ODczXSwgWzQ1LjUwNTUsIC0xMjIuNjEwM10sIFs0NS41MTIxLCAtMTIyLjY4MTZdLCBbNDUuNTM0LCAtMTIyLjYyNDRdLCBbNDUuNTU5MiwgLTEyMi42NTEzXSwgWzQ1LjUzNDksIC0xMjIuNjU2Ml0sIFs0NS41OCwgLTEyMi41NzU3XSwgWzQ1LjUwMzgsIC0xMjIuNTQwNl0sIFs0NS40NzI3LCAtMTIyLjYxMDFdLCBbNDUuNTM5OCwgLTEyMi43MDAyXSwgWzQ1LjUxMjUsIC0xMjIuNjc1Nl0sIFs0NS41MjM0LCAtMTIyLjY1ODRdLCBbNDUuNTUwMiwgLTEyMi42NjY0XSwgWzQ1LjU1OTMsIC0xMjIuNjU0M10sIFs0NS41MjM5LCAtMTIyLjY1OThdLCBbNDUuNTM5MywgLTEyMi42NzQ2XSwgWzQ1LjUxMiwgLTEyMi42MzE4XSwgWzQ1LjUyNzIsIC0xMjIuNjQxN10sIFs0NS41MjIsIC0xMjIuNjQxN10sIFs0NS41NDc3LCAtMTIyLjY3NTddLCBbNDUuNTMxMDAwMDAwMDAwMDA2LCAtMTIyLjY5ODldLCBbNDUuNTA1MiwgLTEyMi42MDA5XSwgWzQ1LjUyOTQsIC0xMjIuNjk4M10sIFs0NS41NDg0LCAtMTIyLjY0MTRdLCBbNDUuNDg0OSwgLTEyMi42Mzk1XSwgWzQ1LjUzNDYsIC0xMjIuNjk4XSwgWzQ1LjUyMzk5OTk5OTk5OTk5NCwgLTEyMi42ODA0XSwgWzQ1LjU0MzksIC0xMjIuNTk5Nl0sIFs0NS41MjI3LCAtMTIyLjY0NzNdLCBbNDUuNDc0MywgLTEyMi42NDg1XSwgWzQ1LjQ3OCwgLTEyMi42NDg5XSwgWzQ1LjUzNTMsIC0xMjIuNjIxMl0sIFs0NS41MDU1LCAtMTIyLjY4MzVdLCBbNDUuNDk3MiwgLTEyMi41OTY3XSwgWzQ1LjUyMTEsIC0xMjIuNjgwNF0sIFs0NS41NzAxLCAtMTIyLjY2MDZdLCBbNDUuNTIzOSwgLTEyMi42MzddLCBbNDUuNDYzNiwgLTEyMi41Nzk2XSwgWzQ1LjQzMjcsIC0xMjIuODIzN10sIFs0NS41MDM1LCAtMTIyLjYzOThdLCBbNDUuNTc2MywgLTEyMi42NjE3XSwgWzQ1LjQ2NTYsIC0xMjIuNjUyOF0sIFs0NS41MjYzLCAtMTIyLjY4MjRdLCBbNDUuNTU4OSwgLTEyMi42NDQxXSwgWzQ1LjUyNjIsIC0xMjIuNjE1Ml0sIFs0NS41MTY5OTk5OTk5OTk5OTYsIC0xMjIuNjU5MV0sIFs0NS41NzYzLCAtMTIyLjY2MTddLCBbNDUuNTA1LCAtMTIyLjYxMzNdLCBbNDUuNTIyOCwgLTEyMi42NTk1XSwgWzQ1LjU0OSwgLTEyMi41ODY1XSwgWzQ1LjUwMDQsIC0xMjIuNjcyMDAwMDAwMDAwMDFdLCBbNDUuNDc4NywgLTEyMi41Njc4XSwgWzQ1LjU1NTgsIC0xMjIuNjAzXSwgWzQ1LjQ2MzUsIC0xMjIuNjgzOF0sIFs0NS41MDQ3LCAtMTIyLjYzNjAwMDAwMDAwMDAxXSwgWzQ1LjUyMTMsIC0xMjIuNjUzOF0sIFs0NS41NTQzLCAtMTIyLjY3NTNdLCBbNDUuNTM0MywgLTEyMi42OTY1XSwgWzQ1LjUyMTEsIC0xMjIuNjc2Ml0sIFs0NS40OTM0LCAtMTIyLjc3NzhdLCBbNDUuNTEyMiwgLTEyMi42MTQzXSwgWzQ1LjUzMDEsIC0xMjIuNjg4M10sIFs0NS41MjY5LCAtMTIyLjY5ODRdLCBbNDUuNTM2OCwgLTEyMi40Nzc3XSwgWzQ1LjU1NDIsIC0xMjIuODM2XSwgWzQ1LjUxNzcsIC0xMjIuNjc0NF0sIFs0NS41MTk3LCAtMTIyLjY4NDJdLCBbNDUuNTczMSwgLTEyMi41NTgxXSwgWzQ1LjU1OTIsIC0xMjIuNjQzOTk5OTk5OTk5OTldLCBbNDUuNTg5MywgLTEyMi41OTMyXSwgWzQ1LjUxNSwgLTEyMi43OTE1XSwgWzQ1LjUwNzcsIC0xMjIuNTc4MV0sIFs0NS40Mjk1LCAtMTIyLjgzMDhdLCBbNDUuNTYyNSwgLTEyMi42NzYzXSwgWzQ1LjU2MjYsIC0xMjIuNjY2N10sIFs0NS41MTQ0LCAtMTIyLjc4OTFdLCBbNDUuNTE2OCwgLTEyMi42MTgzXSwgWzQ1LjU4MTMsIC0xMjIuNzIxOV0sIFs0NS41MjA0LCAtMTIyLjY2MzVdLCBbNDUuNTAwNSwgLTEyMi42NTI3XSwgWzQ1LjUxMTksIC0xMjIuNjE3Ml0sIFs0NS40NzM5LCAtMTIyLjY0OTJdLCBbNDUuNDk2NywgLTEyMi41NzY2XSwgWzQ1LjUxNjQsIC0xMjIuNjMwM10sIFs0NS41Mjk0LCAtMTIyLjY5NDhdLCBbNDUuNTEyMiwgLTEyMi42MTddLCBbNDUuNDgyNywgLTEyMi41MzgyXSwgWzQ1LjUxNjk5OTk5OTk5OTk5NiwgLTEyMi42NzU0XSwgWzQ1LjUxNzUsIC0xMjIuNjYwNF0sIFs0NS41NjI5LCAtMTIyLjY1ODk5OTk5OTk5OTk5XSwgWzQ1LjQ2MzksIC0xMjIuNTc5NF0sIFs0NS41NTE0LCAtMTIyLjY3NThdLCBbNDUuNTA5NCwgLTEyMi42ODE2XSwgWzQ1LjUxMzMsIC0xMjIuNjIyN10sIFs0NS41MDIxLCAtMTIyLjU3Nzk5OTk5OTk5OTk5XSwgWzQ1LjU0ODUsIC0xMjIuNjE0NF0sIFs0NS41NjMsIC0xMjIuNjU5MV0sIFs0NS41MTIyLCAtMTIyLjYxMzk5OTk5OTk5OTk5XSwgWzQ1LjUxMjQsIC0xMjIuNjMwNl0sIFs0NS41MDQ4LCAtMTIyLjYzNDVdLCBbNDUuNTMzOSwgLTEyMi42OTVdLCBbNDUuNTU5MiwgLTEyMi42MzQyXSwgWzQ1LjUwNDcsIC0xMjIuNjM0Ml0sIFs0NS40Nzg0LCAtMTIyLjY5NjddLCBbNDUuNTE2OCwgLTEyMi42NzY2XSwgWzQ1LjUxMjcsIC0xMjIuNjU2XSwgWzQ1LjUxMjQsIC0xMjIuNjI3N10sIFs0NS41MjI3LCAtMTIyLjYwMzldLCBbNDUuNDk1MiwgLTEyMi42MDc2XSwgWzQ1LjU1ODUsIC0xMjIuNTUzXSwgWzQ1LjUyMzcsIC0xMjIuNjZdLCBbNDUuNDc3MywgLTEyMi41NTg5XSwgWzQ1LjUwMTUsIC0xMjIuNTM3OV0sIFs0NS41MjA1LCAtMTIyLjY2MDRdLCBbNDUuNTIyLCAtMTIyLjY4MTZdLCBbNDUuMzk5NCwgLTEyMi42MTk4XSwgWzQ1LjUzMzksIC0xMjIuNjAxM10sIFs0NS41NTkyLCAtMTIyLjY0OTVdLCBbNDUuNDY3OCwgLTEyMi43MTM1XSwgWzQ1LjUyNDEsIC0xMjIuNjg0NV0sIFs0NS40ODU2LCAtMTIyLjc1NzJdLCBbNDUuNTU0OCwgLTEyMi42NjY5XSwgWzQ1LjUwNDksIC0xMjIuNjMxM10sIFs0NS41MjI0LCAtMTIyLjYzNzFdLCBbNDUuNTc3NCwgLTEyMi42OTgxXSwgWzQ1LjQ3NTksIC0xMjIuNzA1MV0sIFs0NS40OTYsIC0xMjIuNTc4Ml0sIFs0NS40ODEsIC0xMjIuNjc3XSwgWzQ1LjUwNTQsIC0xMjIuNjExNl0sIFs0NS41NjI1LCAtMTIyLjY3NDRdLCBbNDUuNTU0NSwgLTEyMi42NzZdLCBbNDUuNDk4MSwgLTEyMi42MjEyXSwgWzQ1LjU1MDIsIC0xMjIuNjY2NF0sIFs0NS41MDQ4LCAtMTIyLjYzNDJdLCBbNDUuNTExMSwgLTEyMi42NjI3XSwgWzQ1LjU1MTgsIC0xMjIuNjY2M10sIFs0NS41Njg3LCAtMTIyLjY2MTddLCBbNDUuNTE2MiwgLTEyMi42NDFdLCBbNDUuNTcxOTk5OTk5OTk5OTk2LCAtMTIyLjY1NzVdLCBbNDUuNTI0MiwgLTEyMi42ODA4XSwgWzQ1LjUyMzMsIC0xMjIuNjgyNF0sIFs0NS40Njc1LCAtMTIyLjY1MzNdLCBbNDUuNTEwMSwgLTEyMi42ODM4XSwgWzQ1LjUzMzIsIC0xMjIuNTQzMV0sIFs0NS41Mjg0LCAtMTIyLjgxNTVdLCBbNDUuNTU1OCwgLTEyMi42MTkxXSwgWzQ1LjUxNjk5OTk5OTk5OTk5NiwgLTEyMi42NTZdLCBbNDUuNDY3OCwgLTEyMi43MTNdLCBbNDUuNTA1MywgLTEyMi42NTY0XSwgWzQ1LjU2MjcsIC0xMjIuNjQ4M10sIFs0NS41MjI1LCAtMTIyLjY4MzVdLCBbNDUuNTI4MiwgLTEyMi42OTQ3XSwgWzQ1LjQ2MjksIC0xMjIuNjg0Nl0sIFs0NS41MTcxLCAtMTIyLjY3MzVdLCBbNDUuNTYyOSwgLTEyMi42ODkxXSwgWzQ1LjQ4NzUsIC0xMjIuNTc5NF0sIFs0NS41MzEwMDAwMDAwMDAwMDYsIC0xMjIuNjYwOV0sIFs0NS41MjMxLCAtMTIyLjY0MTddLCBbNDUuNTE5NiwgLTEyMi41MDk1XSwgWzQ1LjUyMzk5OTk5OTk5OTk5NCwgLTEyMi42Nzk4XSwgWzQ1LjU0ODUsIC0xMjIuNjE3OF0sIFs0NS41NzczLCAtMTIyLjY3NTNdLCBbNDUuNTUzMSwgLTEyMi44MzUyXSwgWzQ1LjUxMTksIC0xMjIuNjIxNV0sIFs0NS41MTI5LCAtMTIyLjY1NDRdLCBbNDUuNTI4MiwgLTEyMi42ODA2XSwgWzQ1LjUxNjYsIC0xMjIuNjI4N10sIFs0NS41NTEzLCAtMTIyLjY3NTldLCBbNDUuNTEyMSwgLTEyMi42NDczXSwgWzQ1LjUwNSwgLTEyMi42Mzk5XSwgWzQ1LjUxMTksIC0xMjIuNjMxXSwgWzQ1LjU2MjQsIC0xMjIuNjIwNl0sIFs0NS41MTk4LCAtMTIyLjY3ODZdLCBbNDUuNDg2MDAwMDAwMDAwMDA0LCAtMTIyLjU4ODNdLCBbNDUuNTE2NywgLTEyMi42NTE0XSwgWzQ1LjUxMjQsIC0xMjIuNjMxMl0sIFs0NS41MDQ5LCAtMTIyLjU3NjNdLCBbNDUuNTg3OCwgLTEyMi43NDI0XSwgWzQ1LjQ5ODEsIC0xMjIuNTc4NF0sIFs0NS41MjM4LCAtMTIyLjY2MTZdLCBbNDUuNTQwMywgLTEyMi42NjE4XSwgWzQ1LjUyNzMsIC0xMjIuNjk4NF0sIFs0NS40NjM2LCAtMTIyLjU3OTZdLCBbNDUuNTA0OCwgLTEyMi42NTQ2XSwgWzQ1LjUwNSwgLTEyMi42Mjc4XSwgWzQ1LjQ5NjcsIC0xMjIuNjI4NF0sIFs0NS40Nzg3LCAtMTIyLjU2NzhdLCBbNDUuNTM0OSwgLTEyMi42NTEwMDAwMDAwMDAwMV0sIFs0NS40OTUyLCAtMTIyLjY3MDldLCBbNDUuNTI2NywgLTEyMi41ODgzXSwgWzQ1LjUyNTEsIC0xMjIuNjc5OF0sIFs0NS41MTE4LCAtMTIyLjc3Nzk5OTk5OTk5OTk5XSwgWzQ1LjUxNjYsIC0xMjIuNjE4M10sIFs0NS41MDI1LCAtMTIyLjUzNzNdLCBbNDUuNDc4OSwgLTEyMi42OTQ2XSwgWzQ1LjUyMTQsIC0xMjIuNjcyNV0sIFs0NS41MTI4LCAtMTIyLjY1NDldLCBbNDUuNTU5MiwgLTEyMi42MzkzXSwgWzQ1LjU1MzQsIC0xMjIuNTM2N10sIFs0NS41MjIyLCAtMTIyLjY4NDJdLCBbNDUuNDY0MiwgLTEyMi42NTQzXSwgWzQ1LjU4MywgLTEyMi42ODcyXSwgWzQ1LjQ5MzQsIC0xMjIuNzc3N10sIFs0NS41OTYyLCAtMTIyLjc1MDZdLCBbNDUuNTIyNiwgLTEyMi42ODRdLCBbNDUuNTcwMywgLTEyMi42ODcxXSwgWzQ1LjUzODAwMDAwMDAwMDAwNCwgLTEyMi42MTU0XSwgWzQ1LjUyMTUsIC0xMjIuNjcyM10sIFs0NS41MzUsIC0xMjIuNjYzOV0sIFs0NS41ODkyLCAtMTIyLjU5MzVdLCBbNDUuNTE3OCwgLTEyMi42NTk0XSwgWzQ1LjUyNjMsIC0xMjIuNjg5Nl0sIFs0NS41MTE0LCAtMTIyLjY1MzddLCBbNDUuNTI4OSwgLTEyMi42ODM5XSwgWzQ1LjUyMjQsIC0xMjIuNjc3N10sIFs0NS41NDAzLCAtMTIyLjU3ODZdLCBbNDUuNTUwMiwgLTEyMi42NzU5XSwgWzQ1LjUwNDcsIC0xMjIuNjQyMV0sIFs0NS41MTgyLCAtMTIyLjY4MTddLCBbNDUuNTIxOCwgLTEyMi42Mzc2XSwgWzQ1LjQ3NDksIC0xMjIuNjQ5Ml0sIFs0NS41MjEsIC0xMjIuNjc2M10sIFs0NS41MDQ2LCAtMTIyLjYyOTRdLCBbNDUuNTM2MSwgLTEyMi41MzcyXSwgWzQ1LjU2OTUsIC0xMjIuNjgyNl0sIFs0NS41OTE4LCAtMTIyLjc1NjddLCBbNDUuNTIsIC0xMjIuNjgyNl0sIFs0NS41NDg0LCAtMTIyLjY2N10sIFs0NS41NDgsIC0xMjIuNTg3MV0sIFs0NS4zOTI2LCAtMTIyLjYxMzJdLCBbNDUuNTEzOSwgLTEyMi42ODEyXSwgWzQ1LjUxNjMsIC0xMjIuNjMwMl0sIFs0NS41MjExLCAtMTIyLjY3ODVdLCBbNDUuNTI2NywgLTEyMi41ODg0XSwgWzQ1LjUwNDYsIC0xMjIuNjM1XSwgWzQ1LjQ5NTksIC0xMjIuNjA4Nl0sIFs0NS41MTI1LCAtMTIyLjY2NTJdLCBbNDUuNTIyNCwgLTEyMi42NTk0XSwgWzQ1LjUxNjUsIC0xMjIuNjg1NV0sIFs0NS41MTAxLCAtMTIyLjY4NDNdLCBbNDUuNDk2NCwgLTEyMi42NzA4XSwgWzQ1LjUwNDgsIC0xMjIuNDg3N10sIFs0NS41MzExLCAtMTIyLjgzMDFdLCBbNDUuNTE0MSwgLTEyMi42ODE3XSwgWzQ1LjUxMTksIC0xMjIuNjY1NF0sIFs0NS41MzUyLCAtMTIyLjY0NzVdLCBbNDUuNTQ3NywgLTEyMi42NjgyXSwgWzQ1LjUyMTIsIC0xMjIuNjgwN10sIFs0NS41NDYzLCAtMTIyLjY3Nl0sIFs0NS41MTY5LCAtMTIyLjYxODNdLCBbNDUuNTU0NCwgLTEyMi42NzU4XSwgWzQ1LjUxNjYsIC0xMjIuNjI4OV0sIFs0NS40OTMyLCAtMTIyLjYzNjFdLCBbNDUuNTY0NSwgLTEyMi42Mjk5XSwgWzQ1LjUyODksIC0xMjIuNjk0OF0sIFs0NS41MjI2LCAtMTIyLjU3ODddLCBbNDUuNTUzMDAwMDAwMDAwMDA0LCAtMTIyLjY3NTZdLCBbNDUuNTc2MywgLTEyMi42NjE3XSwgWzQ1LjUzNDksIC0xMjIuNjQxOF0sIFs0NS41MTY4LCAtMTIyLjY1NzZdLCBbNDUuNTExOSwgLTEyMi42MjQ5XSwgWzQ1LjUzMTQsIC0xMjIuNjk0OF0sIFs0NS40OTYyLCAtMTIyLjY3MjZdLCBbNDUuNTIyNywgLTEyMi42MzU0XSwgWzQ1LjUyMDYsIC0xMjIuNjgyOF0sIFs0NS41MzM4LCAtMTIyLjU0NzhdLCBbNDUuNTYyNiwgLTEyMi42Nzk1XSwgWzQ1LjUxNjgsIC0xMjIuNjc1MV0sIFs0NS41MDMyLCAtMTIyLjY0MDFdLCBbNDUuNTIwMywgLTEyMi42NzM5XSwgWzQ1LjUxMDEsIC0xMjIuNjgzMl0sIFs0NS41MTkyLCAtMTIyLjU1ODddLCBbNDUuNDk2OSwgLTEyMi42NTM5XSwgWzQ1LjUzMzEsIC0xMjIuNjgyNl0sIFs0NS41NDA2LCAtMTIyLjcxMjhdLCBbNDUuNDYzNiwgLTEyMi41Nzk2XSwgWzQ1LjUwNTEsIC0xMjIuNjEwNl0sIFs0NS41MzUyLCAtMTIyLjY5ODldLCBbNDUuNTMzNSwgLTEyMi42MDldLCBbNDUuNTI2MywgLTEyMi42OTg3XSwgWzQ1LjUzNTksIC0xMjIuNjY0XSwgWzQ1LjUyMTMsIC0xMjIuNjU2OF0sIFs0NS41ODk1LCAtMTIyLjc0ODZdLCBbNDUuNTIwNywgLTEyMi40NzI4XSwgWzQ1LjUxOTQsIC0xMjIuNjAxM10sIFs0NS41NCwgLTEyMi42Njg1XSwgWzQ1LjU1MDYsIC0xMjIuNjc1OF0sIFs0NS41NTIsIC0xMjIuNjgwNl0sIFs0NS41NTkyLCAtMTIyLjYzOTJdLCBbNDUuNTM4MiwgLTEyMi42MTU4XSwgWzQ1LjQ3OTksIC0xMjIuNTc5Ml0sIFs0NS41MTYwMDAwMDAwMDAwMDUsIC0xMjIuNjY1NV0sIFs0NS41MTg2LCAtMTIyLjY2M10sIFs0NS41MTc2LCAtMTIyLjY2MDRdLCBbNDUuNTE2MDAwMDAwMDAwMDA1LCAtMTIyLjY1ODk5OTk5OTk5OTk5XSwgWzQ1LjUxODEsIC0xMjIuNTU5OF0sIFs0NS41MzYyLCAtMTIyLjYxOTNdLCBbNDUuNTIwOSwgLTEyMi42ODc4XSwgWzQ1LjUxOCwgLTEyMi41NjA3XSwgWzQ1LjUwNDgsIC0xMjIuNjQ1XSwgWzQ1LjUyMDcsIC0xMjIuNjgxOF0sIFs0NS41NTg4LCAtMTIyLjY1MTVdLCBbNDUuNDc5NSwgLTEyMi42MTgyXSwgWzQ1LjUyMzEsIC0xMjIuNjg5MV0sIFs0NS40ODYwMDAwMDAwMDAwMDQsIC0xMjIuNTg4M10sIFs0NS41MTYyLCAtMTIyLjc1MjddLCBbNDUuNTEyNywgLTEyMi42NTU5XSwgWzQ1LjU0MDUsIC0xMjIuNjA4Nl0sIFs0NS41MzM1LCAtMTIyLjU5ODddLCBbNDUuNTMzNiwgLTEyMi42OTg1XSwgWzQ1LjUyOTEsIC0xMjIuNjg0Ml0sIFs0NS41MTcyLCAtMTIyLjY3OTRdLCBbNDUuNDkwOCwgLTEyMi41Nzg1XSwgWzQ1LjUyMzIsIC0xMjIuNjkyMV0sIFs0NS41MTEzLCAtMTIyLjY2MjhdLCBbNDUuNTIyOCwgLTEyMi42ODFdLCBbNDUuNTEwMywgLTEyMi43NjA1XSwgWzQ1LjU4NDgsIC0xMjIuNzMxMDAwMDAwMDAwMDFdLCBbNDUuNTI2MywgLTEyMi42MDIxXSwgWzQ1LjUyODYsIC0xMjIuNjk4OF0sIFs0NS41MTIyLCAtMTIyLjYyMTNdLCBbNDUuNTEyNCwgLTEyMi42MTk2XSwgWzQ1LjUzMDEsIC0xMjIuNjk4N10sIFs0NS41MTkyLCAtMTIyLjY3ODJdLCBbNDUuNTMzOSwgLTEyMi42MDI0XSwgWzQ1LjUzNTMsIC0xMjIuNjU0OV0sIFs0NS41MjM0LCAtMTIyLjYzNzFdLCBbNDUuNTExOCwgLTEyMi42MjU1XSwgWzQ1LjUyOTYsIC0xMjIuNjk0MV0sIFs0NS41NDI0LCAtMTIyLjY1ODhdLCBbNDUuNTIsIC0xMjIuNDk2MDAwMDAwMDAwMDFdLCBbNDUuNDg1MywgLTEyMi42NDcxXSwgWzQ1LjUxNzQsIC0xMjIuNjc1OF0sIFs0NS41NTMyLCAtMTIyLjY2NjVdLCBbNDUuNDY0MSwgLTEyMi42NTQ2XSwgWzQ1LjUzMTksIC0xMjIuNjgwNF0sIFs0NS41MzEzLCAtMTIyLjY1NjVdLCBbNDUuNTU1MSwgLTEyMi42ODJdLCBbNDUuNTE2NCwgLTEyMi42ODQzXSwgWzQ1LjQ2OCwgLTEyMi42NTMzXSwgWzQ1LjUwMDEsIC0xMjIuNjcyMDAwMDAwMDAwMDFdLCBbNDUuNTA0OSwgLTEyMi42MzM4XSwgWzQ1LjUzNSwgLTEyMi42NTA4XSwgWzQ1LjUyODEsIC0xMjIuNjg3N10sIFs0NS41NTU3LCAtMTIyLjU4ODZdLCBbNDUuNTA0OCwgLTEyMi42MTA4XSwgWzQ1LjU2OTcsIC0xMjIuNjg3Ml0sIFs0NS41OTAyLCAtMTIyLjc1NTFdLCBbNDUuNTczMSwgLTEyMi41NTgyXSwgWzQ1LjU2NTEsIC0xMjIuNjYxNF0sIFs0NS41MzUzLCAtMTIyLjYyODZdLCBbNDUuNTIwOCwgLTEyMi42ODE1XSwgWzQ1LjUyNzMsIC0xMjIuNjg0M10sIFs0NS41MTIzLCAtMTIyLjY1MDhdLCBbNDUuNTM2MiwgLTEyMi43MDAxXSwgWzQ1LjUyNTIsIC0xMjIuNjgxM10sIFs0NS41MTE1LCAtMTIyLjY4XSwgWzQ1LjUzNTksIC0xMjIuNjg3M10sIFs0NS41MjM0LCAtMTIyLjY2MzFdLCBbNDUuNTI4NiwgLTEyMi44MTYyXSwgWzQ1LjUwODk5OTk5OTk5OTk5LCAtMTIyLjY4MTldLCBbNDUuNTUxNywgLTEyMi42NzZdLCBbNDUuNTE4MSwgLTEyMi41NTk4XSwgWzQ1LjQ2NTksIC0xMjIuNjUzMl0sIFs0NS41MjA5LCAtMTIyLjY4Ml0sIFs0NS41OTA1LCAtMTIyLjc1NDhdLCBbNDUuNTE5NiwgLTEyMi42NzYyXSwgWzQ1LjUyNTQsIC0xMjIuNjk0Ml0sIFs0NS40NjQyLCAtMTIyLjY1NDVdLCBbNDUuNDc4OSwgLTEyMi42NDkxXSwgWzQ1LjU2MjksIC0xMjIuNjk1NF0sIFs0NS40Nzc2LCAtMTIyLjY5ODldLCBbNDUuNTc3MywgLTEyMi42OTUxXSwgWzQ1LjUxOTEsIC0xMjIuNjM2OF0sIFs0NS41MTE0LCAtMTIyLjY1MzRdLCBbNDUuNTM0NSwgLTEyMi42OTZdLCBbNDUuNTI1OSwgLTEyMi42Mzc0XSwgWzQ1LjQ0NDEsIC0xMjIuNjI3NF0sIFs0NS41MTkzLCAtMTIyLjU4MDhdLCBbNDUuNTAzNywgLTEyMi41MzM4XSwgWzQ1LjU3NzgsIC0xMjIuNjgxN10sIFs0NS40OTc0LCAtMTIyLjYxMjAwMDAwMDAwMDAxXSwgWzQ1LjUzNDEsIC0xMjIuNTM2M10sIFs0NS41ODI5LCAtMTIyLjY4NzFdLCBbNDUuNTI1NiwgLTEyMi42NDU5XSwgWzQ1LjU2MjksIC0xMjIuNjcwOV0sIFs0NS41NTQ4LCAtMTIyLjgzNl0sIFs0NS41NTMwMDAwMDAwMDAwMDQsIC0xMjIuNjgxM10sIFs0NS41NDEwMDAwMDAwMDAwMDQsIC0xMjIuNjczMl0sIFs0NS40OTc3LCAtMTIyLjc2NjZdLCBbNDUuNTI4MywgLTEyMi44MTUxXSwgWzQ1LjUyMzgsIC0xMjIuNjgyOTk5OTk5OTk5OTldLCBbNDUuNTExOSwgLTEyMi42MTQ5XSwgWzQ1LjU1Mzk5OTk5OTk5OTk5NSwgLTEyMi42Njc1XSwgWzQ1LjQ2MTksIC0xMjIuNzAzMV0sIFs0NS41NzExLCAtMTIyLjYxMzhdLCBbNDUuNTQ4NSwgLTEyMi42MTQ4XSwgWzQ1LjU1NzcsIC0xMjIuNTQ0XSwgWzQ1LjU0ODQsIC0xMjIuNjUyMV0sIFs0NS41MDQ1LCAtMTIyLjYyOTJdLCBbNDUuNTEyMSwgLTEyMi42MTc0XSwgWzQ1LjUzNTUsIC0xMjIuNjg4NV0sIFs0NS40ODYxLCAtMTIyLjU4ODldLCBbNDUuNTIxOCwgLTEyMi42Mzc2XSwgWzQ1LjUzMTcsIC0xMjIuNjgyOF0sIFs0NS40NzksIC0xMjIuNjE2OV0sIFs0NS41NjI5LCAtMTIyLjY2MDVdLCBbNDUuNTEzOSwgLTEyMi42ODQ1XSwgWzQ1LjU0NjcsIC0xMjIuNTkyOV0sIFs0NS41NDU1LCAtMTIyLjU3OV0sIFs0NS41Mjg0LCAtMTIyLjY4MDZdLCBbNDUuNDcyNywgLTEyMi42NzIyXSwgWzQ1LjQ2MDEsIC0xMjIuNzA4OV0sIFs0NS41NTgsIC0xMjIuNjc1M10sIFs0NS41MTIyLCAtMTIyLjYxNDFdLCBbNDUuNDc5NCwgLTEyMi42MTM5OTk5OTk5OTk5OV0sIFs0NS41NTkzLCAtMTIyLjY0MTZdLCBbNDUuNTQ4NCwgLTEyMi42NTI0XSwgWzQ1LjUxMjUsIC0xMjIuNjJdLCBbNDUuNDQ0OCwgLTEyMi43MjY0XSwgWzQ1LjU1MjMsIC0xMjIuNTc5NV0sIFs0NS41MjYzLCAtMTIyLjY4NDZdLCBbNDUuNDc5LCAtMTIyLjYxODFdLCBbNDUuNTM1MSwgLTEyMi43MDgyXSwgWzQ1LjQ4OSwgLTEyMi41OTU3XSwgWzQ1LjU1OTQsIC0xMjIuNjQ4M10sIFs0NS40OTYzLCAtMTIyLjU2NzFdLCBbNDUuNTIxNSwgLTEyMi42ODRdLCBbNDUuNTE2MywgLTEyMi42MzA2XSwgWzQ1LjU2MjYsIC0xMjIuNjk0OV0sIFs0NS41MTI3LCAtMTIyLjY1MzRdLCBbNDUuNTA5MywgLTEyMi42ODI1XSwgWzQ1LjU1OTQsIC0xMjIuNjIwMl0sIFs0NS40ODg0LCAtMTIyLjY1MTAwMDAwMDAwMDAxXSwgWzQ1LjUwOTYsIC0xMjIuNjg0N10sIFs0NS41NTQyLCAtMTIyLjgzNl0sIFs0NS41MTYzLCAtMTIyLjYzMzZdLCBbNDUuNTAyNiwgLTEyMi42Nzg5XSwgWzQ1LjUyMTQsIC0xMjIuNjgzOV0sIFs0NS41MjA0LCAtMTIyLjY4MDhdLCBbNDUuNTIzMiwgLTEyMi42NDc3XSwgWzQ1LjU1MTYsIC0xMjIuNjc1N10sIFs0NS41MjE1LCAtMTIyLjY3NjFdLCBbNDUuNTU0NSwgLTEyMi42ODE2XSwgWzQ1LjUwNSwgLTEyMi42MTk0XSwgWzQ1LjQ2NywgLTEyMi43MTM1XSwgWzQ1LjUyMzIsIC0xMjIuNjc1N10sIFs0NS41MjA0LCAtMTIyLjY4NF0sIFs0NS41Njg2LCAtMTIyLjYzMDNdLCBbNDUuNDczOCwgLTEyMi42NDgzXSwgWzQ1LjUxNjk5OTk5OTk5OTk5NiwgLTEyMi42NzUzXSwgWzQ1LjUxMTksIC0xMjIuNjE4NF0sIFs0NS41MjQzLCAtMTIyLjddLCBbNDUuNTMwNCwgLTEyMi42OTg4XSwgWzQ1LjUxOTksIC0xMjIuNjU5NF0sIFs0NS41MzIxLCAtMTIyLjY5ODhdLCBbNDUuNDkwNSwgLTEyMi41Nzc5OTk5OTk5OTk5OV0sIFs0NS41MjQyLCAtMTIyLjY3MTZdLCBbNDUuNTIzLCAtMTIyLjYwNzddLCBbNDUuNDY3NCwgLTEyMi43MTI3XSwgWzQ1LjUxNDksIC0xMjIuNjYwM10sIFs0NS41MTY5LCAtMTIyLjYyOTddLCBbNDUuNTI1MywgLTEyMi42OTg2XSwgWzQ1LjU1NDIsIC0xMjIuNjc1M10sIFs0NS41MDUsIC0xMjIuNTcyOV0sIFs0NS41Mjk1LCAtMTIyLjY5MDhdLCBbNDUuNTYsIC0xMjIuNjgyNl0sIFs0NS41MTM4LCAtMTIyLjY1ODRdLCBbNDUuNTE2NiwgLTEyMi42MzI1XSwgWzQ1LjUyMywgLTEyMi42OTI2XSwgWzQ1LjQ2NjcsIC0xMjIuNzUxNV0sIFs0NS4zOTQxLCAtMTIyLjc1MDFdLCBbNDUuNTEyOCwgLTEyMi42NTQ5XSwgWzQ1LjUxODUsIC0xMjIuNjYyOV0sIFs0NS40OTIyLCAtMTIyLjQ4NjRdLCBbNDUuNTI3MSwgLTEyMi42ODI0XSwgWzQ1LjUyMjQsIC0xMjIuNjc2OF0sIFs0NS40NjQ3LCAtMTIyLjU3OTJdLCBbNDUuNTIxMywgLTEyMi42NTY4XSwgWzQ1LjUzODIsIC0xMjIuNjE1OF0sIFs0NS41MTk0LCAtMTIyLjUzODFdLCBbNDUuNTIyNSwgLTEyMi42NjA0XSwgWzQ1LjUzNSwgLTEyMi42NDI1XSwgWzQ1LjUxNDQsIC0xMjIuNjgzMl0sIFs0NS41MDMzLCAtMTIyLjY0NDldLCBbNDUuNTYzLCAtMTIyLjY2MDFdLCBbNDUuNTkxMSwgLTEyMi43NTU0XSwgWzQ1LjQ2MzYsIC0xMjIuNTc5Nl0sIFs0NS41OTEyLCAtMTIyLjc1NTVdLCBbNDUuNTk3NCwgLTEyMi42Njg5XSwgWzQ1LjUzNjEsIC0xMjIuNjY2OV0sIFs0NS41MjAzLCAtMTIyLjY3OTNdLCBbNDUuNTQ5NCwgLTEyMi42NjE5XSwgWzQ1LjQ3ODgsIC0xMjIuNjEyOV0sIFs0NS41MTIyLCAtMTIyLjYzMV0sIFs0NS41MzY3LCAtMTIyLjcwMTJdLCBbNDUuNDAyNSwgLTEyMi43NjU4XSwgWzQ1LjUxNjgsIC0xMjIuNTc5NF0sIFs0NS41MjIzLCAtMTIyLjYzNzZdLCBbNDUuNTM1OSwgLTEyMi42MjMzXSwgWzQ1LjUzNTIsIC0xMjIuNjQ1NV0sIFs0NS41NTAxLCAtMTIyLjY3NTldLCBbNDUuNTMyMiwgLTEyMi42Mjg2XSwgWzQ1LjU1OSwgLTEyMi42NDExXSwgWzQ1LjUwNDksIC0xMjIuNjI1Ml0sIFs0NS41NTU5LCAtMTIyLjYyMDFdLCBbNDUuNTA3NywgLTEyMi41NzgyXSwgWzQ1LjUyMjMsIC0xMjIuNjc4NF0sIFs0NS41MjI2LCAtMTIyLjY3MzFdLCBbNDUuNTM4MSwgLTEyMi42MTUyXSwgWzQ1LjUxODYsIC0xMjIuNjgwOV0sIFs0NS41ODQzLCAtMTIyLjc0NjNdLCBbNDUuNTIyNywgLTEyMi42NTkxXSwgWzQ1LjU0ODUsIC0xMjIuNjE2M10sIFs0NS41MDQzLCAtMTIyLjQ4MzddLCBbNDUuNDgyNSwgLTEyMi41NzkyXSwgWzQ1LjQ5NzgsIC0xMjIuNzY2NV0sIFs0NS41MjUyLCAtMTIyLjY4MDRdLCBbNDUuNTM5OCwgLTEyMi42MDk3XSwgWzQ1LjU4OTcsIC0xMjIuNTkzNF0sIFs0NS41MjM5LCAtMTIyLjY4MDhdLCBbNDUuNDg1MywgLTEyMi43NjU0XSwgWzQ1LjUxOTMsIC0xMjIuNjgzOV0sIFs0NS41MjA0LCAtMTIyLjY3MzVdLCBbNDUuNTA0NywgLTEyMi42NTQxXSwgWzQ1LjQ4NzQsIC0xMjIuNzQ3Nl0sIFs0NS41ODA3LCAtMTIyLjcxODddLCBbNDUuNTQ4NSwgLTEyMi42MjQ2XSwgWzQ1LjUwNTEsIC0xMjIuNTczOV0sIFs0NS41NjI5LCAtMTIyLjY5NTNdLCBbNDUuNTE5MywgLTEyMi42NzkzXSwgWzQ1LjUxNzMsIC0xMjIuNjc0MV0sIFs0NS41MTg3LCAtMTIyLjY3OTddLCBbNDUuNTUwMiwgLTEyMi42NjE1XSwgWzQ1LjQ1MzEsIC0xMjIuNzIzOTk5OTk5OTk5OTldLCBbNDUuNTg4OCwgLTEyMi43NTE1XSwgWzQ1LjUxNzUsIC0xMjIuNTYyOTk5OTk5OTk5OTldLCBbNDUuNTA0OSwgLTEyMi42MzI0XSwgWzQ1LjUxNjYsIC0xMjIuNjU5Nl0sIFs0NS40NjY5LCAtMTIyLjY1MjddLCBbNDUuNTgwMywgLTEyMi43MTg2XSwgWzQ1LjUwMzUsIC0xMjIuNjM5OF0sIFs0NS41Nzk3LCAtMTIyLjU3MjVdLCBbNDUuNTE2MywgLTEyMi43OTU5XSwgWzQ1LjU0OTQsIC0xMjIuNjY2NV0sIFs0NS41MjUzLCAtMTIyLjY4XSwgWzQ1LjU1NzMsIC0xMjIuNjE5OV0sIFs0NS41MjIyLCAtMTIyLjY3MjRdLCBbNDUuNDY0MSwgLTEyMi42NTQ2XSwgWzQ1LjUwNDksIC0xMjIuNjU0Ml0sIFs0NS41MjM2LCAtMTIyLjY3OTNdLCBbNDUuNTU2OCwgLTEyMi43MDE3XSwgWzQ1LjUxOTEsIC0xMjIuNTgzXSwgWzQ1LjUyMjgsIC0xMjIuNjU3OV0sIFs0NS41MjQ0LCAtMTIyLjY3Mjk5OTk5OTk5OTk5XSwgWzQ1LjUyNjYsIC0xMjIuNjQxN10sIFs0NS41NTAyLCAtMTIyLjY2NjVdLCBbNDUuNDkzMSwgLTEyMi43Nzk2XSwgWzQ1LjUwMTUsIC0xMjIuNjU4MV0sIFs0NS41MjUzLCAtMTIyLjY4NDRdLCBbNDUuNTU1NywgLTEyMi41Njk3XSwgWzQ1LjUyMzgsIC0xMjIuNjZdLCBbNDUuNTg5OCwgLTEyMi43NTMyXSwgWzQ1LjU1MjMsIC0xMjIuNjY3XSwgWzQ1LjU0NDQsIC0xMjIuNTk4Nl0sIFs0NS41MzE4LCAtMTIyLjY1NTldLCBbNDUuNTE0NywgLTEyMi42NTcwMDAwMDAwMDAwMV0sIFs0NS41MzI5LCAtMTIyLjY1MzNdLCBbNDUuNTM3MSwgLTEyMi42MjE3XSwgWzQ1LjU2MjcsIC0xMjIuNjQ4N10sIFs0NS41MTcxLCAtMTIyLjY3MjldLCBbNDUuNTIwOSwgLTEyMi42ODM3XSwgWzQ1LjUxNDksIC0xMjIuNjc1M10sIFs0NS4zOTIxLCAtMTIyLjYxMzk5OTk5OTk5OTk5XSwgWzQ1LjQ4NjcsIC0xMjIuNTkwMV0sIFs0NS41MDk1LCAtMTIyLjY4Ml0sIFs0NS41MjI5LCAtMTIyLjYzOTJdLCBbNDUuNTEyMiwgLTEyMi42NDI5XSwgWzQ1LjUzMjUsIC0xMjIuNjk0NF0sIFs0NS41MzM3LCAtMTIyLjY5MTddLCBbNDUuNTIyOSwgLTEyMi42OTA5XSwgWzQ1LjUxMzYsIC0xMjIuNjc3Nl0sIFs0NS41ODc2LCAtMTIyLjc0MjRdLCBbNDUuNTE2NiwgLTEyMi42Mjk0XSwgWzQ1LjUxNjcsIC0xMjIuNjc4OV0sIFs0NS40ODYzLCAtMTIyLjU4NzRdLCBbNDUuNDM2MiwgLTEyMi41NzM4XSwgWzQ1LjQ2MzUsIC0xMjIuNTc5Nl0sIFs0NS41MzQyLCAtMTIyLjY1ODJdLCBbNDUuNTg5MiwgLTEyMi41OTM1XSwgWzQ1LjUzNzMsIC0xMjIuNjE5N10sIFs0NS41NDA4LCAtMTIyLjY3NTVdLCBbNDUuNTI0NSwgLTEyMi42OTkyXSwgWzQ1LjUyMywgLTEyMi42MDc3XSwgWzQ1LjUxMTksIC0xMjIuNjM0MV0sIFs0NS41OTA3LCAtMTIyLjc1NThdLCBbNDUuNTI1MywgLTEyMi42NzczXSwgWzQ1LjUyNzEsIC0xMjIuNjQxNV0sIFs0NS41MjE1LCAtMTIyLjY3ODddLCBbNDUuNDY4NSwgLTEyMi41Nzg4XSwgWzQ1LjUzNDYsIC0xMjIuNjU5Ml0sIFs0NS41MTc2LCAtMTIyLjY3NzldLCBbNDUuNTE3NCwgLTEyMi42NTkxXSwgWzQ1LjU1ODksIC0xMjIuNjQzM10sIFs0NS41MTI4LCAtMTIyLjY1NV0sIFs0NS41MDg5LCAtMTIyLjY3OV0sIFs0NS41MTIzLCAtMTIyLjYzMjRdLCBbNDUuNTIwNSwgLTEyMi42ODFdLCBbNDUuNTExMywgLTEyMi42ODI5OTk5OTk5OTk5OV0sIFs0NS41MTk0LCAtMTIyLjY1NzNdLCBbNDUuNTg3NiwgLTEyMi43NDI0XSwgWzQ1LjUxMzgsIC0xMjIuNTU4OF0sIFs0NS41NDM0LCAtMTIyLjg2NjZdLCBbNDUuNTI2NiwgLTEyMi42ODgyXSwgWzQ1LjU4NzYsIC0xMjIuNzQyNF0sIFs0NS41NjA2LCAtMTIyLjY2MTddLCBbNDUuNDkzNywgLTEyMi41Nzk0XSwgWzQ1LjUzNTIsIC0xMjIuNjUxOF0sIFs0NS41MTExLCAtMTIyLjY2MjVdLCBbNDUuNTA5NSwgLTEyMi42NjEyXSwgWzQ1LjUzMiwgLTEyMi42ODE2XSwgWzQ1LjUyNjcsIC0xMjIuODE1OF0sIFs0NS41OTEzLCAtMTIyLjc1NTddLCBbNDUuNTMyNSwgLTEyMi42NTM2XSwgWzQ1LjUxOTMsIC0xMjIuNTE4OV0sIFs0NS41MTYzLCAtMTIyLjYzMDVdLCBbNDUuNDg2MDAwMDAwMDAwMDA0LCAtMTIyLjU4ODNdLCBbNDUuNTIzNywgLTEyMi42NzQxXSwgWzQ1LjUzNTMsIC0xMjIuNTM1NF0sIFs0NS41MDU1LCAtMTIyLjYxNTVdLCBbNDUuNTU0NSwgLTEyMi42NzU3XSwgWzQ1LjUyMjYsIC0xMjIuNjg0MV0sIFs0NS41MTcxLCAtMTIyLjY1MjVdLCBbNDUuNTQ4NSwgLTEyMi42MTE1XSwgWzQ1LjUxNzEsIC0xMjIuNjc1XSwgWzQ1LjU4OTYsIC0xMjIuNzUzM10sIFs0NS41MTg4LCAtMTIyLjUzMV0sIFs0NS41MTQ5LCAtMTIyLjY4MjRdLCBbNDUuNDcyMiwgLTEyMi41NzldLCBbNDUuNTIyOCwgLTEyMi42ODM3XSwgWzQ1LjU0MDUsIC0xMjIuNjA5NF0sIFs0NS41MTI4LCAtMTIyLjY1NTJdLCBbNDUuNTA3LCAtMTIyLjU3ODRdLCBbNDUuNTA0OSwgLTEyMi42MzYzXSwgWzQ1LjQ2NDEsIC0xMjIuNjQ2N10sIFs0NS42MDE4LCAtMTIyLjY3XSwgWzQ1LjUyNzQsIC0xMjIuNjk4M10sIFs0NS41MTI0LCAtMTIyLjY1MzRdLCBbNDUuNDY3NSwgLTEyMi41Nzg4XSwgWzQ1LjUyNzksIC0xMjIuNjk4N10sIFs0NS42MTI4LCAtMTIyLjY3NTRdLCBbNDUuNTIyLCAtMTIyLjY4MzZdLCBbNDUuNTIwNiwgLTEyMi42MzcxXSwgWzQ1LjU1NDIsIC0xMjIuODM2XSwgWzQ1LjUyMzMsIC0xMjIuNjM3NV0sIFs0NS41MDA2LCAtMTIyLjY1MzVdLCBbNDUuNDg2MywgLTEyMi43NDczXSwgWzQ1LjU1Mzk5OTk5OTk5OTk5NSwgLTEyMi42MDE3XSwgWzQ1LjUyMjMsIC0xMjIuNjgyOF0sIFs0NS40OTYyLCAtMTIyLjU0ODNdLCBbNDUuNTIzNSwgLTEyMi42MzcxXSwgWzQ1LjQzODk5OTk5OTk5OTk5LCAtMTIyLjYyMDNdLCBbNDUuNTEzMDAwMDAwMDAwMDA1LCAtMTIyLjY3NzRdLCBbNDUuNTIwMSwgLTEyMi42NjEzXSwgWzQ1LjUyMTEsIC0xMjIuNjgxMl0sIFs0NS41MzA0LCAtMTIyLjY2MDldLCBbNDUuNTQ4MywgLTEyMi41ODk0XSwgWzQ1LjUzMjYsIC0xMjIuNjgxXSwgWzQ1LjU4MTgsIC0xMjIuNzIyNl0sIFs0NS41MDU3LCAtMTIyLjY2NDRdLCBbNDUuNTU0MiwgLTEyMi44MzZdLCBbNDUuNTMwMywgLTEyMi42ODc4XSwgWzQ1LjUxMTMsIC0xMjIuNjgxOF0sIFs0NS41MTg0LCAtMTIyLjY3NzNdLCBbNDUuNTEzOSwgLTEyMi42NTZdLCBbNDUuNDk2MiwgLTEyMi42NzE3XSwgWzQ1LjUxNjMsIC0xMjIuNjU1N10sIFs0NS41MzMzLCAtMTIyLjU2MDZdLCBbNDUuNTY4MDAwMDAwMDAwMDA1LCAtMTIyLjY4MTldLCBbNDUuNTEyMiwgLTEyMi42NTM3XSwgWzQ1LjUxMTksIC0xMjIuNjQ0OV0sIFs0NS41MDgsIC0xMjIuNjU4Nl0sIFs0NS41NTk0LCAtMTIyLjY0ODNdLCBbNDUuNTE3MywgLTEyMi42ODY0XSwgWzQ1LjU0OCwgLTEyMi42NzU4XSwgWzQ1LjUxOTQsIC0xMjIuNDc4Ml0sIFs0NS41MTA4LCAtMTIyLjY4MTldLCBbNDUuNTU0NCwgLTEyMi42NzU3XSwgWzQ1LjUwNDksIC0xMjIuNjI3OF0sIFs0NS41MzM2LCAtMTIyLjY5ODRdLCBbNDUuNTUxNiwgLTEyMi42NjY3XSwgWzQ1LjUyMjIsIC0xMjIuNjcxNl0sIFs0NS41NTg5LCAtMTIyLjY1MDVdLCBbNDUuNTExNiwgLTEyMi42ODU0XSwgWzQ1LjQ5LCAtMTIyLjY1MzFdLCBbNDUuNDg2NiwgLTEyMi43Njg5XSwgWzQ1LjU3ODk5OTk5OTk5OTk5LCAtMTIyLjY1NDddLCBbNDUuNTQyNywgLTEyMi42MDI4XSwgWzQ1LjU2ODUsIC0xMjIuNTQ0Nl0sIFs0NS41MjA3LCAtMTIyLjY3Nl0sIFs0NS41Mjk3LCAtMTIyLjY4MV0sIFs0NS41ODg4LCAtMTIyLjU5NjRdLCBbNDUuNTE5NiwgLTEyMi42ODQ1XSwgWzQ1LjUyMDksIC0xMjIuNjgyOTk5OTk5OTk5OTldLCBbNDUuNTE4LCAtMTIyLjY3NjVdLCBbNDUuNTI1NiwgLTEyMi42Nzk0XSwgWzQ1LjUzMTYsIC0xMjIuNjgxNl0sIFs0NS41NjMzLCAtMTIyLjUzNDddLCBbNDUuNTcwNywgLTEyMi42ODE4XSwgWzQ1LjUxMjgsIC0xMjIuNjY1Ml0sIFs0NS41NTk0LCAtMTIyLjY1NDhdLCBbNDUuNDg2MDAwMDAwMDAwMDA0LCAtMTIyLjc2MTJdLCBbNDUuNTU5MiwgLTEyMi42MzQzXSwgWzQ1LjUyNjEsIC0xMjIuNjk0N10sIFs0NS40ODM3LCAtMTIyLjU4MTddLCBbNDUuNTIyNywgLTEyMi42NDgzXSwgWzQ1LjU1OTcsIC0xMjIuNTU5MV0sIFs0NS40OTczLCAtMTIyLjYwOV0sIFs0NS41MTYzLCAtMTIyLjYzNjNdLCBbNDUuNTExOSwgLTEyMi42NDFdLCBbNDUuNTY0NiwgLTEyMi42MzAxXSwgWzQ1LjUyMjYsIC0xMjIuNjU2OF0sIFs0NS41MTIsIC0xMjIuNjQ3M10sIFs0NS40OTY0LCAtMTIyLjY3MjFdLCBbNDUuNTYzLCAtMTIyLjY1OThdLCBbNDUuNTk3NSwgLTEyMi42Njk3XSwgWzQ1LjU5MzYsIC0xMjIuNzM1XSwgWzQ1LjQ5MDIsIC0xMjIuNTk4NF0sIFs0NS41MzYyLCAtMTIyLjcwMDFdLCBbNDUuNTQwNSwgLTEyMi42MDk0XSwgWzQ1LjU4OTgsIC0xMjIuNzQ5MV0sIFs0NS41OTA0LCAtMTIyLjc1NTNdLCBbNDUuNTA0OSwgLTEyMi42NTM1XSwgWzQ1LjUyODUsIC0xMjIuNjk4NF0sIFs0NS40NjM1LCAtMTIyLjU3OTVdLCBbNDUuNTIyMSwgLTEyMi42ODE5XSwgWzQ1LjQ2MDQsIC0xMjIuNzA3NV0sIFs0NS41MjcsIC0xMjIuNTE4OV0sIFs0NS40OTg1LCAtMTIyLjY0MDldLCBbNDUuNTM3LCAtMTIyLjc4XSwgWzQ1LjUzMTgsIC0xMjIuNjk1XSwgWzQ1LjUwMzksIC0xMjIuNjcyM10sIFs0NS41Mzc3LCAtMTIyLjY5NzNdLCBbNDUuNDY5OSwgLTEyMi43MzA4XSwgWzQ1LjUyMzQsIC0xMjIuNjYzMV0sIFs0NS41MzMxLCAtMTIyLjQ3NzddLCBbNDUuNTI2OSwgLTEyMi41ODQzXSwgWzQ1LjU4NzksIC0xMjIuNTk0Ml0sIFs0NS41MDM3LCAtMTIyLjYzOTVdLCBbNDUuNTQxMSwgLTEyMi42NjIxXSwgWzQ1LjU4NzQsIC0xMjIuNzQyN10sIFs0NS41NjAxLCAtMTIyLjYwMTFdLCBbNDUuNTE2MywgLTEyMi42MTgxXSwgWzQ1LjQ2NzYsIC0xMjIuNzEzOF0sIFs0NS41MTIyLCAtMTIyLjYxMjhdLCBbNDUuNDkxNywgLTEyMi42MDE0XSwgWzQ1LjUxNzcsIC0xMjIuNjU1NF0sIFs0NS41NDgxLCAtMTIyLjYxMjRdLCBbNDUuNTY2MywgLTEyMi42OTU4XSwgWzQ1LjUwMzcsIC0xMjIuNTM1MV0sIFs0NS41MTk5LCAtMTIyLjY4MjRdLCBbNDUuNTE3NCwgLTEyMi42NTgxXSwgWzQ1LjQ2MTk5OTk5OTk5OTk5NiwgLTEyMi42MTU3XSwgWzQ1LjU5MDMsIC0xMjIuNTkyOF0sIFs0NS41MTIyLCAtMTIyLjYyODhdLCBbNDUuNTM1MiwgLTEyMi42NTA5XSwgWzQ1LjUxODcsIC0xMjIuNDY1NV0sIFs0NS41NjI2LCAtMTIyLjYzNDhdLCBbNDUuNTEyMywgLTEyMi42MzI0XSwgWzQ1LjQ2MzgsIC0xMjIuNjUyOF0sIFs0NS41Njc5LCAtMTIyLjU0MTldLCBbNDUuNTM3LCAtMTIyLjcwNTFdLCBbNDUuNTM0NSwgLTEyMi42NTEzXSwgWzQ1LjUxMDEsIC0xMjIuNjg0M10sIFs0NS41MDk2LCAtMTIyLjczNDRdLCBbNDUuNTI2MiwgLTEyMi42ODldLCBbNDUuNDkzNSwgLTEyMi42MjM0XSwgWzQ1LjUzNDMsIC0xMjIuNTM2M10sIFs0NS41MjY0LCAtMTIyLjY4NTldLCBbNDUuNTAzNywgLTEyMi41MzUxXSwgWzQ1LjUxMzksIC0xMjIuNjc3MV0sIFs0NS41MTY3LCAtMTIyLjYyMzFdLCBbNDUuNTYyOSwgLTEyMi42NTkxXSwgWzQ1LjUxMjMsIC0xMjIuNjMyNF0sIFs0NS40NzkxLCAtMTIyLjYxNzddLCBbNDUuNTM0OSwgLTEyMi42NTA3XSwgWzQ1LjUxNjUsIC0xMjIuNjgzOF0sIFs0NS41MzM1LCAtMTIyLjYwMjJdLCBbNDUuNTIxNCwgLTEyMi42NzIwMDAwMDAwMDAwMV0sIFs0NS41MDUxLCAtMTIyLjY0NDZdLCBbNDUuNTkwMywgLTEyMi43NTM4XSwgWzQ1LjUwOTksIC0xMjIuNjgxMl0sIFs0NS41MjE5LCAtMTIyLjgwMTZdLCBbNDUuNTkwMywgLTEyMi43NTQ0XSwgWzQ1LjU4OTcsIC0xMjIuNzUzOF0sIFs0NS41MDU1LCAtMTIyLjYwMThdLCBbNDUuNTU4MywgLTEyMi41NjMzXSwgWzQ1LjU0ODUsIC0xMjIuNjE0NF0sIFs0NS40OTc3LCAtMTIyLjUxMDRdLCBbNDUuNDg1NCwgLTEyMi42NzcxXSwgWzQ1LjU0NjIsIC0xMjIuNTc5MV0sIFs0NS41NTEsIC0xMjIuNjY3XSwgWzQ1LjUzMzksIC0xMjIuNjAxM10sIFs0NS41MzU0LCAtMTIyLjYyMTFdLCBbNDUuNTEyNCwgLTEyMi42NDU5XSwgWzQ1LjUyMSwgLTEyMi42NzYzXSwgWzQ1LjUyNjMsIC0xMjIuNjgzNV0sIFs0NS41Mjc1LCAtMTIyLjgxNTZdLCBbNDUuNTExMSwgLTEyMi42NzQzXSwgWzQ1LjUzNywgLTEyMi43Nzk4XSwgWzQ1LjUzMzksIC0xMjIuNjAxM10sIFs0NS41MzU3LCAtMTIyLjYyMThdLCBbNDUuNTg5NiwgLTEyMi43NDg1XSwgWzQ1LjU2NTksIC0xMjIuNzAxNF0sIFs0NS41Mjg5OTk5OTk5OTk5OTYsIC0xMjIuNjQzN10sIFs0NS41MjA2LCAtMTIyLjY4MjNdLCBbNDUuNTEyLCAtMTIyLjY4NjRdLCBbNDUuNTQ4NSwgLTEyMi42MTU5XSwgWzQ1LjUzMzUsIC0xMjIuNjk2NV0sIFs0NS41MjE2LCAtMTIyLjY3NDZdLCBbNDUuNTIyMSwgLTEyMi42ODE3XSwgWzQ1LjQ0MzIsIC0xMjIuNTc5N10sIFs0NS41NTgzLCAtMTIyLjg2N10sIFs0NS41OTA3LCAtMTIyLjU5NDZdLCBbNDUuNTE1OSwgLTEyMi42MjM0XSwgWzQ1LjUxNjYsIC0xMjIuNjI0M10sIFs0NS41MDUyLCAtMTIyLjYxNV0sIFs0NS41MjY1LCAtMTIyLjY5NDNdLCBbNDUuNTI2OSwgLTEyMi41MzUzXSwgWzQ1LjU0MDgsIC0xMjIuNjYzNl0sIFs0NS41MjA3LCAtMTIyLjY4MTddLCBbNDUuNTQsIC0xMjIuNjYxM10sIFs0NS41MTk0LCAtMTIyLjQ4MjVdLCBbNDUuNTM0OSwgLTEyMi42OTldLCBbNDUuNDc5MywgLTEyMi42MTUzXSwgWzQ1LjUyMDQsIC0xMjIuNjcyOTk5OTk5OTk5OTldLCBbNDUuNjA5OSwgLTEyMi42NzddLCBbNDUuNTIyNywgLTEyMi42ODM0XSwgWzQ1LjUwOTUsIC0xMjIuNjgzMl0sIFs0NS41ODA4LCAtMTIyLjcyMDFdLCBbNDUuNDk2NywgLTEyMi42MjY4XSwgWzQ1LjU0ODgsIC0xMjIuNjc1M10sIFs0NS41NTQxLCAtMTIyLjY3NThdLCBbNDUuNTYyOSwgLTEyMi42NDg4XSwgWzQ1LjUzMTIsIC0xMjIuODMwOF0sIFs0NS41NTAyLCAtMTIyLjY3NTRdLCBbNDUuNDc5NSwgLTEyMi42Ml0sIFs0NS41NzE5LCAtMTIyLjY2MTJdLCBbNDUuNTIzMSwgLTEyMi42NjJdLCBbNDUuNTA1MiwgLTEyMi42NTQxXSwgWzQ1LjUwMzcsIC0xMjIuNjM5NV0sIFs0NS41MjA5LCAtMTIyLjY4MV0sIFs0NS41NiwgLTEyMi42ODI2XSwgWzQ1LjUxMzAwMDAwMDAwMDAwNSwgLTEyMi42Nzc0XSwgWzQ1LjUyODk5OTk5OTk5OTk5NiwgLTEyMi42MzgxXSwgWzQ1LjU1OSwgLTEyMi42NjE4XSwgWzQ1LjUxMTksIC0xMjIuNjI3OF0sIFs0NS41NDYzLCAtMTIyLjU5MzddLCBbNDUuNTIwOCwgLTEyMi42ODE1XSwgWzQ1LjUxNjIsIC0xMjIuNjMwMV0sIFs0NS41MzMzLCAtMTIyLjUzNzRdLCBbNDUuNTA5NywgLTEyMi42ODE1XSwgWzQ1LjUwNDksIC0xMjIuNDkwOV0sIFs0NS41MTc2LCAtMTIyLjY4MTNdLCBbNDUuNTIsIC0xMjIuNjc0NF0sIFs0NS41NjI0LCAtMTIyLjYzNTFdLCBbNDUuNTI3NiwgLTEyMi44MTU3XSwgWzQ1LjUyMTcsIC0xMjIuNjczOV0sIFs0NS41MjI2LCAtMTIyLjYzNzVdLCBbNDUuNTM1NywgLTEyMi42OTk3XSwgWzQ1LjUyMzgsIC0xMjIuNjk0NV0sIFs0NS41MzUzLCAtMTIyLjcwMDNdLCBbNDUuNTI4NSwgLTEyMi42OTg0XSwgWzQ1LjUxMjEsIC0xMjIuNjEzMV0sIFs0NS41MDA5LCAtMTIyLjY1MjVdLCBbNDUuNTM1OSwgLTEyMi42MjExXSwgWzQ1LjU3MTcsIC0xMjIuNjU4Ml0sIFs0NS40NzQsIC0xMjIuNjQ4Nl0sIFs0NS40Njg3LCAtMTIyLjcxMDVdLCBbNDUuNTI2OCwgLTEyMi42OTQ2XSwgWzQ1LjUzMzksIC0xMjIuNzAxMV0sIFs0NS41MjIzLCAtMTIyLjY1NTVdLCBbNDUuNTM1LCAtMTIyLjYyMDZdLCBbNDUuNTE2NCwgLTEyMi42MTU3XSwgWzQ1LjU2ODgsIC0xMjIuNTgyMV0sIFs0NS41NTkzLCAtMTIyLjY0NDFdLCBbNDUuNTIwNCwgLTEyMi40Njk1XSwgWzQ1LjQ2NywgLTEyMi43MTM4XSwgWzQ1LjUxODgsIC0xMjIuNTU5OV0sIFs0NS41MDU1LCAtMTIyLjYxNTZdLCBbNDUuNDUyMiwgLTEyMi43MjM2XSwgWzQ1LjUyMSwgLTEyMi42ODM1XSwgWzQ1LjQ3NzEsIC0xMjIuNjcyNl0sIFs0NS41MTg2LCAtMTIyLjY5MzhdLCBbNDUuNDA1MywgLTEyMi43NDkxXSwgWzQ1LjUyNDksIC0xMjIuNjgyOTk5OTk5OTk5OTldLCBbNDUuNTA0NiwgLTEyMi42MzYyXSwgWzQ1LjUyNTYsIC0xMjIuNjM3XSwgWzQ1LjUxMjMsIC0xMjIuNjUxOV0sIFs0NS41NDYzLCAtMTIyLjY2NjldLCBbNDUuNDg5OCwgLTEyMi42NzE4XSwgWzQ1LjQ4NjAwMDAwMDAwMDAwNCwgLTEyMi41ODgzXSwgWzQ1LjUzNTMsIC0xMjIuNjU2OF0sIFs0NS40NzQ3LCAtMTIyLjY0ODldLCBbNDUuNTQ2MiwgLTEyMi41OTQ0XSwgWzQ1LjU2MjIsIC0xMjIuNjIwOF0sIFs0NS41MTk0LCAtMTIyLjY1MzVdLCBbNDUuNTE5OSwgLTEyMi42ODAyXSwgWzQ1LjUwODIsIC0xMjIuNjIyOV0sIFs0NS41MzEwMDAwMDAwMDAwMDYsIC0xMjIuNjg1Ml0sIFs0NS41MTkzLCAtMTIyLjY3ODldLCBbNDUuNTg4NywgLTEyMi43NTE2XSwgWzQ1LjUxNzcsIC0xMjIuNjU1NF0sIFs0NS40Nzg3LCAtMTIyLjU2NzhdLCBbNDUuNDY4MywgLTEyMi43MTI2XSwgWzQ1LjUwMzksIC0xMjIuNTU5M10sIFs0NS41MjA2LCAtMTIyLjY3OTJdLCBbNDUuNTMzOSwgLTEyMi42MDEzXSwgWzQ1LjU1OTQsIC0xMjIuNjQ3Ml0sIFs0NS40Nzg4LCAtMTIyLjY5MzFdLCBbNDUuNTEwMSwgLTEyMi42ODM4XSwgWzQ1LjUxOTksIC0xMjIuNjc0M10sIFs0NS40Nzg0LCAtMTIyLjU2NzZdLCBbNDUuNTczNywgLTEyMi41NjIwMDAwMDAwMDAwMV0sIFs0NS41MDk0LCAtMTIyLjY4MjJdLCBbNDUuNTYyNSwgLTEyMi42NzYyXSwgWzQ1LjUzNDksIC0xMjIuNjU2Ml0sIFs0NS41NDgzLCAtMTIyLjY2NzFdLCBbNDUuNTI1MSwgLTEyMi42OTQ3XSwgWzQ1LjUyNywgLTEyMi42ODVdLCBbNDUuNTU5MiwgLTEyMi42NDA2XSwgWzQ1LjUzMTAwMDAwMDAwMDAwNiwgLTEyMi42NjJdLCBbNDUuNTIsIC0xMjIuNjgyOF0sIFs0NS41MTYzLCAtMTIyLjYzNjNdLCBbNDUuNTIxLCAtMTIyLjY4MTVdLCBbNDUuNTIyNywgLTEyMi42MzcxXSwgWzQ1LjUwNSwgLTEyMi42MzM5XSwgWzQ1LjQ5ODYsIC0xMjIuNzY3NV0sIFs0NS41MTc5LCAtMTIyLjU2MjZdLCBbNDUuNTQyNywgLTEyMi42MDNdLCBbNDUuNTE4NiwgLTEyMi41MjkyXSwgWzQ1LjUwNSwgLTEyMi42MTI0XSwgWzQ1LjUxOSwgLTEyMi42NzZdLCBbNDUuNTE2NiwgLTEyMi42Nzk0XSwgWzQ1LjUxOSwgLTEyMi40NzI1XSwgWzQ1LjU1NDgsIC0xMjIuODM0OF0sIFs0NS41NDExLCAtMTIyLjYwNzhdLCBbNDUuNTE4OSwgLTEyMi42NzYxXSwgWzQ1LjUyMTUsIC0xMjIuNjcyNF0sIFs0NS40OTUyLCAtMTIyLjYwNzRdLCBbNDUuNDkzMiwgLTEyMi42MzU5XSwgWzQ1LjUyMTcsIC0xMjIuNjcyNF0sIFs0NS41MDM0LCAtMTIyLjY1ODNdLCBbNDUuNTgyNSwgLTEyMi43MjQ2XSwgWzQ1LjQ5OTcsIC0xMjIuNTc4Ml0sIFs0NS41MjMsIC0xMjIuNjM3XSwgWzQ1LjM5NjMsIC0xMjIuNzUyMl0sIFs0NS40OTMzLCAtMTIyLjY2OTRdLCBbNDUuNTUxMywgLTEyMi42NzUyXSwgWzQ1LjUyMTUsIC0xMjIuNjc2MV0sIFs0NS41NDAxLCAtMTIyLjYxMDddLCBbNDUuNTIzNCwgLTEyMi42NTg1XSwgWzQ1LjU0ODYsIC0xMjIuNjc1M10sIFs0NS41MTY2LCAtMTIyLjYyODldLCBbNDUuNTIwNywgLTEyMi42Nzg3XSwgWzQ1LjU0OTksIC0xMjIuNjY2NV0sIFs0NS40NzksIC0xMjIuNjA2M10sIFs0NS41MDIxLCAtMTIyLjU3Nzk5OTk5OTk5OTk5XSwgWzQ1LjUzMDgsIC0xMjIuNjU1Nl0sIFs0NS40OTExLCAtMTIyLjU3OTFdLCBbNDUuNTczOCwgLTEyMi41NTk5XSwgWzQ1LjUyMzIsIC0xMjIuNjUzOV0sIFs0NS41Mjg1LCAtMTIyLjY5ODFdLCBbNDUuNTMzNiwgLTEyMi42OTVdLCBbNDUuNTIxMSwgLTEyMi42ODA4XSwgWzQ1LjUxNjQsIC0xMjIuNjMwM10sIFs0NS40ODQ5LCAtMTIyLjYwODZdLCBbNDUuNTU4OSwgLTEyMi42MzUxXSwgWzQ1LjUyNjcsIC0xMjIuNTg1Nl0sIFs0NS41MjYyLCAtMTIyLjYzNjNdLCBbNDUuNTEyMiwgLTEyMi42MzEzXSwgWzQ1LjUyOTMsIC0xMjIuNjk5Ml0sIFs0NS41MTk0LCAtMTIyLjU4MTNdLCBbNDUuNDY5MSwgLTEyMi42NTI4XSwgWzQ1LjU0MjcsIC0xMjIuNjAyN10sIFs0NS41NDg4LCAtMTIyLjY2MTNdLCBbNDUuNTExOCwgLTEyMi42MzI2XSwgWzQ1LjU2OTYsIC0xMjIuNjg3OV0sIFs0NS41MjI0LCAtMTIyLjY3Mjk5OTk5OTk5OTk5XSwgWzQ1LjU1MTksIC0xMjIuNjY2OV0sIFs0NS40Nzg3LCAtMTIyLjU2NzhdLCBbNDUuNDkyLCAtMTIyLjQ4NzAwMDAwMDAwMDAxXSwgWzQ1LjUyNzcsIC0xMjIuNDc1N10sIFs0NS41MjM5LCAtMTIyLjY4MV0sIFs0NS41NTkyLCAtMTIyLjY0NDVdLCBbNDUuNTA5OCwgLTEyMi42ODE0XSwgWzQ1LjUxNjcsIC0xMjIuNjQxMV0sIFs0NS41Mjg5OTk5OTk5OTk5OTYsIC0xMjIuNjM4Ml0sIFs0NS40NjM2LCAtMTIyLjU3OTZdLCBbNDUuNTYzLCAtMTIyLjYzNV0sIFs0NS41MDQ5LCAtMTIyLjYzNDZdLCBbNDUuNDU3NiwgLTEyMi42MDI5XSwgWzQ1LjU2NjgsIC0xMjIuNTM4NF0sIFs0NS41MTg2LCAtMTIyLjY4MV0sIFs0NS41MzMxLCAtMTIyLjY4MjZdLCBbNDUuNTA0OSwgLTEyMi40OTUzXSwgWzQ1LjQ4NzYsIC0xMjIuNzQ0M10sIFs0NS41NjI4LCAtMTIyLjY3NTddLCBbNDUuNTA0OCwgLTEyMi42MzI1XSwgWzQ1LjUyNzYsIC0xMjIuNjk0Nl0sIFs0NS41NTkyLCAtMTIyLjY0MDldLCBbNDUuNjEwNSwgLTEyMi42ODA0XSwgWzQ1LjUwMzcsIC0xMjIuNjQ0OF0sIFs0NS41NTgsIC0xMjIuODY1OV0sIFs0NS41NDk0LCAtMTIyLjY2MTFdLCBbNDUuNTg5MiwgLTEyMi41OTM2XSwgWzQ1LjUxNzksIC0xMjIuNTM3NF0sIFs0NS41MzQ5LCAtMTIyLjY1NjJdLCBbNDUuNTE5MSwgLTEyMi42NTE0XSwgWzQ1LjU2MywgLTEyMi42MzVdLCBbNDUuNTA3MywgLTEyMi42NTUxXSwgWzQ1LjQ5MjcsIC0xMjIuNTc4NF0sIFs0NS41NTU2LCAtMTIyLjY1MDJdLCBbNDUuNTI0NSwgLTEyMi42OTkyXSwgWzQ1LjUyMjMsIC0xMjIuNjU5M10sIFs0NS41MjI3LCAtMTIyLjY2OTddLCBbNDUuNTUyMywgLTEyMi42NzU3XSwgWzQ1LjU0ODgsIC0xMjIuNjY3OTk5OTk5OTk5OTldLCBbNDUuNTQ4NSwgLTEyMi42NjE5XSwgWzQ1LjQ3OTUsIC0xMjIuNjE4Ml0sIFs0NS41MTE5LCAtMTIyLjYyOThdLCBbNDUuNTIxMywgLTEyMi42NjE0XSwgWzQ1LjU5OTYsIC0xMjIuNzg2XSwgWzQ1LjUyMzEsIC0xMjIuNjkzMV0sIFs0NS41MjI3LCAtMTIyLjY0MDNdLCBbNDUuNTU5MiwgLTEyMi42NDI2XSwgWzQ1LjUyNDksIC0xMjIuNjczN10sIFs0NS41NTQ0LCAtMTIyLjY3NThdLCBbNDUuNTE3OCwgLTEyMi42NzkxXSwgWzQ1LjU3MjEsIC0xMjIuNjQ3XSwgWzQ1LjU0NzYsIC0xMjIuNjc0NF0sIFs0NS41MjE2LCAtMTIyLjY3MjldLCBbNDUuNTU1NywgLTEyMi41ODg2XSwgWzQ1LjUyMjcsIC0xMjIuNjU2NF0sIFs0NS41MjU4LCAtMTIyLjY4ODVdLCBbNDUuNTIxOCwgLTEyMi42ODgzXSwgWzQ1LjUyNjMsIC0xMjIuNjgxNF0sIFs0NS41MjY2LCAtMTIyLjYzNjldLCBbNDUuNTIyNywgLTEyMi42ODAyXSwgWzQ1LjUxOTIsIC0xMjIuNjM2Nl0sIFs0NS41MzQ4LCAtMTIyLjY0MjhdLCBbNDUuNTEyOCwgLTEyMi42NTQ5XSwgWzQ1LjUyNTMsIC0xMjIuNjk0MV0sIFs0NS41MzE1LCAtMTIyLjY4OTNdLCBbNDUuNTI0MSwgLTEyMi42ODQ2XSwgWzQ1LjUwMDMsIC0xMjIuNjcxN10sIFs0NS40Nzg4LCAtMTIyLjY3MzVdLCBbNDUuNTIxNywgLTEyMi42ODFdLCBbNDUuNTIwOSwgLTEyMi42ODIxXSwgWzQ1LjUxMjgsIC0xMjIuNjU1M10sIFs0NS41MiwgLTEyMi42NzQ4XSwgWzQ1LjM5MzcsIC0xMjIuNzUzOV0sIFs0NS41MTMzLCAtMTIyLjY1NDNdLCBbNDUuNTIyMSwgLTEyMi42ODM0XSwgWzQ1LjUwMzksIC0xMjIuNTQwNl0sIFs0NS41NTE3LCAtMTIyLjY3NThdLCBbNDUuNDk3NiwgLTEyMi41OTYzXSwgWzQ1LjUxMzgsIC0xMjIuNjc3OF0sIFs0NS41Mjg2LCAtMTIyLjY4MTZdLCBbNDUuNTM0NiwgLTEyMi42NTkzXSwgWzQ1LjUyNjMsIC0xMjIuNjAxOV0sIFs0NS41MjczLCAtMTIyLjY4NDldLCBbNDUuNTQwOCwgLTEyMi42MDk1XSwgWzQ1LjQ4MzEsIC0xMjIuNTg5NF0sIFs0NS41MTcxLCAtMTIyLjY1NzRdLCBbNDUuNTM1MiwgLTEyMi42NTEzXSwgWzQ1LjUyMDksIC0xMjIuNjcxNV0sIFs0NS40Nzc1LCAtMTIyLjY0OTRdLCBbNDUuNTIxNCwgLTEyMi42ODQxXSwgWzQ1LjUyMSwgLTEyMi44MDMxXSwgWzQ1LjQ3ODcsIC0xMjIuNjk1XSwgWzQ1LjQwMDYsIC0xMjIuNjE5NF0sIFs0NS40OTU2LCAtMTIyLjY3MThdLCBbNDUuNTMwNSwgLTEyMi42NTcwMDAwMDAwMDAwMV0sIFs0NS41NTkyLCAtMTIyLjYzNTRdLCBbNDUuNDYzNiwgLTEyMi41Nzk2XSwgWzQ1LjQ5NzMsIC0xMjIuNjAzNV0sIFs0NS40NTQ1LCAtMTIyLjcyXSwgWzQ1LjU2MjgsIC0xMjIuNjc1NV0sIFs0NS41NzE2LCAtMTIyLjY1NzJdLCBbNDUuNTMzOCwgLTEyMi42OTYyXSwgWzQ1LjUyMTksIC0xMjIuNjgzMl0sIFs0NS41MTI0LCAtMTIyLjY4NV0sIFs0NS40Njg4LCAtMTIyLjY1MjddLCBbNDUuNTIyOCwgLTEyMi42NDM4XSwgWzQ1LjUxMiwgLTEyMi42MzM2XSwgWzQ1LjUxMTgsIC0xMjIuNjEyOV0sIFs0NS41MjA0LCAtMTIyLjY4MDhdLCBbNDUuNTI3MiwgLTEyMi42NDYxXSwgWzQ1LjUyMzIsIC0xMjIuNjE1M10sIFs0NS41MzMyLCAtMTIyLjcwMDVdLCBbNDUuNTA0NiwgLTEyMi42MjQxXSwgWzQ1LjUyNTYsIC0xMjIuNjQ1OV0sIFs0NS40MzQ5LCAtMTIyLjc2NjldLCBbNDUuNTEyNSwgLTEyMi42MjYxXSwgWzQ1LjQ4MTYsIC0xMjIuNTczN10sIFs0NS42MTE1LCAtMTIyLjY4MTRdLCBbNDUuNDc5LCAtMTIyLjYwODZdLCBbNDUuNDg2MiwgLTEyMi43NjAxXSwgWzQ1LjUxOTcsIC0xMjIuNjc3NF0sIFs0NS41MzA5LCAtMTIyLjY4ODNdLCBbNDUuNTAwNCwgLTEyMi42NTRdLCBbNDUuNTUwMiwgLTEyMi42NzU3XSwgWzQ1LjUyNiwgLTEyMi41Mzg4XSwgWzQ1LjUzNDgsIC0xMjIuNjQyNF0sIFs0NS41NjA2LCAtMTIyLjY3NDldLCBbNDUuNTgwNCwgLTEyMi43MTg5XSwgWzQ1LjUzMzgsIC0xMjIuNTQ3OF0sIFs0NS41MTcyLCAtMTIyLjY3NTNdLCBbNDUuNTM1LCAtMTIyLjYzOThdLCBbNDUuNTE5LCAtMTIyLjYxNTldLCBbNDUuNTcyNywgLTEyMi41NTcyXSwgWzQ1LjU3NjMsIC0xMjIuNjYxN10sIFs0NS41MDY0LCAtMTIyLjU3ODNdLCBbNDUuNTM1MywgLTEyMi42MjEyXSwgWzQ1LjUyNjIsIC0xMjIuNjgyMV0sIFs0NS40ODYyLCAtMTIyLjc0NzddLCBbNDUuNTA0MywgLTEyMi40ODMyXSwgWzQ1LjQ5MDUsIC0xMjIuNjIyOTk5OTk5OTk5OTldLCBbNDUuNTgyOCwgLTEyMi42ODcwMDAwMDAwMDAwMV0sIFs0NS41MywgLTEyMi42NTc4XSwgWzQ1LjUzMzYsIC0xMjIuNTQ4Ml0sIFs0NS41NDMsIC0xMjIuODY2M10sIFs0NS41NTQ1LCAtMTIyLjY3NTddLCBbNDUuNTI1OCwgLTEyMi42OTQ3XSwgWzQ1LjU0ODQsIC0xMjIuNjE5N10sIFs0NS41MDUsIC0xMjIuNjM0MV0sIFs0NS41MzI5LCAtMTIyLjY5MDldLCBbNDUuNDk0OCwgLTEyMi42MDc5OTk5OTk5OTk5OV0sIFs0NS41NDc4LCAtMTIyLjY3NTZdLCBbNDUuNTQwNSwgLTEyMi42MDk0XSwgWzQ1LjUxNjYsIC0xMjIuNjc5NV0sIFs0NS41MzY3LCAtMTIyLjcwNDNdLCBbNDUuNTI4NywgLTEyMi42OTQ5XSwgWzQ1LjUwNTMsIC0xMjIuNjEwNl0sIFs0NS41MzI5LCAtMTIyLjY5MV0sIFs0NS41Mjk1LCAtMTIyLjY4MjFdLCBbNDUuNTU5MiwgLTEyMi42NDQ0XSwgWzQ1LjU2MjMsIC0xMjIuNjc3Ml0sIFs0NS40ODY5LCAtMTIyLjU4OTVdLCBbNDUuNTM1LCAtMTIyLjY0ODJdLCBbNDUuNTM1MSwgLTEyMi42OTg4XSwgWzQ1LjUyMjksIC0xMjIuNjkwNF0sIFs0NS41NDg1LCAtMTIyLjYyNDZdLCBbNDUuNTU0MSwgLTEyMi44MzU5XSwgWzQ1LjUyMzEsIC0xMjIuNjkyN10sIFs0NS41NDg1LCAtMTIyLjYxNzhdLCBbNDUuNDY4OSwgLTEyMi43MDk2XSwgWzQ1LjU0ODUsIC0xMjIuNjc1M10sIFs0NS40MzY0LCAtMTIyLjU3M10sIFs0NS41MDUsIC0xMjIuNjMyOV0sIFs0NS41Mzc2LCAtMTIyLjY2MTddLCBbNDUuNTI1NSwgLTEyMi42NzI5OTk5OTk5OTk5OV0sIFs0NS40OTUsIC0xMjIuNTc5MV0sIFs0NS41MjY4LCAtMTIyLjY5ODddLCBbNDUuNTEyLCAtMTIyLjY4NTZdLCBbNDUuNTEyMSwgLTEyMi42NDYzXSwgWzQ1LjU1NDEsIC0xMjIuODM2NF0sIFs0NS41NzE1LCAtMTIyLjU1MzhdLCBbNDUuNTUxLCAtMTIyLjY2NzFdLCBbNDUuNTI2NywgLTEyMi42Mzc2XSwgWzQ1LjU0ODUsIC0xMjIuNjYxOV0sIFs0NS41MzIxLCAtMTIyLjY5ODVdLCBbNDUuNTAzMywgLTEyMi42NDQzXSwgWzQ1LjUwOTIsIC0xMjIuNjgyMl0sIFs0NS40Njg3LCAtMTIyLjcxMDhdLCBbNDUuNDk4OCwgLTEyMi43NjU2XSwgWzQ1LjUxNjgsIC0xMjIuNjM5NF0sIFs0NS41OTA1LCAtMTIyLjc1NDldLCBbNDUuNTIyOCwgLTEyMi42ODMzXSwgWzQ1LjQ4NjAwMDAwMDAwMDAwNCwgLTEyMi43MjI5XSwgWzQ1LjUyMTksIC0xMjIuNjM3NV0sIFs0NS40OTc3LCAtMTIyLjYxMzhdLCBbNDUuNTEyMSwgLTEyMi42NTI0XSwgWzQ1LjUxMjIsIC0xMjIuNjI1N10sIFs0NS41MDMzLCAtMTIyLjY0NDVdLCBbNDUuNTcxOCwgLTEyMi42NDcxXSwgWzQ1LjU1NTksIC0xMjIuNjIwMV0sIFs0NS41NDA1LCAtMTIyLjYwOTRdLCBbNDUuNjAxMDAwMDAwMDAwMDA2LCAtMTIyLjYyNDZdLCBbNDUuNTIyNywgLTEyMi42MzcyXSwgWzQ1LjU2MjksIC0xMjIuNjgwOV0sIFs0NS41NjI5LCAtMTIyLjY1ODk5OTk5OTk5OTk5XSwgWzQ1LjUzMDIsIC0xMjIuNjU5OV0sIFs0NS41MTIyLCAtMTIyLjY4Ml0sIFs0NS41MDQ3LCAtMTIyLjYyNTRdLCBbNDUuNDY0OCwgLTEyMi41NzkxXSwgWzQ1LjQ2NzQsIC0xMjIuNjUyOTk5OTk5OTk5OTldLCBbNDUuNTg4OSwgLTEyMi43NTQyXSwgWzQ1LjQ2NDksIC0xMjIuNjUzMl0sIFs0NS40NzksIC0xMjIuNjE5OF0sIFs0NS41MTE5LCAtMTIyLjYyMTVdLCBbNDUuNTE3NywgLTEyMi42OTFdLCBbNDUuNTEyMywgLTEyMi42MTA2XSwgWzQ1LjU1NDMsIC0xMjIuNjc1NF0sIFs0NS41MjExLCAtMTIyLjU3OTVdLCBbNDUuNTI2MywgLTEyMi42NzgzXSwgWzQ1LjU1MDcsIC0xMjIuNjY2NV0sIFs0NS41NjA2LCAtMTIyLjUxMDVdLCBbNDUuNTI3MywgLTEyMi42ODQ1XSwgWzQ1LjUwNDUsIC0xMjIuNjU0XSwgWzQ1LjUyMTEsIC0xMjIuNjczOTk5OTk5OTk5OTldLCBbNDUuNTE2OSwgLTEyMi42ODY4XSwgWzQ1LjQ5ODMsIC0xMjIuNjIyNF0sIFs0NS41MjYsIC0xMjIuNjgxOF0sIFs0NS41MjAzLCAtMTIyLjY3NDRdLCBbNDUuNTE4OSwgLTEyMi42ODI1XSwgWzQ1LjUxMiwgLTEyMi42NDYzXSwgWzQ1LjUyODksIC0xMjIuNjk4NF0sIFs0NS40Njc1LCAtMTIyLjY1MzNdLCBbNDUuNTIyNywgLTEyMi42MzQ2XSwgWzQ1LjUxMTQsIC0xMjIuNjgyNl0sIFs0NS40NjA2LCAtMTIyLjY0NzJdLCBbNDUuNTIyNCwgLTEyMi42ODI5OTk5OTk5OTk5OV0sIFs0NS41MTE3LCAtMTIyLjY4MzldLCBbNDUuNTYyOCwgLTEyMi42ODI2XSwgWzQ1LjUyOTEsIC0xMjIuNjM4Ml0sIFs0NS41Mjg5OTk5OTk5OTk5OTYsIC0xMjIuNjM3OTk5OTk5OTk5OTldLCBbNDUuNTEyMiwgLTEyMi42MjEzXSwgWzQ1LjQ4MzIsIC0xMjIuNTc4OF0sIFs0NS41MjQ1LCAtMTIyLjY4MDddLCBbNDUuNTczMSwgLTEyMi41NTc2XSwgWzQ1LjQ2MjMsIC0xMjIuNjI5NV0sIFs0NS41MzMzLCAtMTIyLjU0ODJdLCBbNDUuNTU1NiwgLTEyMi42NTAyXSwgWzQ1LjU1MTIsIC0xMjIuNjYxOV0sIFs0NS40OTM1LCAtMTIyLjYyMzRdLCBbNDUuNTE2NywgLTEyMi42NDExXSwgWzQ1LjU5MTEsIC0xMjIuNzU1N10sIFs0NS41MjM2LCAtMTIyLjY3NDJdLCBbNDUuNDgxLCAtMTIyLjY3N10sIFs0NS40NDU5LCAtMTIyLjY0MjRdLCBbNDUuNTc3NCwgLTEyMi42ODExXSwgWzQ1LjUxMTksIC0xMjIuNjE3Nl0sIFs0NS41NTM0LCAtMTIyLjUzNjddLCBbNDUuNTU5MiwgLTEyMi42MzRdLCBbNDUuNTU5MiwgLTEyMi42MzY0XSwgWzQ1LjUwNjcsIC0xMjIuNjU0OV0sIFs0NS41MjY3LCAtMTIyLjU4MThdLCBbNDUuNDk3NiwgLTEyMi41ODE0XSwgWzQ1LjUyMjYsIC0xMjIuNjcyN10sIFs0NS41MTU2LCAtMTIyLjY4Ml0sIFs0NS41MDc1LCAtMTIyLjc4MjVdLCBbNDUuNTU0NywgLTEyMi44MzQ5XSwgWzQ1LjUyLCAtMTIyLjY3NDFdLCBbNDUuNDY1OCwgLTEyMi42OTY4XSwgWzQ1LjU2MjYsIC0xMjIuNjg3Ml0sIFs0NS41MTk2LCAtMTIyLjY3NDJdLCBbNDUuNTA1LCAtMTIyLjYyMzZdLCBbNDUuNTE5NSwgLTEyMi42NzM5OTk5OTk5OTk5OV0sIFs0NS40ODEsIC0xMjIuNTY4Ml0sIFs0NS41NTg5LCAtMTIyLjY0NjZdLCBbNDUuNTI0OSwgLTEyMi42ODI0XSwgWzQ1LjQ5OTUsIC0xMjIuNjcxN10sIFs0NS41MTUyLCAtMTIyLjY2NTRdLCBbNDUuNTA0OCwgLTEyMi40OTc4XSwgWzQ1LjQ5NjUsIC0xMjIuNjI2OF0sIFs0NS41MTIyLCAtMTIyLjY1MzZdLCBbNDUuNDgwMywgLTEyMi41Njg0XSwgWzQ1LjYwNTgsIC0xMjIuNjYwM10sIFs0NS41MTg5LCAtMTIyLjY3NzhdLCBbNDUuNDY3MywgLTEyMi43MTJdLCBbNDUuNTQwOCwgLTEyMi42NzMxXSwgWzQ1LjUxOTMsIC0xMjIuNjM2M10sIFs0NS41NzU0LCAtMTIyLjU2NDFdLCBbNDUuNTU5MywgLTEyMi42NTY5XSwgWzQ1LjU4OTIsIC0xMjIuNTkzNV0sIFs0NS40OTYzLCAtMTIyLjY3MTFdLCBbNDUuNDkzNywgLTEyMi41Nzg0XSwgWzQ1LjUxOTMsIC0xMjIuNTgwMl0sIFs0NS41MTIzLCAtMTIyLjYxMjhdLCBbNDUuNTgyNiwgLTEyMi42ODY1XSwgWzQ1LjU1NjcsIC0xMjIuNjc1Ml0sIFs0NS41NDg0LCAtMTIyLjYxMzhdLCBbNDUuNDg5LCAtMTIyLjU5NThdLCBbNDUuNTU1NiwgLTEyMi44MzQ2XSwgWzQ1LjUxNzIsIC0xMjIuNjUxNl0sIFs0NS41MDQ3LCAtMTIyLjY1NDldLCBbNDUuNTA0NiwgLTEyMi42NDM4XSwgWzQ1LjQ5NzcsIC0xMjIuNTc2NF0sIFs0NS41Mjk3LCAtMTIyLjY5OTFdLCBbNDUuNTE2MiwgLTEyMi42Mjg5XSwgWzQ1LjUwOTQsIC0xMjIuNjg0OF0sIFs0NS41MzUxLCAtMTIyLjcwODVdLCBbNDUuNTAzNSwgLTEyMi42NDQ4XSwgWzQ1LjUxNTcsIC0xMjIuNjU0Nl0sIFs0NS40NDczLCAtMTIyLjc3NzldLCBbNDUuNTQ4OSwgLTEyMi42Njc4XSwgWzQ1LjU1NDEsIC0xMjIuNjc1NF0sIFs0NS40ODk1LCAtMTIyLjU1NjZdLCBbNDUuNTM0NywgLTEyMi42OTg2XSwgWzQ1LjUyNjMsIC0xMjIuNTgxM10sIFs0NS41MTIyLCAtMTIyLjY1MzFdLCBbNDUuNTExMywgLTEyMi42NTg5OTk5OTk5OTk5OV0sIFs0NS40NjcsIC0xMjIuNzEzNV0sIFs0NS41MDkzLCAtMTIyLjY5ODhdLCBbNDUuNTEyNCwgLTEyMi42NzddLCBbNDUuNTQ2OCwgLTEyMi41OTI0XSwgWzQ1LjUyMzksIC0xMjIuNjc5OV0sIFs0NS41MTA2LCAtMTIyLjUzNzNdLCBbNDUuNTExMiwgLTEyMi42NjMxXSwgWzQ1LjUyNSwgLTEyMi42ODI3XSwgWzQ1LjUyOTcsIC0xMjIuNjk3OF0sIFs0NS41MTI0LCAtMTIyLjY1MzRdLCBbNDUuNTQwOCwgLTEyMi42NjM5XSwgWzQ1LjUxNzQsIC0xMjIuNjU5NF0sIFs0NS41NTkyLCAtMTIyLjYzOTNdLCBbNDUuNTExOSwgLTEyMi42MjY1XSwgWzQ1LjU1MTIsIC0xMjIuNjc1Ml0sIFs0NS41ODc2LCAtMTIyLjc0MjRdLCBbNDUuNTA4MSwgLTEyMi42NjU0XSwgWzQ1LjQ4NjAwMDAwMDAwMDAwNCwgLTEyMi41ODgzXSwgWzQ1LjUwOTYsIC0xMjIuNjgxNV0sIFs0NS41NjI1LCAtMTIyLjY2MDZdLCBbNDUuNTE4NiwgLTEyMi43MDg0XSwgWzQ1LjUwMzMsIC0xMjIuNjQ0N10sIFs0NS41MTksIC0xMjIuNjY0M10sIFs0NS41MTc1LCAtMTIyLjY3ODldLCBbNDUuNTEyNCwgLTEyMi42NDU4XSwgWzQ1LjUzNTgsIC0xMjIuNjIwNV0sIFs0NS41MjI5LCAtMTIyLjY1NDVdLCBbNDUuNTIwMywgLTEyMi41NzldLCBbNDUuNTE5OCwgLTEyMi42NjA2XSwgWzQ1LjUxNjk5OTk5OTk5OTk5NiwgLTEyMi42Nzg4XSwgWzQ1LjUxOTEsIC0xMjIuNjUxM10sIFs0NS41MjU1LCAtMTIyLjY4NDVdLCBbNDUuNDk5MywgLTEyMi42ODk4XSwgWzQ1LjUzNzMsIC0xMjIuN10sIFs0NS41MjM5OTk5OTk5OTk5OTQsIC0xMjIuNjk2N10sIFs0NS41NTk0LCAtMTIyLjY0NzJdLCBbNDUuNTcwMywgLTEyMi42ODcyXSwgWzQ1LjQ5NTksIC0xMjIuNjA4OV0sIFs0NS41MzU3LCAtMTIyLjYxNzVdLCBbNDUuNTYyNiwgLTEyMi42ODA4XSwgWzQ1LjUyMzEsIC0xMjIuNjM3Ml0sIFs0NS41MTM1LCAtMTIyLjY3NjRdLCBbNDUuNTE3NSwgLTEyMi42NjFdLCBbNDUuNTExOSwgLTEyMi42MjE2XSwgWzQ1LjUwNTcsIC0xMjIuNjgyMl0sIFs0NS41MTI0LCAtMTIyLjY2NTVdLCBbNDUuNTA5OSwgLTEyMi41NzkyXSwgWzQ1LjUzMzEsIC0xMjIuNTQ4Ml0sIFs0NS41MzU5LCAtMTIyLjY4NzNdLCBbNDUuNTQ4NywgLTEyMi42Njc4XSwgWzQ1LjUwOTYsIC0xMjIuNjgxNl0sIFs0NS40NjA1LCAtMTIyLjY0NzRdLCBbNDUuNTQ4MywgLTEyMi42NTI2XSwgWzQ1LjUxNzcsIC0xMjIuNjUxMl0sIFs0NS41MDQ5LCAtMTIyLjYyOTldLCBbNDUuNTM1NSwgLTEyMi42NTA4XSwgWzQ1LjU5MSwgLTEyMi43NTU1XSwgWzQ1LjUxNzIsIC0xMjIuNjgxMV0sIFs0NS40MDgxLCAtMTIyLjYyNjNdLCBbNDUuNTIxNSwgLTEyMi42NzMyXSwgWzQ1LjUxMjUsIC0xMjIuNjUzM10sIFs0NS41MTk2LCAtMTIyLjY3NjJdLCBbNDUuNDkyMiwgLTEyMi40ODY0XSwgWzQ1LjUxNjYsIC0xMjIuNjM4OF0sIFs0NS41MjY5LCAtMTIyLjY0MTZdLCBbNDUuNTE3NCwgLTEyMi42NjI2XSwgWzQ1LjUyOTUsIC0xMjIuNjg0MV0sIFs0NS41NjgwMDAwMDAwMDAwMDUsIC0xMjIuNjgxOV0sIFs0NS41ODcxLCAtMTIyLjU5MjNdLCBbNDUuNTYyNCwgLTEyMi42NzA4XSwgWzQ1LjUxMjcsIC0xMjIuNjU1OV0sIFs0NS41MTkzLCAtMTIyLjU1NTNdLCBbNDUuNDYyOCwgLTEyMi42NDY4XSwgWzQ1LjUyMywgLTEyMi42MDg0XSwgWzQ1LjQ2NzgsIC0xMjIuNzEyNl0sIFs0NS41NjI0LCAtMTIyLjYyMDZdLCBbNDUuNTU4OSwgLTEyMi42NDYyXSwgWzQ1LjUyMDUsIC0xMjIuNjM3MV0sIFs0NS40Mzk0LCAtMTIyLjc1MzFdLCBbNDUuNTI1NiwgLTEyMi44MDddLCBbNDUuNTI2MywgLTEyMi41Mzg1XSwgWzQ1LjQ2ODUsIC0xMjIuNzEyNV0sIFs0NS41NjMsIC0xMjIuNjU5MV0sIFs0NS40OTczLCAtMTIyLjYxOTJdLCBbNDUuNTI5OCwgLTEyMi42ODU2XSwgWzQ1LjUzNjgsIC0xMjIuNzAwMV0sIFs0NS41NTIsIC0xMjIuNjc1Ml0sIFs0NS41MjE3LCAtMTIyLjQ3NjddLCBbNDUuNDk3MSwgLTEyMi41Nzg1XSwgWzQ1LjUyNjUsIC0xMjIuNjM3OV0sIFs0NS41NDQ0LCAtMTIyLjU3ODVdLCBbNDUuNTI3NCwgLTEyMi42ODA0XSwgWzQ1LjUyMzcsIC0xMjIuNjQ4M10sIFs0NS41NDc3LCAtMTIyLjY2ODJdLCBbNDUuNTM1MywgLTEyMi43MDA3XSwgWzQ1LjUyMDcsIC0xMjIuNjczMV0sIFs0NS41NDgsIC0xMjIuNjA1XSwgWzQ1LjUwNDksIC0xMjIuNjMzNF0sIFs0NS41MTIzLCAtMTIyLjY1MzNdLCBbNDUuNDg3NiwgLTEyMi43NDQzXSwgWzQ1LjUwNDgsIC0xMjIuNTc1OV0sIFs0NS40NjM1LCAtMTIyLjU3OTZdLCBbNDUuNTE1MSwgLTEyMi42NjQ5XSwgWzQ1LjUyNzMsIC0xMjIuNjgyOF0sIFs0NS41ODc2LCAtMTIyLjc0MjRdLCBbNDUuNTEyLCAtMTIyLjY0NjNdLCBbNDUuNDIzMywgLTEyMi42MzQyXSwgWzQ1LjUxNjMsIC0xMjIuNjMwN10sIFs0NS41MTE5LCAtMTIyLjYxMTNdLCBbNDUuNDY0NiwgLTEyMi42NTMxXSwgWzQ1LjUxODgsIC0xMjIuNjgxOF0sIFs0NS41NDksIC0xMjIuNTc5XSwgWzQ1LjUzOTQsIC0xMjIuNjYxOV0sIFs0NS40Nzk0LCAtMTIyLjYxMzFdLCBbNDUuNTU5LCAtMTIyLjY0NDNdLCBbNDUuNDc1NywgLTEyMi43MDY3XSwgWzQ1LjU3NDEsIC0xMjIuNTYwNV0sIFs0NS41MTM4LCAtMTIyLjc5MDRdLCBbNDUuNTIyMiwgLTEyMi42NzM5XSwgWzQ1LjUyNTcsIC0xMjIuNjk0Ml0sIFs0NS41NDg0LCAtMTIyLjYxMjVdLCBbNDUuNTI2OCwgLTEyMi44MTZdLCBbNDUuNDA1MywgLTEyMi43NDkxXSwgWzQ1LjUxNTMsIC0xMjIuNjY0NV0sIFs0NS41MTk1LCAtMTIyLjY1MzNdLCBbNDUuNTI2NSwgLTEyMi41NTk5XSwgWzQ1LjUyODEsIC0xMjIuNjg0NV0sIFs0NS41MzUsIC0xMjIuNjI0M10sIFs0NS41MzM4LCAtMTIyLjY5ODVdLCBbNDUuNTU5MiwgLTEyMi42MzQzXSwgWzQ1LjUzMzYsIC0xMjIuNjIwMV0sIFs0NS40OTI2LCAtMTIyLjY3NjRdLCBbNDUuNTMwMiwgLTEyMi42ODI2XSwgWzQ1LjUxOTgsIC0xMjIuNjc5Nl0sIFs0NS41Mzk5LCAtMTIyLjYwOTRdLCBbNDUuNTA0NiwgLTEyMi42NDAxXSwgWzQ1LjUyMjMsIC0xMjIuNjczMV0sIFs0NS41MTE3LCAtMTIyLjY2MzFdLCBbNDUuNTYyOSwgLTEyMi42NzU2XSwgWzQ1LjUxNjMsIC0xMjIuNjM1OV0sIFs0NS41MjU3LCAtMTIyLjY5ODZdLCBbNDUuNTA1MSwgLTEyMi42MTUxXSwgWzQ1LjU1MjksIC0xMjIuNTM3Nl0sIFs0NS41NTQyLCAtMTIyLjgzNl0sIFs0NS41MjE1LCAtMTIyLjY3NjFdLCBbNDUuNTE2OTk5OTk5OTk5OTk2LCAtMTIyLjY3NTRdLCBbNDUuNTA1NSwgLTEyMi42MTA2XSwgWzQ1LjUyMzUsIC0xMjIuODA2M10sIFs0NS41MDk2LCAtMTIyLjY4MTZdLCBbNDUuNTA1MiwgLTEyMi42MTE4XSwgWzQ1LjUwNDQsIC0xMjIuNTc0NF0sIFs0NS41NTE1LCAtMTIyLjY2NjRdLCBbNDUuNDQ2OCwgLTEyMi41Nzk5XSwgWzQ1LjU0NjQsIC0xMjIuNTkzNF0sIFs0NS41MTY3LCAtMTIyLjY1MTRdLCBbNDUuNTIwMSwgLTEyMi42ODAxXSwgWzQ1LjQ2MjUsIC0xMjIuNjM5Ml0sIFs0NS41MjExLCAtMTIyLjY3ODNdLCBbNDUuNTU4NywgLTEyMi41NTddLCBbNDUuNTE3NCwgLTEyMi42NTg4XSwgWzQ1LjUzMjcsIC0xMjIuNjUzNl0sIFs0NS41MTk1LCAtMTIyLjY3NTldLCBbNDUuNTMwMywgLTEyMi42NTgzXSwgWzQ1LjUwOTIsIC0xMjIuNjc0N10sIFs0NS41Mjk2LCAtMTIyLjY4NTRdLCBbNDUuNTE5OSwgLTEyMi42NTZdLCBbNDUuNTEyMSwgLTEyMi42NTIxXSwgWzQ1LjUyMDksIC0xMjIuNjgyOTk5OTk5OTk5OTldLCBbNDUuNDQ2OSwgLTEyMi41ODE2XSwgWzQ1LjUyMjYsIC0xMjIuNjQwNV0sIFs0NS41MDQ3LCAtMTIyLjYzMTNdLCBbNDUuMzk1NCwgLTEyMi43NDU0XSwgWzQ1LjM4NTcsIC0xMjIuNjA5XSwgWzQ1LjUzODIsIC0xMjIuNTc5M10sIFs0NS41ODgyLCAtMTIyLjc0NDVdLCBbNDUuNTM0NSwgLTEyMi42NTEyXSwgWzQ1LjUzMjksIC0xMjIuNjkwOF0sIFs0NS41ODQyLCAtMTIyLjcyODRdLCBbNDUuNTIzMiwgLTEyMi42MzJdLCBbNDUuNTgxMSwgLTEyMi43MTk5XSwgWzQ1LjUxODEsIC0xMjIuNTYyN10sIFs0NS41NjMxLCAtMTIyLjYzNTFdLCBbNDUuNTExNywgLTEyMi42Nzg2XSwgWzQ1LjUxNDIsIC0xMjIuNjgwOV0sIFs0NS41MDUyLCAtMTIyLjY1NF0sIFs0NS41OTAzLCAtMTIyLjc1NDVdLCBbNDUuNTgxOCwgLTEyMi42ODcxXSwgWzQ1LjUzNjEsIC0xMjIuNjY2OV0sIFs0NS41MjMyLCAtMTIyLjY5MjFdLCBbNDUuNTA0NCwgLTEyMi41MzQxXSwgWzQ1LjUxMjgsIC0xMjIuNjU0OV0sIFs0NS41Mzc1LCAtMTIyLjcwNzhdLCBbNDUuNTI2NCwgLTEyMi42ODA2XSwgWzQ1LjU1NDksIC0xMjIuODM1NV0sIFs0NS41MjI1LCAtMTIyLjY4NTJdLCBbNDUuNTcxOTk5OTk5OTk5OTk2LCAtMTIyLjY1NjhdLCBbNDUuNTM3NywgLTEyMi42ODg1XSwgWzQ1LjUyMiwgLTEyMi42NzQxXSwgWzQ1LjQ4NTMsIC0xMjIuNjQ3MV0sIFs0NS41MjM1LCAtMTIyLjY3NzFdLCBbNDUuNTI4OTk5OTk5OTk5OTk2LCAtMTIyLjY5NDhdLCBbNDUuNTM1MywgLTEyMi42NTIzXSwgWzQ1LjUzNTMsIC0xMjIuNzAwNF0sIFs0NS40OTU4LCAtMTIyLjYwODVdLCBbNDUuNTI0MywgLTEyMi42NzY2XSwgWzQ1LjQ2NjMsIC0xMjIuNjUyOF0sIFs0NS41MDQ0LCAtMTIyLjU3NzJdLCBbNDUuNTI0NSwgLTEyMi42NDg3XSwgWzQ1LjU4ODIsIC0xMjIuNzQ0NV0sIFs0NS41ODk0LCAtMTIyLjc0NzddLCBbNDUuNDY3NywgLTEyMi42OTM4XSwgWzQ1LjUzNTEsIC0xMjIuNjUxNl0sIFs0NS41MTYwMDAwMDAwMDAwMDUsIC0xMjIuNjY1MV0sIFs0NS41MjA1LCAtMTIyLjY4NDZdLCBbNDUuNDY3NSwgLTEyMi42NTMzXSwgWzQ1LjUyNjYsIC0xMjIuNTgxMV0sIFs0NS41MzEyLCAtMTIyLjgzMDVdLCBbNDUuNTQxMSwgLTEyMi42NzY1XSwgWzQ1LjQ3NzgsIC0xMjIuNjQ4OV0sIFs0NS41NzEzLCAtMTIyLjU1MzVdLCBbNDUuNTI2MywgLTEyMi42MDM1XSwgWzQ1LjUyMiwgLTEyMi42NDE3XSwgWzQ1LjQ1NDgsIC0xMjIuNzE1Nl0sIFs0NS41NTM2LCAtMTIyLjY2NjRdLCBbNDUuNTU5MiwgLTEyMi42NDI1XSwgWzQ1LjU3MTUsIC0xMjIuNjU2OV0sIFs0NS41MjMyLCAtMTIyLjYzNjJdLCBbNDUuNTIwMSwgLTEyMi42NzQ0XSwgWzQ1LjUxODksIC0xMjIuNjU3OV0sIFs0NS41MjE3LCAtMTIyLjY2MDFdLCBbNDUuNTU5MiwgLTEyMi42NTM1XSwgWzQ1LjUwOTIsIC0xMjIuNjgxNl0sIFs0NS41MTAyLCAtMTIyLjY4NDJdLCBbNDUuNDUwMywgLTEyMi43ODEzXSwgWzQ1LjUyMzksIC0xMjIuNjk0Nl0sIFs0NS41Mjk2LCAtMTIyLjY1MzldLCBbNDUuNTA0OSwgLTEyMi42M10sIFs0NS41NTMyLCAtMTIyLjU3NzRdLCBbNDUuNTI5MywgLTEyMi42OTIzXSwgWzQ1LjUyMzEsIC0xMjIuNjgzMV0sIFs0NS41MjY0LCAtMTIyLjY4MzddLCBbNDUuNTM1MiwgLTEyMi42NTExXSwgWzQ1LjU2MywgLTEyMi42ODkxXSwgWzQ1LjU4NzYsIC0xMjIuNzQyNF0sIFs0NS40Nzc3LCAtMTIyLjY5OTJdLCBbNDUuNDgwNCwgLTEyMi42NDk3XSwgWzQ1LjQ1OTYsIC0xMjIuNzA5MV0sIFs0NS40NzY3LCAtMTIyLjcyMThdLCBbNDUuNTM0MiwgLTEyMi42NTAyXSwgWzQ1LjUxMTksIC0xMjIuNjI1OV0sIFs0NS41MjI4LCAtMTIyLjY1NzldLCBbNDUuNTE4NywgLTEyMi41NjM0XSwgWzQ1LjU0ODQsIC0xMjIuNjE5Nl0sIFs0NS41MjI3LCAtMTIyLjY3OF0sIFs0NS41NTg2LCAtMTIyLjg2Nl0sIFs0NS40NjkxLCAtMTIyLjcwODldLCBbNDUuNTU0NCwgLTEyMi42NzU4XSwgWzQ1LjUyNjgsIC0xMjIuNjYxNV0sIFs0NS41Nzk3LCAtMTIyLjc5NzJdLCBbNDUuNDY0OSwgLTEyMi42NDczXSwgWzQ1LjUyMzUsIC0xMjIuNjc0Ml0sIFs0NS40OTMyLCAtMTIyLjYyMjhdLCBbNDUuNTI2NywgLTEyMi41OTAxXSwgWzQ1LjUyMDEsIC0xMjIuNjgyOTk5OTk5OTk5OTldLCBbNDUuNDg4OCwgLTEyMi41OTUzXSwgWzQ1LjUxMTksIC0xMjIuNjI3Ml0sIFs0NS41MTg5LCAtMTIyLjQ5NTJdLCBbNDUuNTI4OTk5OTk5OTk5OTk2LCAtMTIyLjY0Mzk5OTk5OTk5OTk5XSwgWzQ1LjYwMzYsIC0xMjIuNjYzNF0sIFs0NS41MzQxLCAtMTIyLjY1ODRdLCBbNDUuNTQ5LCAtMTIyLjY2NjVdLCBbNDUuNTIxOCwgLTEyMi42NzM0XSwgWzQ1LjUyMjMsIC0xMjIuNTc4N10sIFs0NS40Nzg5LCAtMTIyLjY3MzJdLCBbNDUuNDYxNywgLTEyMi42Mzk0XSwgWzQ1LjUyMTUsIC0xMjIuNjc3XSwgWzQ1LjU1NjYsIC0xMjIuNjAwM10sIFs0NS41MjIyLCAtMTIyLjY3NjFdLCBbNDUuNDQ0OSwgLTEyMi41NzcxXSwgWzQ1LjU1ODksIC0xMjIuNjM1XSwgWzQ1LjU2MTIsIC0xMjIuNjYxOV0sIFs0NS40NzQxLCAtMTIyLjY0ODVdLCBbNDUuNTA0NiwgLTEyMi42MjAyXSwgWzQ1LjQ0NzMsIC0xMjIuNTk5NF0sIFs0NS41MDgyLCAtMTIyLjYyMjk5OTk5OTk5OTk5XSwgWzQ1LjU1MDksIC0xMjIuNjY3XSwgWzQ1LjU2MTEsIC0xMjIuNjIwM10sIFs0NS41MDQ5LCAtMTIyLjYzMDhdLCBbNDUuNTA1MSwgLTEyMi40NzczXSwgWzQ1LjUyMzksIC0xMjIuNjYyXSwgWzQ1LjUyNTksIC0xMjIuNjM3XSwgWzQ1LjUxMjIsIC0xMjIuNjI5OV0sIFs0NS41MTYzLCAtMTIyLjY0MjJdLCBbNDUuNTE5MywgLTEyMi41ODE4XSwgWzQ1LjUxODMsIC0xMjIuNjc4OV0sIFs0NS41MTA4LCAtMTIyLjc2MDFdLCBbNDUuNTAzOSwgLTEyMi41NTkzXSwgWzQ1LjUzMzksIC0xMjIuNjAxM10sIFs0NS40Nzg3LCAtMTIyLjY5MzRdLCBbNDUuNDg1NywgLTEyMi43NDkyXSwgWzQ1LjUzOTMsIC0xMjIuNjEzM10sIFs0NS40OTE3LCAtMTIyLjU3OTVdLCBbNDUuNTI0NywgLTEyMi42ODE5XSwgWzQ1LjUyMzIsIC0xMjIuNjMyXSwgWzQ1LjUxNDMsIC0xMjIuNjg1XSwgWzQ1LjUzNjIsIC0xMjIuNzAwMV0sIFs0NS41MDUxLCAtMTIyLjU4MTVdLCBbNDUuNTIxNSwgLTEyMi42NzI0XSwgWzQ1LjUzMzIsIC0xMjIuNTU2Nl0sIFs0NS41NTQxLCAtMTIyLjY4Ml0sIFs0NS40NjcsIC0xMjIuNjUzMl0sIFs0NS41MzM5LCAtMTIyLjYwMTNdLCBbNDUuNTUwOSwgLTEyMi42NjE4XSwgWzQ1LjUyMTMsIC0xMjIuNjU2OF0sIFs0NS41MjI2LCAtMTIyLjY0NzddLCBbNDUuNDcyMywgLTEyMi42NDg1XSwgWzQ1LjU0OCwgLTEyMi42NzU5XSwgWzQ1LjQ5NzksIC0xMjIuNjg5NV0sIFs0NS41MTY3LCAtMTIyLjY4NjVdLCBbNDUuNTEwNCwgLTEyMi42NTg1XSwgWzQ1LjYxMDEsIC0xMjIuNjc4OV0sIFs0NS41MTk5LCAtMTIyLjY3NDVdLCBbNDUuNTQwNSwgLTEyMi42MDk0XSwgWzQ1LjQ2NDIsIC0xMjIuNjU5Ml0sIFs0NS41NDUyLCAtMTIyLjY2NjldLCBbNDUuNTQ5NywgLTEyMi42NzZdLCBbNDUuNTYyOSwgLTEyMi42NDg0XSwgWzQ1LjQ5NzMsIC0xMjIuNjEyNF0sIFs0NS41MzM5LCAtMTIyLjYwMTNdLCBbNDUuNTMxMDAwMDAwMDAwMDA2LCAtMTIyLjYzMjddLCBbNDUuNTE4NywgLTEyMi42ODA2XSwgWzQ1LjUyMzgsIC0xMjIuNjcxNl0sIFs0NS41NjI1LCAtMTIyLjYzNTJdLCBbNDUuNTI1NywgLTEyMi42ODFdLCBbNDUuNTU5LCAtMTIyLjY0Mzk5OTk5OTk5OTk5XSwgWzQ1LjUyNzksIC0xMjIuNjk0Ml0sIFs0NS41MTc3LCAtMTIyLjY5MjJdLCBbNDUuNDUzOTk5OTk5OTk5OTksIC0xMjIuNTc4Nl0sIFs0NS40Nzc2LCAtMTIyLjY5OTJdLCBbNDUuNTI5NSwgLTEyMi42OTg2XSwgWzQ1LjUzNTMsIC0xMjIuNjMzNF0sIFs0NS41MjQ1LCAtMTIyLjY3NDRdLCBbNDUuNTI0NiwgLTEyMi44MDY1XSwgWzQ1LjUwNjQsIC0xMjIuNjExM10sIFs0NS41MTg4LCAtMTIyLjY2MV0sIFs0NS41NzYzLCAtMTIyLjY2MTddLCBbNDUuNDg2MiwgLTEyMi41Nzk0XSwgWzQ1LjQ2ODMsIC0xMjIuNzEyNl0sIFs0NS41MjM3LCAtMTIyLjY1OThdLCBbNDUuNTM0OSwgLTEyMi42NTcwMDAwMDAwMDAwMV0sIFs0NS41MTc0LCAtMTIyLjY1OTZdLCBbNDUuNTU5MywgLTEyMi42MjA2XSwgWzQ1LjQzNDQsIC0xMjIuNzY2MV0sIFs0NS41MzUyLCAtMTIyLjY1MTFdLCBbNDUuNTE1NSwgLTEyMi43OTA2XSwgWzQ1LjU4OTUsIC0xMjIuNTkyOTk5OTk5OTk5OTldLCBbNDUuNTYwMiwgLTEyMi41Mzc3XSwgWzQ1LjUyMTIsIC0xMjIuODAxMl0sIFs0NS41MTc3LCAtMTIyLjY1NTRdLCBbNDUuNTU4OSwgLTEyMi42MzU3XSwgWzQ1LjUxOSwgLTEyMi42NTIxXSwgWzQ1LjQ0NDcsIC0xMjIuNzc2M10sIFs0NS41MzQ1LCAtMTIyLjY1NjldLCBbNDUuNTIzNSwgLTEyMi42NzQ2XSwgWzQ1LjU3NjYsIC0xMjIuNjgyN10sIFs0NS41NjI1LCAtMTIyLjY4MzJdLCBbNDUuNTEyMiwgLTEyMi42Mjc2XSwgWzQ1LjQ5ODgsIC0xMjIuNTc5OF0sIFs0NS41MjQ5LCAtMTIyLjY4Mjk5OTk5OTk5OTk5XSwgWzQ1LjU1ODksIC0xMjIuNjM1M10sIFs0NS41NDQ2LCAtMTIyLjU5NzldLCBbNDUuNTIyNiwgLTEyMi42ODQ0XSwgWzQ1LjUyNjcsIC0xMjIuNjQxOF0sIFs0NS41MjM0LCAtMTIyLjYzN10sIFs0NS40OTA1LCAtMTIyLjYzNzRdLCBbNDUuNDY0MSwgLTEyMi42NTQ2XSwgWzQ1LjUzMzksIC0xMjIuNjk2Nl0sIFs0NS41MjMxLCAtMTIyLjY0MjhdLCBbNDUuNTM1MywgLTEyMi42Mjk4XSwgWzQ1LjUwOTEsIC0xMjIuNjczNl0sIFs0NS41NjI4LCAtMTIyLjYzNTJdLCBbNDUuNDY3NSwgLTEyMi42NTMzXSwgWzQ1LjU1MTQsIC0xMjIuNjY2OF0sIFs0NS41MTg5LCAtMTIyLjY5MjFdLCBbNDUuNTc2OSwgLTEyMi42OTQyXSwgWzQ1LjQ5MDgsIC0xMjIuNTk4Nl0sIFs0NS41ODI5LCAtMTIyLjY4NzFdLCBbNDUuNTE5NywgLTEyMi42NzkyXSwgWzQ1LjUyNjEsIC0xMjIuNjgxNV0sIFs0NS41MjY5LCAtMTIyLjY4MDFdLCBbNDUuNTE4LCAtMTIyLjY4MjRdLCBbNDUuNTEyMSwgLTEyMi42NTU2XSwgWzQ1LjQ5NjksIC0xMjIuNjcwOF0sIFs0NS41MzEzLCAtMTIyLjY5OTFdLCBbNDUuNTUzMDAwMDAwMDAwMDA0LCAtMTIyLjY2N10sIFs0NS41MzUsIC0xMjIuNjQyN10sIFs0NS41MDM2LCAtMTIyLjU0MDVdLCBbNDUuNTEzMiwgLTEyMi42NzhdLCBbNDUuNDY0MiwgLTEyMi42NTQ1XSwgWzQ1LjUwMDcsIC0xMjIuNjU0NV0sIFs0NS41MjY2LCAtMTIyLjY5NDVdLCBbNDUuNDkzMiwgLTEyMi42MjI4XSwgWzQ1LjQ5NTUsIC0xMjIuNjcyMDAwMDAwMDAwMDFdLCBbNDUuNTIyOCwgLTEyMi42OTM2XSwgWzQ1LjUxNjk5OTk5OTk5OTk5NiwgLTEyMi42NTAzXSwgWzQ1LjU4ODgsIC0xMjIuNTk2NV0sIFs0NS41NTkyLCAtMTIyLjY0MjhdLCBbNDUuNTIzLCAtMTIyLjY5MjZdLCBbNDUuNTI1LCAtMTIyLjY4MjldLCBbNDUuNTE3NywgLTEyMi42NzQ0XSwgWzQ1LjUyODksIC0xMjIuNjgzOV0sIFs0NS41MjY4LCAtMTIyLjYzNTFdLCBbNDUuNTQ5MywgLTEyMi42NjJdLCBbNDUuNTI1OCwgLTEyMi42ODYxXSwgWzQ1LjQ5ODAwMDAwMDAwMDAwNSwgLTEyMi42MTFdLCBbNDUuNTE4OCwgLTEyMi42NjEyXSwgWzQ1LjU2MjksIC0xMjIuNjgxXSwgWzQ1LjU1MjQsIC0xMjIuNjY3XSwgWzQ1LjU2MjYsIC0xMjIuNjMwM10sIFs0NS41NjI2LCAtMTIyLjY4OThdLCBbNDUuNTA5OCwgLTEyMi42ODQ2XSwgWzQ1LjUzNzksIC0xMjIuNzAwM10sIFs0NS41MTksIC0xMjIuNjUyMV0sIFs0NS41NTksIC0xMjIuNjQyNF0sIFs0NS41MTE5LCAtMTIyLjYxNV0sIFs0NS41MjAxLCAtMTIyLjY3NDVdLCBbNDUuNTM0MiwgLTEyMi42OTU2XSwgWzQ1LjUxNjgsIC0xMjIuNjE4NV0sIFs0NS41NTQyLCAtMTIyLjgzNjJdLCBbNDUuNTIxNCwgLTEyMi42NTcxXSwgWzQ1LjU2MjgsIC0xMjIuNjQ4OV0sIFs0NS40NjYzLCAtMTIyLjY1MjhdLCBbNDUuNTI0NCwgLTEyMi42OTRdLCBbNDUuNDk3OCwgLTEyMi42NzU3XSwgWzQ1LjU1NDcsIC0xMjIuNjY2NV0sIFs0NS41MzU2LCAtMTIyLjYyMDddLCBbNDUuMzk2NiwgLTEyMi42MTgxXSwgWzQ1LjUyNzMsIC0xMjIuNjg0NV0sIFs0NS41NTg5LCAtMTIyLjYzNTNdLCBbNDUuNTE3OCwgLTEyMi42OTIzXSwgWzQ1LjUyNzksIC0xMjIuNjk4N10sIFs0NS41MTYyLCAtMTIyLjY0MTNdLCBbNDUuNDk3MywgLTEyMi42MDgzXSwgWzQ1LjUwNDYsIC0xMjIuNjQzOF0sIFs0NS41MTU2LCAtMTIyLjY3NTRdLCBbNDUuNTI2NCwgLTEyMi42ODJdLCBbNDUuNTA2NCwgLTEyMi41NzgzXSwgWzQ1LjUyNTksIC0xMjIuNjcyOV0sIFs0NS41MjY0LCAtMTIyLjY4MTZdLCBbNDUuNTIsIC0xMjIuNjc0OF0sIFs0NS41NjI5LCAtMTIyLjY0ODldLCBbNDUuNTM3MSwgLTEyMi42MTk3XSwgWzQ1LjUwNTUsIC0xMjIuNjE1NV0sIFs0NS41NTQ0LCAtMTIyLjY3NTldLCBbNDUuNTE5NiwgLTEyMi42NzQ0XSwgWzQ1LjUwMDQsIC0xMjIuNjU0XSwgWzQ1LjUyMzIsIC0xMjIuNjQzOF0sIFs0NS40OTI2LCAtMTIyLjU3Nzk5OTk5OTk5OTk5XSwgWzQ1LjUyNDEsIC0xMjIuNjgxXSwgWzQ1LjU1NzMsIC0xMjIuNjE5OV0sIFs0NS40ODI2LCAtMTIyLjU3NzJdLCBbNDUuNTI4OTk5OTk5OTk5OTk2LCAtMTIyLjYzODFdLCBbNDUuNTE5MiwgLTEyMi41NTg3XSwgWzQ1LjUxOTksIC0xMjIuNjc0M10sIFs0NS41MDQ5LCAtMTIyLjYzNDZdLCBbNDUuNTIyLCAtMTIyLjYzNzddLCBbNDUuNTEzMDAwMDAwMDAwMDA1LCAtMTIyLjU1ODZdLCBbNDUuNTMyOCwgLTEyMi42OTg2XSwgWzQ1LjUwNDIsIC0xMjIuNTc4NF0sIFs0NS40ODU5LCAtMTIyLjc1NDFdLCBbNDUuNTEyMiwgLTEyMi42MTI4XSwgWzQ1LjQ5MzIsIC0xMjIuNjM2Ml0sIFs0NS40NTk2LCAtMTIyLjY0NjldLCBbNDUuNTI3LCAtMTIyLjY4MzldLCBbNDUuNTUzMDAwMDAwMDAwMDA0LCAtMTIyLjY4MTNdLCBbNDUuNTA1NiwgLTEyMi42ODgyXSwgWzQ1LjU3MzQsIC0xMjIuNjI3OV0sIFs0NS41MjkyLCAtMTIyLjY5OTFdLCBbNDUuNTU5MiwgLTEyMi42NDI0XSwgWzQ1LjUyMTEsIC0xMjIuNjgxMl0sIFs0NS40NzksIC0xMjIuNjE3Ml0sIFs0NS41MjEzLCAtMTIyLjY1NjhdLCBbNDUuNTA1LCAtMTIyLjYyMjldLCBbNDUuNTYzLCAtMTIyLjY1OTFdLCBbNDUuNjA5MywgLTEyMi42Nzk4XSwgWzQ1LjUxNTMsIC0xMjIuNjY1NV0sIFs0NS42MTA5LCAtMTIyLjY3NTZdLCBbNDUuNDQzNSwgLTEyMi42NDAzXSwgWzQ1LjQxNSwgLTEyMi42NjI5XSwgWzQ1LjUzNDIsIC0xMjIuNjk4N10sIFs0NS41NDMxLCAtMTIyLjg2NjRdLCBbNDUuNTM1MywgLTEyMi42MzM1XSwgWzQ1LjQ2NDEsIC0xMjIuNjU0N10sIFs0NS41MTIxLCAtMTIyLjY0MzFdLCBbNDUuNTE0NCwgLTEyMi42ODE5XSwgWzQ1LjUyNTksIC0xMjIuODA3Nl0sIFs0NS41MjEyLCAtMTIyLjY3ODRdLCBbNDUuNTIyMywgLTEyMi42ODI3XSwgWzQ1LjUxMTksIC0xMjIuNjE0OV0sIFs0NS41MjU3LCAtMTIyLjYzNzFdLCBbNDUuNTA0NywgLTEyMi42NDM5XSwgWzQ1LjUxMTQsIC0xMjIuNjgwN10sIFs0NS41MDQ5LCAtMTIyLjYzMzNdLCBbNDUuNTE5OSwgLTEyMi42ODA4XSwgWzQ1LjUxMjQsIC0xMjIuNjQ4Ml0sIFs0NS41MTk2LCAtMTIyLjY3NV0sIFs0NS41MjE0LCAtMTIyLjY3NjFdLCBbNDUuNDc1OCwgLTEyMi41NDgzXSwgWzQ1LjUxOTIsIC0xMjIuNjUyNF0sIFs0NS40NTMxLCAtMTIyLjcyMzk5OTk5OTk5OTk5XSwgWzQ1LjUyNjIsIC0xMjIuNjk0OF0sIFs0NS40ODkyLCAtMTIyLjU5NTJdLCBbNDUuNDk5MiwgLTEyMi42ODk3XSwgWzQ1LjUwNDksIC0xMjIuNjMzMl0sIFs0NS41Mjc4LCAtMTIyLjY2MDVdLCBbNDUuNTM2OSwgLTEyMi42MTg2XSwgWzQ1LjQ5NzIsIC0xMjIuNTk1MV0sIFs0NS41MDQ3LCAtMTIyLjYzNF0sIFs0NS41NjI2LCAtMTIyLjY0ODNdLCBbNDUuNDg2MDAwMDAwMDAwMDA0LCAtMTIyLjU4ODNdLCBbNDUuNTE2NiwgLTEyMi42NTkyXSwgWzQ1LjUxODgsIC0xMjIuNjc2Nl0sIFs0NS41NTkyLCAtMTIyLjYzNjFdLCBbNDUuNTAwMiwgLTEyMi42NTA4XSwgWzQ1LjQ3ODcsIC0xMjIuNTY3OF0sIFs0NS41MTgzLCAtMTIyLjY5MzhdLCBbNDUuNTI2MSwgLTEyMi41Nzg3XSwgWzQ1LjUyMjgsIC0xMjIuNjgwN10sIFs0NS41OTExLCAtMTIyLjc1NTddLCBbNDUuNDc4OCwgLTEyMi42NzMyXSwgWzQ1LjQ5NTEsIC0xMjIuNjA4NF0sIFs0NS41NTM3LCAtMTIyLjUyMDZdLCBbNDUuNTUxNiwgLTEyMi42NzU0XSwgWzQ1LjU1MjksIC0xMjIuNjc1Nl0sIFs0NS41MTc1LCAtMTIyLjY4MDFdLCBbNDUuNTE5MywgLTEyMi41NTg4XSwgWzQ1LjUyNDcsIC0xMjIuNjc0MV0sIFs0NS41NTg1LCAtMTIyLjU1M10sIFs0NS41MjMsIC0xMjIuNjQxOF0sIFs0NS41MDkzLCAtMTIyLjU3OTNdLCBbNDUuNTM4NSwgLTEyMi42OTkyXSwgWzQ1LjUxOTgsIC0xMjIuNjc0M10sIFs0NS40Nzk2LCAtMTIyLjY5NF0sIFs0NS40NjU4LCAtMTIyLjcyMTldLCBbNDUuNTIxOCwgLTEyMi42Mzc3XSwgWzQ1LjUwNDYsIC0xMjIuNjI3MDAwMDAwMDAwMDFdLCBbNDUuNTYyNSwgLTEyMi42MzA5XSwgWzQ1LjU0ODQsIC0xMjIuNjE1Ml0sIFs0NS40NjQsIC0xMjIuNjUzNl0sIFs0NS41Mjg5LCAtMTIyLjY4NDJdLCBbNDUuNTI0MSwgLTEyMi42MzcxXSwgWzQ1LjQ5NzcsIC0xMjIuNTc3M10sIFs0NS41MzYsIC0xMjIuNjY0Ml0sIFs0NS41MjE1LCAtMTIyLjY4NDFdLCBbNDUuNTIyMywgLTEyMi42NzczXSwgWzQ1LjQ4NTMsIC0xMjIuNjQ3MV0sIFs0NS41Mjc3LCAtMTIyLjU3OTNdLCBbNDUuNTIxLCAtMTIyLjgwMjldLCBbNDUuNTM0OSwgLTEyMi42MzE1XSwgWzQ1LjU1MDYsIC0xMjIuNjYxOV0sIFs0NS41MTkzLCAtMTIyLjY3NDRdLCBbNDUuNTE5NCwgLTEyMi42NTE1XSwgWzQ1LjUwODIsIC0xMjIuNTc4NV0sIFs0NS41NjA2LCAtMTIyLjUxMDddLCBbNDUuNTIyMiwgLTEyMi42NzU5XSwgWzQ1LjU1NDQsIC0xMjIuNjY2M10sIFs0NS41MDUxLCAtMTIyLjY0NDZdLCBbNDUuNTEzNSwgLTEyMi42NTc5XSwgWzQ1LjU4OTQsIC0xMjIuNzUxMV0sIFs0NS41MDQ2LCAtMTIyLjYzNjJdLCBbNDUuNTcwOCwgLTEyMi42ODE3XSwgWzQ1LjU1ODksIC0xMjIuNjQ0NF0sIFs0NS41NDY2LCAtMTIyLjU5MzhdLCBbNDUuNTE4OCwgLTEyMi42Nzg5XSwgWzQ1LjU1ODksIC0xMjIuNjM3NV0sIFs0NS41NTAzLCAtMTIyLjY3NThdLCBbNDUuNTM0OSwgLTEyMi42NDI2XSwgWzQ1LjQ5NzcsIC0xMjIuNjAyXSwgWzQ1LjUxMTksIC0xMjIuNjQyNl0sIFs0NS41NTkzLCAtMTIyLjY0OTJdLCBbNDUuNDkyNiwgLTEyMi42MDE2XSwgWzQ1LjUyNjMsIC0xMjIuNjc4M10sIFs0NS41MzY4LCAtMTIyLjYxOTddLCBbNDUuNDk3NiwgLTEyMi41OTU1XSwgWzQ1LjYxMDYsIC0xMjIuNjgyXSwgWzQ1LjUzMTcsIC0xMjIuNjU0Nl0sIFs0NS41MzYyLCAtMTIyLjcwMDFdLCBbNDUuNTUxNCwgLTEyMi42NjY5XSwgWzQ1LjUxODEsIC0xMjIuNjgwMV0sIFs0NS41MjE1LCAtMTIyLjY3MjRdLCBbNDUuNTI4NiwgLTEyMi42Mzg3XSwgWzQ1LjU2MywgLTEyMi42NTkxXSwgWzQ1LjQ3NjYsIC0xMjIuNTc5M10sIFs0NS41MTY2LCAtMTIyLjY1OTFdLCBbNDUuNTQyOSwgLTEyMi43MjEzXSwgWzQ1LjUyMjMsIC0xMjIuNjgxNl0sIFs0NS41MjM3LCAtMTIyLjY3NTFdLCBbNDUuNDc2OSwgLTEyMi41Nzk0XSwgWzQ1LjU2MjksIC0xMjIuNjU4OTk5OTk5OTk5OTldLCBbNDUuNTMzOCwgLTEyMi41NDk3XSwgWzQ1LjUyMywgLTEyMi42OTM2XSwgWzQ1LjUyMDcsIC0xMjIuNjc4NV0sIFs0NS41MTY5LCAtMTIyLjY3NTRdLCBbNDUuNTE2OCwgLTEyMi43NTI5XSwgWzQ1LjU4OSwgLTEyMi43NTI0XSwgWzQ1LjU0NzMsIC0xMjIuNjc1MV0sIFs0NS40NjM3LCAtMTIyLjU3OTFdLCBbNDUuNTExOSwgLTEyMi42MjM3XSwgWzQ1LjUwNzcsIC0xMjIuNTc4NF0sIFs0NS41MTIyLCAtMTIyLjYzMjldLCBbNDUuNTU4OSwgLTEyMi42NDI3XSwgWzQ1LjQ5MzIsIC0xMjIuNjM2M10sIFs0NS41MTgsIC0xMjIuNjc2XSwgWzQ1LjUyNiwgLTEyMi42ODU1XSwgWzQ1LjUyODk5OTk5OTk5OTk5NiwgLTEyMi42Mzc3XSwgWzQ1LjU0MTIsIC0xMjIuNjA2M10sIFs0NS41MzQ2LCAtMTIyLjY1MjldLCBbNDUuMzk3MiwgLTEyMi43NTI4XSwgWzQ1LjUyMTgsIC0xMjIuNjM3Nl0sIFs0NS41MDYzLCAtMTIyLjY1Nzk5OTk5OTk5OTk5XSwgWzQ1LjUzODk5OTk5OTk5OTk5NCwgLTEyMi42NjE0XSwgWzQ1LjUzNTEsIC0xMjIuNjUxNl0sIFs0NS41MjI1LCAtMTIyLjY4MjZdLCBbNDUuNDY3NiwgLTEyMi43MTM4XSwgWzQ1LjQ4NTEsIC0xMjIuNzU0NV0sIFs0NS41NzcsIC0xMjIuNjk3MV0sIFs0NS41MjE4LCAtMTIyLjY1OTldLCBbNDUuNTIzOCwgLTEyMi44MDY4XSwgWzQ1LjU4NjYsIC0xMjIuNjk4Ml0sIFs0NS41NTQ1LCAtMTIyLjY3NTJdLCBbNDUuNTE2OSwgLTEyMi42MDEzXSwgWzQ1LjU1ODQsIC0xMjIuODY1OF0sIFs0NS41NTkyLCAtMTIyLjY0MjFdLCBbNDUuNTE5NiwgLTEyMi42NjE1XSwgWzQ1LjUyMTgsIC0xMjIuNjM3NV0sIFs0NS41MzQsIC0xMjIuNjUzM10sIFs0NS40NzkzLCAtMTIyLjU3NjFdLCBbNDUuNTIzMSwgLTEyMi42NTc5OTk5OTk5OTk5OV0sIFs0NS41MTE5LCAtMTIyLjYxNDZdLCBbNDUuNTE5MSwgLTEyMi42MTMyXSwgWzQ1LjUxNzQsIC0xMjIuNjgzNl0sIFs0NS41MjAyLCAtMTIyLjY3NV0sIFs0NS41MSwgLTEyMi42ODM4XSwgWzQ1LjQ1NjksIC0xMjIuNTc5M10sIFs0NS41MjA4LCAtMTIyLjgwMjhdLCBbNDUuNTI1NCwgLTEyMi42Nzc0XSwgWzQ1LjQ3MzQsIC0xMjIuNjcyMV0sIFs0NS41NDUxLCAtMTIyLjg2Nl0sIFs0NS41NDg4LCAtMTIyLjY3NTNdLCBbNDUuNDYzNiwgLTEyMi41Nzk2XSwgWzQ1LjUwMzksIC0xMjIuNTU5M10sIFs0NS41MDY0LCAtMTIyLjQ3NDddLCBbNDUuNTIxMywgLTEyMi42ODM1XSwgWzQ1LjUxOTEsIC0xMjIuNjg0XSwgWzQ1LjQ5NjIsIC0xMjIuNjA4Nl0sIFs0NS41MTg2LCAtMTIyLjY4MjFdLCBbNDUuNDY2NiwgLTEyMi42NTMyXSwgWzQ1LjUzNTIsIC0xMjIuNjQyNF0sIFs0NS41MzM4LCAtMTIyLjU1NzFdLCBbNDUuNTg5MiwgLTEyMi41OTM1XSwgWzQ1LjQ2MzYsIC0xMjIuNTc5Nl0sIFs0NS41Mzc2LCAtMTIyLjU3ODZdLCBbNDUuNTA0NiwgLTEyMi42NDM4XSwgWzQ1LjUxMjMsIC0xMjIuNjEzOTk5OTk5OTk5OTldLCBbNDUuNTEyMywgLTEyMi42Mjc3XSwgWzQ1LjUzMTAwMDAwMDAwMDAwNiwgLTEyMi42ODc4XSwgWzQ1LjU1MzgsIC0xMjIuNTIwNl0sIFs0NS41MjI4LCAtMTIyLjY2XSwgWzQ1LjUxOTEsIC0xMjIuNjc5NV0sIFs0NS41MTI4LCAtMTIyLjY1NDldLCBbNDUuNTU0NywgLTEyMi42NjY5XSwgWzQ1LjUyMjYsIC0xMjIuNjQwOV0sIFs0NS41MjI1LCAtMTIyLjY1NDRdLCBbNDUuNTI2MSwgLTEyMi41MDExXSwgWzQ1LjUxNzYsIC0xMjIuNjUxM10sIFs0NS41MzM2LCAtMTIyLjY5OTFdLCBbNDUuNTM2MSwgLTEyMi43MDY4XSwgWzQ1LjUyMDEsIC0xMjIuNjczNl0sIFs0NS41ODk4LCAtMTIyLjc1MzhdLCBbNDUuNTYyMywgLTEyMi42MzUxXSwgWzQ1LjU1OSwgLTEyMi44NjU0XSwgWzQ1LjUwNSwgLTEyMi42NDM4XSwgWzQ1LjUyNTEsIC0xMjIuNjc0Ml0sIFs0NS41MjQ3LCAtMTIyLjY3MzddLCBbNDUuNTMxNywgLTEyMi43NTVdLCBbNDUuNTQ3NywgLTEyMi42NjgyXSwgWzQ1LjU2MywgLTEyMi42NTg5XSwgWzQ1LjQ5MzYsIC0xMjIuNjIzOF0sIFs0NS41MTM5LCAtMTIyLjY4MjldLCBbNDUuNTA1NSwgLTEyMi42MTAzXSwgWzQ1LjU1NTMsIC0xMjIuNTI4M10sIFs0NS40OTA1LCAtMTIyLjU3ODRdLCBbNDUuNTE2OTk5OTk5OTk5OTk2LCAtMTIyLjY1MTJdLCBbNDUuNDUwOSwgLTEyMi41Nzk0XSwgWzQ1LjUwNDcsIC0xMjIuNjM1NV0sIFs0NS41MDUsIC0xMjIuNjMyOV0sIFs0NS41MDgyLCAtMTIyLjU3ODVdLCBbNDUuNTYyNiwgLTEyMi42MjA3XSwgWzQ1LjUwNDgsIC0xMjIuNjI5OV0sIFs0NS41MjIsIC0xMjIuNjgyOTk5OTk5OTk5OTldLCBbNDUuNTExNywgLTEyMi41MzhdLCBbNDUuNTg5OCwgLTEyMi41OTE0XSwgWzQ1LjUwNDEsIC0xMjIuNTY3NV0sIFs0NS41MTY4LCAtMTIyLjY3NTRdLCBbNDUuNDc5MywgLTEyMi41NzczXSwgWzQ1LjUzMDcsIC0xMjIuNjYwOF0sIFs0NS41MTgxLCAtMTIyLjU2MTldLCBbNDUuNTQ4MiwgLTEyMi42NzUzXSwgWzQ1LjUzOTgsIC0xMjIuNzA5XSwgWzQ1LjUyNjcsIC0xMjIuNjQxOF0sIFs0NS41OTAyLCAtMTIyLjc1NTNdLCBbNDUuNTA0NywgLTEyMi42NDM5OTk5OTk5OTk5OV0sIFs0NS41ODc2LCAtMTIyLjc0MjVdLCBbNDUuNDk2MywgLTEyMi42NzExXSwgWzQ1LjU0MDcsIC0xMjIuNjA5M10sIFs0NS41NDgzLCAtMTIyLjYxNTFdLCBbNDUuNTExNCwgLTEyMi42ODI5XSwgWzQ1LjUxNzMsIC0xMjIuNjU5MV0sIFs0NS41MTkzLCAtMTIyLjYwMTddLCBbNDUuNTAzMiwgLTEyMi42NzE4XSwgWzQ1LjUxMTksIC0xMjIuNjI2NF0sIFs0NS41NTUzLCAtMTIyLjUyODFdLCBbNDUuNTQzNSwgLTEyMi42MDg2XSwgWzQ1LjUyMDksIC0xMjIuNjcyMl0sIFs0NS41MTkzLCAtMTIyLjU1ODZdLCBbNDUuNDgzMiwgLTEyMi42ODI3XSwgWzQ1LjUyOTYsIC0xMjIuNjg1Ml1dLAogICAgICAgICAgICAgICAgeyJibHVyIjogMTUsICJtYXgiOiAxLjAsICJtYXhab29tIjogMTgsICJtaW5PcGFjaXR5IjogMC41LCAicmFkaXVzIjogMTV9CiAgICAgICAgICAgICkuYWRkVG8obWFwXzFiMDBhZTQwYjUxNjQ2YjNiMDg3NGI4NzVjM2E3YjU4KTsKICAgICAgICAKPC9zY3JpcHQ+\" style=\"position:absolute;width:100%;height:100%;left:0;top:0;border:none !important;\" allowfullscreen webkitallowfullscreen mozallowfullscreen></iframe></div></div>"
      ],
      "text/plain": [
       "<folium.folium.Map at 0x7fbab4b5e690>"
      ]
     },
     "execution_count": 21,
     "metadata": {},
     "output_type": "execute_result"
    }
   ],
   "source": [
    "openstreet_heatmap(df_restaurant[df_restaurant['vegan_rate'] != 0])"
   ]
  },
  {
   "cell_type": "markdown",
   "metadata": {},
   "source": [
    "### 3.2 Cluster analysis "
   ]
  },
  {
   "cell_type": "code",
   "execution_count": 22,
   "metadata": {},
   "outputs": [],
   "source": [
    "from math import ceil\n",
    "from sklearn.neighbors import NearestNeighbors\n",
    "from sklearn.cluster import KMeans, DBSCAN, OPTICS\n",
    "from esda.adbscan import ADBSCAN"
   ]
  },
  {
   "cell_type": "code",
   "execution_count": 23,
   "metadata": {},
   "outputs": [],
   "source": [
    "df = df_restaurant[['business_id','name','address','city','state','latitude','longitude','stars','review_count','is_open','attributes','categories',\n",
    "'number_of_reviews','liquor_counts','liquor_rate','vegan_counts','vegan_rate','romance_counts','romance_rate','family_counts','family_rate',\n",
    "'student_counts','student_rate','outdoor_counts','outdoor_rate','music_counts','music_rate','classy_counts','classy_rate','tourist_counts',\n",
    "'tourist_rate']].copy()"
   ]
  },
  {
   "cell_type": "code",
   "execution_count": 24,
   "metadata": {},
   "outputs": [],
   "source": [
    "# Convert pandas dataframe to geodataframe\n",
    "gdf = gpd.GeoDataFrame(df, geometry=gpd.points_from_xy(df.longitude, df.latitude, crs='epsg:4326'))\n",
    "gdf = gdf.to_crs('epsg:3857')"
   ]
  },
  {
   "cell_type": "markdown",
   "metadata": {},
   "source": [
    "* could download portland shapefile at https://gis-pdx.opendata.arcgis.com/datasets/1ef75e34b8504ab9b14bef0c26cade2c_3/data?geometry=-123.087%2C45.459%2C-122.247%2C45.627"
   ]
  },
  {
   "cell_type": "code",
   "execution_count": 25,
   "metadata": {},
   "outputs": [],
   "source": [
    "shp = gpd.read_file('./Data/Neighborhoods_portland/Neighborhoods_(Regions).shp')"
   ]
  },
  {
   "cell_type": "code",
   "execution_count": 29,
   "metadata": {},
   "outputs": [],
   "source": [
    "#to see the restaurant is located in which neighborhood\n",
    "gdf_mo = gpd.sjoin(gdf, shp, op='within', how='inner')"
   ]
  },
  {
   "cell_type": "code",
   "execution_count": 31,
   "metadata": {},
   "outputs": [],
   "source": [
    "kcol = ['number_of_reviews','liquor_rate','vegan_rate','romance_rate',\n",
    "       'family_rate','classy_rate','stars']\n",
    "\n",
    "#calculate each neighborhood's median rate\n",
    "modf = gdf_mo.groupby('NAME')[kcol].agg('median')\n",
    "\n",
    "rmo = pd.merge(modf, shp, how='left', on='NAME').reset_index()"
   ]
  },
  {
   "cell_type": "code",
   "execution_count": 32,
   "metadata": {},
   "outputs": [
    {
     "data": {
      "text/plain": [
       "(90, 19)"
      ]
     },
     "execution_count": 32,
     "metadata": {},
     "output_type": "execute_result"
    }
   ],
   "source": [
    "rmo.shape"
   ]
  },
  {
   "cell_type": "code",
   "execution_count": 33,
   "metadata": {},
   "outputs": [
    {
     "data": {
      "text/html": [
       "<div>\n",
       "<style scoped>\n",
       "    .dataframe tbody tr th:only-of-type {\n",
       "        vertical-align: middle;\n",
       "    }\n",
       "\n",
       "    .dataframe tbody tr th {\n",
       "        vertical-align: top;\n",
       "    }\n",
       "\n",
       "    .dataframe thead th {\n",
       "        text-align: right;\n",
       "    }\n",
       "</style>\n",
       "<table border=\"1\" class=\"dataframe\">\n",
       "  <thead>\n",
       "    <tr style=\"text-align: right;\">\n",
       "      <th></th>\n",
       "      <th>number_of_reviews</th>\n",
       "      <th>liquor_rate</th>\n",
       "      <th>vegan_rate</th>\n",
       "      <th>romance_rate</th>\n",
       "      <th>family_rate</th>\n",
       "      <th>classy_rate</th>\n",
       "      <th>stars</th>\n",
       "    </tr>\n",
       "    <tr>\n",
       "      <th>NAME</th>\n",
       "      <th></th>\n",
       "      <th></th>\n",
       "      <th></th>\n",
       "      <th></th>\n",
       "      <th></th>\n",
       "      <th></th>\n",
       "      <th></th>\n",
       "    </tr>\n",
       "  </thead>\n",
       "  <tbody>\n",
       "    <tr>\n",
       "      <th>ALAMEDA</th>\n",
       "      <td>1.226415</td>\n",
       "      <td>2.652743</td>\n",
       "      <td>0.517222</td>\n",
       "      <td>0.023111</td>\n",
       "      <td>-0.261497</td>\n",
       "      <td>0.757878</td>\n",
       "      <td>0.000000</td>\n",
       "    </tr>\n",
       "    <tr>\n",
       "      <th>ARBOR LODGE</th>\n",
       "      <td>-0.271226</td>\n",
       "      <td>-0.232399</td>\n",
       "      <td>0.095985</td>\n",
       "      <td>-0.381124</td>\n",
       "      <td>-0.078489</td>\n",
       "      <td>-0.372374</td>\n",
       "      <td>-0.952381</td>\n",
       "    </tr>\n",
       "    <tr>\n",
       "      <th>ARDENWALD-JOHNSON CREEK</th>\n",
       "      <td>0.507075</td>\n",
       "      <td>0.013960</td>\n",
       "      <td>0.026876</td>\n",
       "      <td>-0.166821</td>\n",
       "      <td>0.153427</td>\n",
       "      <td>-0.372374</td>\n",
       "      <td>0.476190</td>\n",
       "    </tr>\n",
       "    <tr>\n",
       "      <th>ARGAY TERRACE</th>\n",
       "      <td>-0.235849</td>\n",
       "      <td>-0.290430</td>\n",
       "      <td>-0.426174</td>\n",
       "      <td>0.073536</td>\n",
       "      <td>-0.106886</td>\n",
       "      <td>-0.004727</td>\n",
       "      <td>0.000000</td>\n",
       "    </tr>\n",
       "    <tr>\n",
       "      <th>ARLINGTON HEIGHTS</th>\n",
       "      <td>-0.613208</td>\n",
       "      <td>-0.290430</td>\n",
       "      <td>0.572071</td>\n",
       "      <td>1.824943</td>\n",
       "      <td>-0.106886</td>\n",
       "      <td>-0.372374</td>\n",
       "      <td>-0.952381</td>\n",
       "    </tr>\n",
       "    <tr>\n",
       "      <th>...</th>\n",
       "      <td>...</td>\n",
       "      <td>...</td>\n",
       "      <td>...</td>\n",
       "      <td>...</td>\n",
       "      <td>...</td>\n",
       "      <td>...</td>\n",
       "      <td>...</td>\n",
       "    </tr>\n",
       "    <tr>\n",
       "      <th>VERNON</th>\n",
       "      <td>1.391509</td>\n",
       "      <td>0.055020</td>\n",
       "      <td>0.485410</td>\n",
       "      <td>0.460123</td>\n",
       "      <td>0.069811</td>\n",
       "      <td>0.171744</td>\n",
       "      <td>0.000000</td>\n",
       "    </tr>\n",
       "    <tr>\n",
       "      <th>WEST PORTLAND PARK</th>\n",
       "      <td>-0.188679</td>\n",
       "      <td>-0.290430</td>\n",
       "      <td>-0.426174</td>\n",
       "      <td>-0.042441</td>\n",
       "      <td>0.122663</td>\n",
       "      <td>0.720063</td>\n",
       "      <td>-0.476190</td>\n",
       "    </tr>\n",
       "    <tr>\n",
       "      <th>WILKES COMMUNITY GROUP</th>\n",
       "      <td>0.459906</td>\n",
       "      <td>-0.290430</td>\n",
       "      <td>-0.310992</td>\n",
       "      <td>-0.623162</td>\n",
       "      <td>-0.575452</td>\n",
       "      <td>-0.262080</td>\n",
       "      <td>-1.428571</td>\n",
       "    </tr>\n",
       "    <tr>\n",
       "      <th>WOODLAWN</th>\n",
       "      <td>0.259434</td>\n",
       "      <td>0.918373</td>\n",
       "      <td>0.095985</td>\n",
       "      <td>0.248340</td>\n",
       "      <td>0.199180</td>\n",
       "      <td>0.278887</td>\n",
       "      <td>0.000000</td>\n",
       "    </tr>\n",
       "    <tr>\n",
       "      <th>WOODSTOCK</th>\n",
       "      <td>0.330189</td>\n",
       "      <td>0.005201</td>\n",
       "      <td>0.056494</td>\n",
       "      <td>-0.237415</td>\n",
       "      <td>0.121874</td>\n",
       "      <td>0.047794</td>\n",
       "      <td>0.000000</td>\n",
       "    </tr>\n",
       "  </tbody>\n",
       "</table>\n",
       "<p>90 rows × 7 columns</p>\n",
       "</div>"
      ],
      "text/plain": [
       "                         number_of_reviews  liquor_rate  vegan_rate  \\\n",
       "NAME                                                                  \n",
       "ALAMEDA                           1.226415     2.652743    0.517222   \n",
       "ARBOR LODGE                      -0.271226    -0.232399    0.095985   \n",
       "ARDENWALD-JOHNSON CREEK           0.507075     0.013960    0.026876   \n",
       "ARGAY TERRACE                    -0.235849    -0.290430   -0.426174   \n",
       "ARLINGTON HEIGHTS                -0.613208    -0.290430    0.572071   \n",
       "...                                    ...          ...         ...   \n",
       "VERNON                            1.391509     0.055020    0.485410   \n",
       "WEST PORTLAND PARK               -0.188679    -0.290430   -0.426174   \n",
       "WILKES COMMUNITY GROUP            0.459906    -0.290430   -0.310992   \n",
       "WOODLAWN                          0.259434     0.918373    0.095985   \n",
       "WOODSTOCK                         0.330189     0.005201    0.056494   \n",
       "\n",
       "                         romance_rate  family_rate  classy_rate     stars  \n",
       "NAME                                                                       \n",
       "ALAMEDA                      0.023111    -0.261497     0.757878  0.000000  \n",
       "ARBOR LODGE                 -0.381124    -0.078489    -0.372374 -0.952381  \n",
       "ARDENWALD-JOHNSON CREEK     -0.166821     0.153427    -0.372374  0.476190  \n",
       "ARGAY TERRACE                0.073536    -0.106886    -0.004727  0.000000  \n",
       "ARLINGTON HEIGHTS            1.824943    -0.106886    -0.372374 -0.952381  \n",
       "...                               ...          ...          ...       ...  \n",
       "VERNON                       0.460123     0.069811     0.171744  0.000000  \n",
       "WEST PORTLAND PARK          -0.042441     0.122663     0.720063 -0.476190  \n",
       "WILKES COMMUNITY GROUP      -0.623162    -0.575452    -0.262080 -1.428571  \n",
       "WOODLAWN                     0.248340     0.199180     0.278887  0.000000  \n",
       "WOODSTOCK                   -0.237415     0.121874     0.047794  0.000000  \n",
       "\n",
       "[90 rows x 7 columns]"
      ]
     },
     "execution_count": 33,
     "metadata": {},
     "output_type": "execute_result"
    }
   ],
   "source": [
    "#calculate quantile\n",
    "from sklearn.preprocessing import RobustScaler, MinMaxScaler\n",
    "rs = RobustScaler(quantile_range=(10.0, 90.0))\n",
    "scaled_feature = rs.fit_transform(modf)\n",
    "kdf = pd.DataFrame(scaled_feature, index=modf.index, columns=kcol)\n",
    "kdf"
   ]
  },
  {
   "cell_type": "code",
   "execution_count": 34,
   "metadata": {},
   "outputs": [
    {
     "data": {
      "text/html": [
       "<div>\n",
       "<style scoped>\n",
       "    .dataframe tbody tr th:only-of-type {\n",
       "        vertical-align: middle;\n",
       "    }\n",
       "\n",
       "    .dataframe tbody tr th {\n",
       "        vertical-align: top;\n",
       "    }\n",
       "\n",
       "    .dataframe thead th {\n",
       "        text-align: right;\n",
       "    }\n",
       "</style>\n",
       "<table border=\"1\" class=\"dataframe\">\n",
       "  <thead>\n",
       "    <tr style=\"text-align: right;\">\n",
       "      <th></th>\n",
       "      <th>number_of_reviews</th>\n",
       "      <th>liquor_rate</th>\n",
       "      <th>vegan_rate</th>\n",
       "      <th>romance_rate</th>\n",
       "      <th>family_rate</th>\n",
       "      <th>classy_rate</th>\n",
       "      <th>stars</th>\n",
       "    </tr>\n",
       "    <tr>\n",
       "      <th>NAME</th>\n",
       "      <th></th>\n",
       "      <th></th>\n",
       "      <th></th>\n",
       "      <th></th>\n",
       "      <th></th>\n",
       "      <th></th>\n",
       "      <th></th>\n",
       "    </tr>\n",
       "  </thead>\n",
       "  <tbody>\n",
       "    <tr>\n",
       "      <th>ALAMEDA</th>\n",
       "      <td>1.226415</td>\n",
       "      <td>2.652743</td>\n",
       "      <td>0.517222</td>\n",
       "      <td>0.023111</td>\n",
       "      <td>-0.261497</td>\n",
       "      <td>0.757878</td>\n",
       "      <td>0.000000</td>\n",
       "    </tr>\n",
       "    <tr>\n",
       "      <th>ARBOR LODGE</th>\n",
       "      <td>-0.271226</td>\n",
       "      <td>-0.232399</td>\n",
       "      <td>0.095985</td>\n",
       "      <td>-0.381124</td>\n",
       "      <td>-0.078489</td>\n",
       "      <td>-0.372374</td>\n",
       "      <td>-0.952381</td>\n",
       "    </tr>\n",
       "    <tr>\n",
       "      <th>ARDENWALD-JOHNSON CREEK</th>\n",
       "      <td>0.507075</td>\n",
       "      <td>0.013960</td>\n",
       "      <td>0.026876</td>\n",
       "      <td>-0.166821</td>\n",
       "      <td>0.153427</td>\n",
       "      <td>-0.372374</td>\n",
       "      <td>0.476190</td>\n",
       "    </tr>\n",
       "    <tr>\n",
       "      <th>ARGAY TERRACE</th>\n",
       "      <td>-0.235849</td>\n",
       "      <td>-0.290430</td>\n",
       "      <td>-0.426174</td>\n",
       "      <td>0.073536</td>\n",
       "      <td>-0.106886</td>\n",
       "      <td>-0.004727</td>\n",
       "      <td>0.000000</td>\n",
       "    </tr>\n",
       "    <tr>\n",
       "      <th>ARLINGTON HEIGHTS</th>\n",
       "      <td>-0.613208</td>\n",
       "      <td>-0.290430</td>\n",
       "      <td>0.572071</td>\n",
       "      <td>1.824943</td>\n",
       "      <td>-0.106886</td>\n",
       "      <td>-0.372374</td>\n",
       "      <td>-0.952381</td>\n",
       "    </tr>\n",
       "  </tbody>\n",
       "</table>\n",
       "</div>"
      ],
      "text/plain": [
       "                         number_of_reviews  liquor_rate  vegan_rate  \\\n",
       "NAME                                                                  \n",
       "ALAMEDA                           1.226415     2.652743    0.517222   \n",
       "ARBOR LODGE                      -0.271226    -0.232399    0.095985   \n",
       "ARDENWALD-JOHNSON CREEK           0.507075     0.013960    0.026876   \n",
       "ARGAY TERRACE                    -0.235849    -0.290430   -0.426174   \n",
       "ARLINGTON HEIGHTS                -0.613208    -0.290430    0.572071   \n",
       "\n",
       "                         romance_rate  family_rate  classy_rate     stars  \n",
       "NAME                                                                       \n",
       "ALAMEDA                      0.023111    -0.261497     0.757878  0.000000  \n",
       "ARBOR LODGE                 -0.381124    -0.078489    -0.372374 -0.952381  \n",
       "ARDENWALD-JOHNSON CREEK     -0.166821     0.153427    -0.372374  0.476190  \n",
       "ARGAY TERRACE                0.073536    -0.106886    -0.004727  0.000000  \n",
       "ARLINGTON HEIGHTS            1.824943    -0.106886    -0.372374 -0.952381  "
      ]
     },
     "execution_count": 34,
     "metadata": {},
     "output_type": "execute_result"
    }
   ],
   "source": [
    "#and normorlize the result\n",
    "normed = kdf.copy()\n",
    "for c in kdf.columns.values:\n",
    "    normed[c] = rs.fit_transform(kdf[c].values.reshape(-1,1))\n",
    "normed.head()"
   ]
  },
  {
   "cell_type": "markdown",
   "metadata": {},
   "source": [
    "#### 3.2.1 Cluster result map"
   ]
  },
  {
   "cell_type": "code",
   "execution_count": 35,
   "metadata": {},
   "outputs": [
    {
     "data": {
      "text/plain": [
       "AgglomerativeClustering(distance_threshold=5, n_clusters=None)"
      ]
     },
     "execution_count": 35,
     "metadata": {},
     "output_type": "execute_result"
    }
   ],
   "source": [
    "#import the necessary module\n",
    "from sklearn.cluster import AgglomerativeClustering\n",
    "\n",
    "#create the model that we want, setting the linkage to ward, the distance threshold to 4 and \n",
    "#set the number of clusters to none so that we can plot the dendrogram afterwards\n",
    "model = AgglomerativeClustering(linkage=\"ward\", distance_threshold = 5, n_clusters=None)\n",
    "#fit the model to the data\n",
    "model.fit(normed)"
   ]
  },
  {
   "cell_type": "code",
   "execution_count": 36,
   "metadata": {},
   "outputs": [
    {
     "data": {
      "text/plain": [
       "<AxesSubplot:>"
      ]
     },
     "execution_count": 36,
     "metadata": {},
     "output_type": "execute_result"
    },
    {
     "data": {
      "image/png": "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\n",
      "text/plain": [
       "<Figure size 864x576 with 1 Axes>"
      ]
     },
     "metadata": {
      "needs_background": "dark"
     },
     "output_type": "display_data"
    }
   ],
   "source": [
    "rmo['h_Cluster'] = model.labels_\n",
    "rmo.plot(column='h_Cluster', categorical=True, legend=True, figsize=(12,8))\n",
    "#plt.savefig('../Output/h_Cluster_map.png', dpi=300, transparent=True)"
   ]
  },
  {
   "cell_type": "code",
   "execution_count": 37,
   "metadata": {},
   "outputs": [
    {
     "data": {
      "text/html": [
       "<div>\n",
       "<style scoped>\n",
       "    .dataframe tbody tr th:only-of-type {\n",
       "        vertical-align: middle;\n",
       "    }\n",
       "\n",
       "    .dataframe tbody tr th {\n",
       "        vertical-align: top;\n",
       "    }\n",
       "\n",
       "    .dataframe thead th {\n",
       "        text-align: right;\n",
       "    }\n",
       "</style>\n",
       "<table border=\"1\" class=\"dataframe\">\n",
       "  <thead>\n",
       "    <tr style=\"text-align: right;\">\n",
       "      <th></th>\n",
       "      <th>number_of_reviews</th>\n",
       "      <th>liquor_rate</th>\n",
       "      <th>vegan_rate</th>\n",
       "      <th>romance_rate</th>\n",
       "      <th>family_rate</th>\n",
       "      <th>classy_rate</th>\n",
       "      <th>stars</th>\n",
       "    </tr>\n",
       "    <tr>\n",
       "      <th>h_Cluster</th>\n",
       "      <th></th>\n",
       "      <th></th>\n",
       "      <th></th>\n",
       "      <th></th>\n",
       "      <th></th>\n",
       "      <th></th>\n",
       "      <th></th>\n",
       "    </tr>\n",
       "  </thead>\n",
       "  <tbody>\n",
       "    <tr>\n",
       "      <th>0</th>\n",
       "      <td>46.0</td>\n",
       "      <td>0.048675</td>\n",
       "      <td>0.030250</td>\n",
       "      <td>0.062500</td>\n",
       "      <td>0.048750</td>\n",
       "      <td>0.038425</td>\n",
       "      <td>4.00</td>\n",
       "    </tr>\n",
       "    <tr>\n",
       "      <th>1</th>\n",
       "      <td>24.0</td>\n",
       "      <td>0.007725</td>\n",
       "      <td>0.001925</td>\n",
       "      <td>0.058800</td>\n",
       "      <td>0.073275</td>\n",
       "      <td>0.000000</td>\n",
       "      <td>3.50</td>\n",
       "    </tr>\n",
       "    <tr>\n",
       "      <th>2</th>\n",
       "      <td>70.5</td>\n",
       "      <td>0.285700</td>\n",
       "      <td>0.025150</td>\n",
       "      <td>0.059500</td>\n",
       "      <td>0.108500</td>\n",
       "      <td>0.053800</td>\n",
       "      <td>4.00</td>\n",
       "    </tr>\n",
       "    <tr>\n",
       "      <th>3</th>\n",
       "      <td>10.0</td>\n",
       "      <td>0.031250</td>\n",
       "      <td>0.000000</td>\n",
       "      <td>0.153400</td>\n",
       "      <td>0.045500</td>\n",
       "      <td>0.000000</td>\n",
       "      <td>3.75</td>\n",
       "    </tr>\n",
       "    <tr>\n",
       "      <th>4</th>\n",
       "      <td>28.5</td>\n",
       "      <td>0.002325</td>\n",
       "      <td>0.015900</td>\n",
       "      <td>0.048625</td>\n",
       "      <td>0.050050</td>\n",
       "      <td>0.003150</td>\n",
       "      <td>4.00</td>\n",
       "    </tr>\n",
       "  </tbody>\n",
       "</table>\n",
       "</div>"
      ],
      "text/plain": [
       "           number_of_reviews  liquor_rate  vegan_rate  romance_rate  \\\n",
       "h_Cluster                                                             \n",
       "0                       46.0     0.048675    0.030250      0.062500   \n",
       "1                       24.0     0.007725    0.001925      0.058800   \n",
       "2                       70.5     0.285700    0.025150      0.059500   \n",
       "3                       10.0     0.031250    0.000000      0.153400   \n",
       "4                       28.5     0.002325    0.015900      0.048625   \n",
       "\n",
       "           family_rate  classy_rate  stars  \n",
       "h_Cluster                                   \n",
       "0             0.048750     0.038425   4.00  \n",
       "1             0.073275     0.000000   3.50  \n",
       "2             0.108500     0.053800   4.00  \n",
       "3             0.045500     0.000000   3.75  \n",
       "4             0.050050     0.003150   4.00  "
      ]
     },
     "execution_count": 37,
     "metadata": {},
     "output_type": "execute_result"
    }
   ],
   "source": [
    "rmo0 = rmo[['number_of_reviews',\n",
    "'liquor_rate',\n",
    "'vegan_rate',\n",
    "'romance_rate',\n",
    "'family_rate',\n",
    "'classy_rate',\n",
    "'stars',\n",
    "'h_Cluster']].copy()\n",
    "\n",
    "k5sizes = rmo0.groupby('h_Cluster').median()\n",
    "k5sizes"
   ]
  },
  {
   "cell_type": "markdown",
   "metadata": {},
   "source": [
    "#### 3.2.2 Dendrogram"
   ]
  },
  {
   "cell_type": "code",
   "execution_count": 38,
   "metadata": {},
   "outputs": [
    {
     "data": {
      "image/png": "iVBORw0KGgoAAAANSUhEUgAAAkkAAAJgCAYAAACeI/fKAAAAOXRFWHRTb2Z0d2FyZQBNYXRwbG90bGliIHZlcnNpb24zLjMuMSwgaHR0cHM6Ly9tYXRwbG90bGliLm9yZy/d3fzzAAAACXBIWXMAAAsTAAALEwEAmpwYAAAp8klEQVR4nO3de5wddX038E8kYriKiBpEJFWRiAajRi3aVhRvXBRbuXgDSW2h+nihj1q1T1ux+qhttdWn9UarQVEUiFraEK3aitYW0Wgpq5BgRZBbFAQMVxWc54/frDl78tvs2ey5JXm/X6957dmZOTPfnf3tzGd/M2dmXtM0AQBgqnuMugAAgHEkJAEAVAhJAAAVQhIAQIWQBABQISQBAFQISdC77yY5ZNRFJDkxydc2M/1zSV464HVM5/Qkb5vjuvvhwUluTbLDENZ1YrZsW/Xi/CS/N6BlAzMQkqC4IsnTu8admKkHv0emHLTG3WFJPjrqIubgkCRXz3EZP0yya5K751wNsN0SkmDw5m/Be4bRA7Kt2pLtvTXq5885L44HsAl/FNC7K7Kxt+keSd6Y5PtJfpLk7CR7ttMWJWmSvCylR+Pf2vHnJFmf5KdJvprSMzXp9CQfSLI6yW1Jnppk3ySfSXJ9u46/66rnXUluSvKDlN6jSedn6ima309yaZJbklyS5LHt+Mn6J8f/9gw/f6ffSPKfSW5OclVKr1u3E7PpaagmycPa14e3670lyTVJXpdkl5TThQ9MOV12a/t6ttt7ctxkkDg/yVuT/Ee7vi8k2aujrhOSXNku+09T71mcdN8k/5RkQ5JvJHlo1/TFSb6Y5MYk65Ic2zHt9CTvS3JeW8eFXe9/RpK1KW3k71LCy6QT2/r/pl32qUnuneRjKW3kyiR/ko379R2SvDvJDSlt5JWVbfJ/22XenuQhSZZnY1u5PMnJHes/JKWH74+S/DjJdUmel/J7vKyt6Y8D2xAhCbbMq1MOEE9JOYjflHLw6/SUJI9I8qz2+88l2T/J/ZN8O8knuuZ/UcpBa7ckFyRZlXLgW5RknySf6pj3iSkH4L2S/GWSD2fqAXXSMSkH0xOS7J7kuSlBICmB4zdTDrRvSfLxJHvP8HMn5XqfzyX52yT3S7I0yUU9vK/bh1MOwrsleVRKuLktJfBdm3K6bNf29ZZs724vSgkB90+yY0ooS5IDk7w/yYtTfv57p2zv6bwvyZ3tvL/bDpN2SQlIZ7breWG77M5A/MKU7X2fJP+T8jtPyu/y0ylBZ6+U38+Tu9b9xJTwcv/2fX/b1vuQ9uc/of0ZkxKOD0v5/Tw2Zft1Oz7JSSm/gytTws+RKW1leUoge2zH/AuTLEjZPn+W5O+TvCTJ41La0p+1tcA2QUiCjf4xpWdkcnj/ZuY9Ocn/SfnP+mcpQeToTD0FcmrKQf+O9vuPpPyHPjn/o1MOcJPOTfmv/pdJDkoJA69vl3FnpvbKXJlygLo75fqjvZM8oFLn76WEqG+m9CL8T/vepPRsXduu76wk30vyhM38zJNenORLST6Z5BcpoeuiHt7X7RcpAWX3lNDz7c3MuyXbu9uKlB6PO1J6opa2449O8s8p2/fnKQf66R5quUOS57fz3JbkO5l6/deRKb1QK5Lc1f5Mn27XMekzKT1Qd6UE5ck6JnvWVqZsm/ek9Dx2ujYlGN3V1npckjeltKsrUnqOjm/nPTbJe1O22U1J3ln5eU5P+UDCXe06z0sJZ02Sr6T0uP1mx/y/SAlnv0gJ7Xu167ilXc53U9oubBOEJNjoeUn26BhesZl590vy2WwMVJemBJbOoHJVx+sdUg5S3085TXNFO36vaebfNyXM3DXN+jsPnre3X3etzLdvu86aE1LCzc3t8KiueqazuWXOxvNTgsGVKQfkgzcz72y3d033NpvcXg/seu/t2djb1u1+KcGsc/4rO17vl9Lbc3PH8OKUHpjZ1tFk05+p8/u9UnrEOtd/ZTb2gnUvr7Z9uscdluTrKafObk75/XS2iZ9k48Xwk2H0Rx3T70i9HcJWSUiCLXNVygFlj45hQcq1NZM6eyNelOSolOtc7p1yCi2Zeoqsc/6rUk5rzfXi3Kuy6TUzSTmY/33KdSr3Tan/O6mfsut1md1uS7Jzx/cLu6Z/M2Wb3D+lF+/sdnytF2e223s2rkvyoI7vd0rZJjXXpwTXfTvGPbirzq901blrkpf3WEfncud1fZ9M/RlvSOnR2a+rlslt0v1zdS+re3n3Sun1eldK+Nwj5Rq5XtoEbJOEJNgyH0w57TB5gLpfygF/OrulnCb6SUpwePsMy/9GykHunSnXuSzIpten9OIfUq69eVzKwe5hbc27pBwgr2/nW57Sk9SLT6SEvWNTQtx9s/GUUaf/TrkWZ2lb/6kd03ZM6WG5d8qBfkM29lD8qF1m56nI2W7v2ViZ5DlJntTW9ZZMHwzuTjlddmrK7/HATL0n1aokD0855XXPdnh8yrVSMzkvZXv9Tsp2fXU2DZbdtZydjdex7Zfkf6dcW5Z22mtSepb2SPKGGda/Y0pQmgyChyV5Zg91wzZLSIIt896UTzh9IeV6jK+nnGaZzsdSToVck3LdyddnWP7dKQfuh6V8YuvqlOtPZuuclIPomW2d/5jyqbBLUq5fuSAllCxJuR6qFz9MOQ3z2pTTMhelXF/V7bIkf55y/dL3sukn3Y5POe24IckfpFwAnJRPd30y5QLlm1NOG812e8/Gd5O8KuUam+va5f84JdTWvDKld2h9yjU9Kzqm3ZISLF6Qcv3Q+iR/kRI+ZnJDyoX270wJ0/tn5t/Jq1J67C5P2b5nplz7lpSewi8kuTjJf6X0Ct2V6e8ddUtKMDs75RqmF6Vsc9huzWuaLe2hBtgm7ZoSzvZP+ej8tuKwlB65/WaaESj0JAGUXrudU05DvivJRDZeXL+12imlx29+yim3N6dc/A70SEgCKNc3XdsO+6ecLtvau9nnpVxfdVPK6bZLU25dAPTI6TYAgAo9SQAAFUISAEDFQJ6WvddeezWLFi0axKIBAPrqW9/61g1N09yve/xAQtKiRYuyZs2aQSwaAKCv5s2bd2VtvNNtAAAVQhIAQIWQBABQISQBAFQISQAAFUISAECFkAQAUCEkAQBUCEkAABVCEgBAhZAEAFAhJAEAVAhJAAAVQhIAQIWQBABQISQBAFQISQAAFUISAECFkAQAUCEkAQBUCEkAABVCEgBAhZAEAFAxf9QFwOaceeEPc+5F14y6DGCMHbV0n7zoiQ8edRlsg/QkMdbOveiaXHLdhlGXAYypS67b4B8pBkZPEmPvwL13z1knHzzqMoAxdNyHLhh1CWzD9CQBAFQISQAAFUISAEBFryHpD5N8N8l3knwyyYKBVQQAMAZ6CUn7JHl1kmVJHpVkhyQvGGRRAACj1mtP0vwkO7Vfd05y7cAqAgAYA72EpGuSvCvJD5Ncl+SnSb4wyKIAAEatl5B0nyRHJfm1JA9MskuSl1TmOynJmnYAANiq9RKSnp7kB0muT/KLJJ9J8qTKfKelXLe0rG/VAQCMSC8h6YdJfj3lWqR5SQ5NcukgiwIAGLVeQtKFSVYm+XaSifY9pw2yKACAUev12W1vbgcAgO2CO24DAFQISQAAFUISAECFkAQAUCEkAQBUCEkAABVCEgBAhZAEAFAhJAEAVAhJAAAVQhIAQIWQBABQISQBAFQISQAAFUISAECFkAQAUCEkAQBUCEkAABVCEgBAhZAEAFAhJAEAVAhJAAAVQhIAQIWQBABQISQBAFQISQAAFUISAECFkAQAUCEkAQBUCEkAABVCEgBAhZAEAFAhJAEAVAhJAAAVQhIAQIWQBABQISQBAFQISQAAFUISAECFkAQAUCEkAQBUCEkAABVCEgBAhZAEAFAhJAEAVAhJAAAVQhIAQIWQBABQISQBAFQISQAAFUISAECFkAQAUCEkAQBUCEkAABVCEgBARS8h6YAkF3UMG5KcMqiCAADGwfwe5lmXZGn7eock1yT57KAKAgAYB7M93XZoku8nuXIAtQAAjI3ZhqQXJPnkIAoBABgnswlJOyZ5bpJzppl+UpI17QAAsFXr5ZqkSYcl+XaSH00z/bR2SJJmLkUBAIzabHqSXhin2gCA7USvIWnnJM9I8pkB1gIAMDZ6Pd12e5L7DrIQAIBx4o7bAAAVQhIAQIWQBABQMZtbAAAwQmde+MOce9E1oy5jrFxy3YYkyXEfumDElYyfo5bukxc98cGjLmOrpicJYCtx7kXX/CoUUBy49+45cO/dR13G2Lnkug0CdR/oSQLYihy49+456+SDR10GY07PWn/oSQIAqBCSAAAqhCQAgAohCQCgQkgCAKgQkgAAKoQkAIAKIQkAoEJIAgCoEJIAACqEJACACiEJAKBCSAIAqBCSAAAqhCQAgAohCQCgQkgCAKgQkgAAKoQkAIAKIQkAoEJIAgCoEJIAACqEJACACiEJAKBCSAIAqBCSAAAqhCQAgAohCQCgQkgCAKgQkgAAKoQkAIAKIQkAoEJIAgCoEJIAACqEJACACiEJAKBCSAIAqBCSAAAqhCQAgAohCQCgQkgCAKgQkgAAKoQkAIAKIQkAoEJIAgCoEJIAACqEJACACiEJAKCi15C0R5KVSdYmuTTJwYMqCABgHMzvcb73Jvl8kqOT7Jhk54FVBAAwBnoJSbsn+a0kJ7bf/7wdAAC2Wb2cbntIkuuTrEjyX0n+IckugywKAGDUeglJ85M8NskHkjwmyW1J3liZ76Qka9oBAGCr1ktIurodLmy/X5kSmrqdlmRZOwAAbNV6CUnrk1yV5ID2+0OTXDKwigAAxkCvn257VZJPpHyy7fIkywdWEQDAGOg1JF0Up9EAgO2IO24DAFQISQAAFUISAECFkAQAUCEkAQBUCEkAABVCEgBAhZAEAFAhJAEAVAhJAAAVQhIAQIWQBABQISQBAFQISQAAFUISAECFkAQAUCEkAQBUCEkAABVCEgBAhZAEAFAhJAEAVAhJAAAVQhIAQMX8URew3VqzIplYOeoqxt/6o8rXFW8bbR1biyVHJ8uWj7oKgG2CkDQqEyuT9RPJwiWjrmSsnfXgc0ddwtZj/UT5KiQB9IWQNEoLlyTLzxt1FWwrVhwx6goAtimuSQIAqBCSAAAqhCQAgAohCQCgQkgCAKjw6TYAmIObzjo7G1atGnUZU/xsr6cmSa48/gMjrmSq3Y88Mvc57thRl9EzIQkA5mDDqlW5c+3aLFi8eNSl/Mp7b/jyqEvYxJ1r1yaJkAQA25MFixdnvzM+NuoyxtqVx58w6hJmzTVJAAAVQhIAQIWQBABQISQBAFQISQAAFUISAECFkAQAUCEkAQBUCEkAABVCEgBAhZAEAFAhJAEAVAhJAAAVQhIAQIWQBABQISQBAFQISQAAFUISAECFkAQAUCEkAQBUCEkAABXze5zviiS3JLk7yV1Jlg2qIACAcdBrSEqSpya5YVCFAACME6fbAAAq5jVN08t8P0hyU5ImyYeSnLa5mZfttluz5nGPmzry2GOTV7wiuf325PDDN33TiSeW4YYbkqOP3nT6y1+eHHdcctVVyfHHbzr9ta9NnvOcZN265OSTN53+J3+SPP3pyUUXJaecsun0t789edKTkv/8z+SP/3jT6e95T7J0afKlLyVve9um0z/0oeSAA5J//ufk3e/edPoZZyT77pucdVbygQ8k6yfK+IVLyteVK5O99kpOP70M3VavTnbeOXn/+5Ozz950+vnnl6/veleyatXUaTvtlHzuc+X1W9+a/Ou/Tp1+3/smn/50ef2mNyUXXDB1+oMelHz84+X1KaeUbdjp4Q9PTmubxEknJZddNnX60qVl+yXJS16SXH311OkHH5y84x3l9fOfn/zkJ1OnH3po8qd/Wl4fdlhyxx1Tpx95ZPK615XXhxySTWwvbe81y5J/+cHGNjWpu+110/bK662g7X332g1Jkkc+cPcyfVzaXq/7vW7bSNu7Zf/9c88Nt2TBIxZvnL6Ntb1NbEHbu/PStUlSttOYtb15X/nKt5qm2eRSol5Ptz05ybVJ7p/ki0nWJvlq1zwntQMAwFav156kTqcmuTXJu6abYdmyZc2aNWvmUNZ2YMUR5evy80ZbB9sObWqbd9yHSm/HWScfPOJK6HTl8SckSfY742MjrmS8jfN2mjdvXrUnqZdrknZJslvH62cm+U4fawMAGDu9nG57QJLPdsx/ZpLPD6wiAIAx0EtIujzJowddCADAOHELAACACiEJAKBCSAIAqBCSAAAqhCQAgAohCQCgQkgCAKgQkgAAKoQkAIAKIQkAoEJIAgCoEJIAACqEJACACiEJAKBCSAIAqBCSAAAqhCQAgAohCQCgQkgCAKgQkgAAKoQkAIAKIQkAoEJIAgCoEJIAACqEJACACiEJAKBCSAIAqBCSAAAq5o+6AABgfN101tnZsGrVnJdz59q1SZIrjz9hzstKkt2PPDL3Oe7YvixrOnqSAIBpbVi16lcBZy4WLF6cBYsX96GiErj6EdxmoicJANisBYsXZ78zPjbqMn6lX71RM9GTBABQISQBAFQISQAAFUISAECFkAQAUCEkAQBUCEkAABXukwRbYs2KZGLlqKuYav3F5euKI0ZbR7clRyfLlo+6CoBZ05MEW2JiZbJ+YtRVTLXwoDKMk/UT4xcmAXqkJwm21MIlyfLzRl3FeBu3Xi2AWdCTBABQISQBAFQISQAAFUISAECFkAQAUCEkAQBUCEkAABVCEgBAhZAEAFAhJAEAVAhJAAAVQhIAQIWQBABQMZuQtEOS/0qyakC1AACMjdmEpNckuXRQhQAAjJNeQ9KDkhyR5B8GWAsAwNjoNSS9J8kfJfnl4EoBABgfvYSkI5P8OMm3ZpjvpCRr2gEAYKvWS0h6cpLnJrkiyaeSPC3JxyvznZZkWTsAAGzVeglJb0q5JmlRkhck+bckLxlgTQAAI+c+SQAAFfNnOf/57QAAsE3TkwQAUCEkAQBUCEkAABVCEgBAhZAEAFAhJAEAVAhJAAAVQhIAQIWQBABQISQBAFQISQAAFUISAECFkAQAUCEkAQBUCEkAABVCEgBAxfxRFwCwtTrnsnOy+vLVQ1vfuhufkiRZ/vnThrbOwx9yeI55+DFDWx+MEyEJYAutvnx11t24LgfsecBQ1veYx3xlKOuZtO7GdUkiJLHdEpIA5uCAPQ/IimevGHUZA7H888tHXQKMlGuSAAAqhCQAgAohCQCgQkgCAKgQkgAAKoQkAIAKIQkAoEJIAgCocDNJYKo1K5KJlf1Z1vqLy9cVR/RneUuOTpa5wSEwHHqSgKkmVibrJ/qzrIUHlaEf1k/0L7wB9EBPErCphUuS5eeNuoqp+tUbBdAjPUkAABVCEgBAhZAEAFAhJAEAVAhJAAAVQhIAQIWQBABQISQBAFQISQAAFUISAECFkAQAUCEkAQBUCEkAABVCEgBAhZAEAFAhJAEAVAhJAAAVQhIAQIWQBABQISQBAFQISQAAFUISAECFkAQAUCEkAQBUCEkAABW9hKQFSb6R5L+TfDfJWwZaEQDAGJjfwzw/S/K0JLcmuWeSryX5XJKvD7AuAICR6qUnqUkJSEkJSfdsxwEAbLN6vSZphyQXJflxki8muXBQBQEAjINeQ9LdSZYmeVCSJyR5VGWek5KsaQcAgK3abD/ddnOS85M8uzLttCTL2gEAYKvWS0i6X5I92tc7JXl6krWDKggAYBz08um2vZN8NOW6pHskOTvJqkEWBQAwar2EpIuTPGbQhQAAjBN33AYAqBCSAAAqhCQAgAohCQCgQkgCAKgQkgAAKoQkAIAKIQkAoEJIAgCo6OWO2wCwTbnprLOzYVV/nrB159ryONMrjz+hL8vb/cgjc5/jju3LspgbPUkAbHc2rFr1q3AzVwsWL86CxYv7sqw7167tW3hj7vQkAbBdWrB4cfY742OjLmOKfvVG0R96kgAAKoQkAIAKIQkAoMI1SWw/1qxIJlb2Z1nrLy5fVxwx92UtOTpZtnzuywGgr/Qksf2YWJmsn+jPshYeVIa5Wj/Rv+AGQF/pSWL7snBJsvy8UVexUT96ogAYCD1JAAAVQhIAQIWQBABQISQBAFQISQAAFUISAECFkAQAUCEkAQBUCEkAABVCEgBAhZAEAFAhJAEAVAhJAAAVQhIAQMX8URcwFGtWJBMrR13FVOsvLl9XHDHaOrotOTpZtnzUVQDAyG0fPUkTK5P1E6OuYqqFB5VhnKyfGL8wCQAjsn30JCXJwiXJ8vNGXcV4G7deLQAYoe2jJwkAYJaEJACACiEJAKBCSAIAqBCSAAAqhCQAgAohCQCgQkgCAKgQkgAAKoQkAIAKIQkAoEJIAgCoEJIAACqEJACACiEJAKBCSAIAqBCSAAAqhCQAgAohCQCgYv6oC6AP1qxIJlbOfTnrLy5fVxwx92UlyZKjk2XL+7MsABiyXnqS9k3y5SSXJvluktcMtCJmb2Jlsn5i7stZeFAZ+mH9RH+CGwCMSC89SXcleW2SbyfZLcm3knwxySUDrIvZWrgkWX7eqKvYqF+9UQAwIr30JF2XEpCS5JaUHqV9BlYRAMAYmO2F24uSPCbJhf0vBQBgfMzmwu1dk3w6ySlJNlSmn9QOAABbvV5D0j1TAtInknxmmnlOa4ckaeZYFwDASPVyum1ekg+nXIv014MtBwBgPPQSkp6c5PgkT0tyUTscPriSAABGr5fTbV9L6U0CANhueCwJAECFkAQAUCEkAQBUCEkAABVCEgBAhZAEAFAhJAEAVAhJAAAVs3nALQBj7pzLzsnqy1f3ZVlrb1ybJFn++eVzXtbhDzk8xzz8mDkvB4ZJTxLANmT15auz7sZ1fVnW4j0XZ/Gei+e8nHU3rutbcINh0pMEsI05YM8DsuLZK0Zdxq/0oycKRkFPEgBAhZAEAFAhJAEAVAhJAAAVQhIAQIWQBABQISQBAFQISQAAFUISAECFkAQAUCEkAQBUCEkAABVCEgBAhZAEAFAhJAEAVAhJAAAVQhIAQIWQBABQISQBAFQISQAAFUISAECFkAQAUDF/1AVMa82KZGJlf5a1/uLydcURc1/WkqOTZcvnvhwAYKyNb0/SxMpk/UR/lrXwoDLM1fqJ/gU3AGCsjW9PUpIsXJIsP2/UVWzUj54oAGCrML49SQAAIyQkAQBUCEkAABVCEgBAhZAEAFAhJAEAVAhJAAAVQhIAQIWQBABQISQBAFQISQAAFUISAECFkAQAUCEkAQBUCEkAABVCEgBAhZAEAFAhJAEAVPQSkj6S5MdJvjPgWgAAxkYvIen0JM8ecB0AAGOll5D01SQ3DroQAIBx4pokAICK+X1c1kntAACw1etnSDqtHZKk6eNyAQCGzuk2AICKXkLSJ5NckOSAJFcnedlAKwIAGAO9nG574cCrAAAYM063AQBUCEkAABVCEgBAhZAEAFAhJAEAVAhJAAAVQhIAQIWQBABQISQBAFQISQAAFUISAECFkAQAUCEkAQBUCEkAABVCEgBAhZAEAFAhJAEAVAhJAAAVQhIAQIWQBABQISQBAFQISQAAFUISAECFkAQAUCEkAQBUCEkAABVCEgBAhZAEAFAhJAEAVAhJAAAVQhIAQIWQBABQISQBAFQISQAAFUISAECFkAQAUCEkAQBUCEkAABVCEgBAhZAEAFAhJAEAVAhJAAAVQhIAQIWQBABQISQBAFQISQAAFUISAECFkAQAUCEkAQBUCEkAABVCEgBAhZAEAFAhJAEAVAhJAAAVQhIAQEWvIenZSdYl+Z8kbxxcOQAA46GXkLRDkvclOSzJgUle2H4FANhm9RKSnpDSg3R5kp8n+VSSowZZFADAqPUSkvZJclXH91e34wAAtlnzmqaZaZ5jkjwrye+13x+f0rv0qq75TmqH7LTTTgfceeed6/pYJwDAoOzXNM39ukfO7+GNVyfZt+P7ByW5tjLfae2QO+64Y0sKBAAYG72cbvtmkv2T/FqSHZO8IMk/DbIoAIBR66Un6a4kr0zyLymfdPtIku8OsigAgFHr5ZokAIDtjjtuAwBUCEkAABVCEnP1jiSn9DjvXyf5g8GVMsU41qWmudewOfdKsjbJ/fuwLLZu49imxrGmcTU+26ppmnEa9m+a5s6maT7efn9g0zRrmqa5qR2+1I4bRi23dg13N03zt5X53twUTx9SXee322iyrnUd03Zumub9TdPc0DTNT5um+eqAa7lf0zTXNE2zU/v9rzdN88WmaW5smub6pmnOaZpm7475926a5qqmaXYccl0ztaNh1NVd00xtaFQ1ba4NDaKm7hp2bJpmZdM0V7Tb5JCu+U9pmubypmk2NE1zbdM0f9M0zfyO6X/UNM27B7jN0my6n3pxM3VfcXtb++MGXEdt2LNpms82TXNb0zRXNk3zoiGv/15N03y4XfctTdP8V9M0h7XThrU/n22bemrTNF9uSnu/orK8frSp2dZ0atM0v2imtquH9LmmmYbudp5mOMeY2R5X9mia5qNN0/y4HU7t5+9v3HqS3pdyy4FJ1yY5OsmeSfZKufXAp4ZUy64dwwOS3JHknK55HtrWd92Qapr0ymys7YCO8aelbKtHtF//cMB1nJhkdcq2SZL7tDUsSrJfkluSrOiY/7qUVP/cIdc1UzsaRl3dNU2arg2NqqbNtaFB1FSr4WtJXpJkfWX+f07y2CS7J3lUkkcneXXH9DOTvDTlP8hB6d5PfSJT9xevSHmM07cHWMN03pfy+KgHJHlxkg8keeQQ1z8/5QkNT0ly7yR/muTslH3CsPbnJ2Z2beq2lE9tv36a5fWjTc22piQ5K1Pb1eV9rmkm3e08Gc4x5sTM7rjyN0l2bqc/IeWG18s7ps9pW41TSHpBkpuT/GvHuJuTXJGkSTIvyd1JHjbkupLyh/3jJP/eNf7vkrwhZac0agekHLxOSnJ9yrb61oDXeViSr3R8/7mUILkhye0p2+fJXe85P8kRQ67r5szcjgZdV3dNkzbXhoZdUy9tqN81ddfw8yTvSTmA3F2Z//spv8+k/C5/mam/y6uT3JTk1/tYY6fafqrbS5N8LKW9DdMuSZ6fEkxuTdmG/5Ry0BiW25KcmvL39sskq5L8IMnjMrz9+Wzb1DeSnJGpIaRTP9rUbGuaySja+bCOMbM9rjwnyV+2065I8uEkv9sxfU7balxC0u5J/jzJa6eZfnOSO5P8bZK3D6mmTrWd3jEpDX31COp5R5IbkvxHkkPacU9McmWSt7TTJlJ2mIO0JMnmHj/zW9n0nlqXpvz3P0jT1XVzpm9Hg66rVtNMbWjYNfXShvpd00xtqOZFKTvMG9paPtQ1fVDbbab9VFL+0/2tlP3FsD085cB1Wce4/85we5K6PSClrs79wM0Z7P58S9rUTObaprakpuckuTFl2718ADVNZ7p2PqxjzJYcV+Z1vX5U1/Qt3la93ExyGN6akv6ummb6Hin/Jb005Zc0TA9O6Tp+Wce4XVP+uJ855FqS0utwScrB9QUppx+Wpjwu5lFJPp3kgUkOTnJeO++lA6plj5Suz5qDkvxZkqO6xt/Svm+Q9ki9rj0yfTsadF3dNfXShoZdUy9tqN81ddfQizPbYf8kJyT5Udf0QW23mfZTaev595Tek2HbNclPu8b9NMluI6glSe6ZciryoymnaSftkcHuz/fI7NvUTObapvbI7Go6O+UU049SwsmnU8LlJ/tY03Sma+fDOsbskdkdVz6f5I0p7ekBKb1IO3e9b4u31Tj0JC1N8vSU84qbc1uSD6b8hzbMq/pPSOkS7dzpvSWle3YUO8ILU37hP0vZ+fxHksNTzt/+IsnbUgLUV5J8OYMNcjelvgN+WEoX6Wuy6SnK3bLxdMmgTFdXMn07GnRd3TX10oaGXVMvbajfNW3udzWT76X8R/n+rvGD2G5L09t+6oSUv8tRuDWlF6DT7ul/YOjFPVLa989TrqHsNsj9+Vza1HTm2qZmW9MlKddw3Z3kP5O8N+Wyj37WVLM007fzYR1jZntceXVb2/eSnJsSJK/ueu8Wb6txCEmHpFxw9cOUC9hel9KFV7vo8R4pCXGfIdWW1Hd6h6b8Yta3w74pyf8NQ6xr0uT5/YtHsO6LU7rSO+2X5Esp/42cUXnPI1JOAQy7rk61djTourpr6qUNDbumXtpQv2ua6Xc1k/kpF793GsR2OyQz76eenPIf9so+r7tXl6Vsj/07xj06w3+M1LyUnogHpGyjX0wz36D253NtUzVzbVNzrWlyP99p2O18WMeY2R5Xbkz5kMLClFPL90i5zqzTFm+rcQhJp6Xs5Ja2wwdTuvCeleQZSR6T8sy43VPu03JTBnf6qNuTUv6Auz/VdmhKt+PSdrg2yckpnwYYpD1StsuClJ3hi1POz/5Lkq+mNOw3tdOenNLg/2WA9axOORU5aZ8k/5ayHT44zXuekvLfwCB119VLOxp0Xd019dKGhl1TL22o3zV115CUT6EsaF/v2L6ePED8Xjb2PBzY1tp5cek+KZ+6+Xofa0w2v5+a9NKUUxGj6LlJSu/MZ1KuJ9kl5fd3VOr/rAzSB1IOSs/J1E9zDWt/Pts2dY/2+3u24xa080zqR5uabU1HpXyqa17KJ7ZendJL0s+aajbXzod1jJntceWhSe6b0q4OS7mw/G1d79/ybTXg+yxsyXBqx30ZjmmaZm1T7hFxfdM0q5umOWiItXyoaZozepjvimY490m6X9M032zK/Udubprm603TPKNj+iObprmgKfdIuaRpmt8ecD17NU1zdbPxfhZvborue0xNzr93O/+g75PUXddM7WgYdXXXNFMbGlVNm2tDg6ipVsMVzaYWtdNWNE3zo7a+K5qm+aumaRZ0vPf1TdP89QC32eRwajP1/jELmvI3eegQ1r25Yc+maf6x3T4/bIZ/n6T92t9X573cbm3KvaSGtT+fbZs6pDLt/I739qNNzbamTzZN85N2W61tmubVXcsbVTsfxjFmtseVY5tyz7Tbm6a5qGmaZ/VzW3nALXP19pTbI7ynh3nfnfIR7u5rSAZhHOtS09xr2Jx7pXSp/1a7PLZf49imxrGmcTU220pIAgCoGIdrkgAAxo6QBABQISQBAFQISQAAFUISAECFkARbnybl4/iTXpfy5PV+OD2bPv5gEI5JuYngl/uwrNWZ+blMJ6bcDbtXz015HtSwLErynSGuD+iBkARbn58l+Z0ke426kC47zGLelyV5RZKn9mG9h2fm5zKdmNmFpH9K8s4trAfYRghJsPW5K+XxAX9YmXZ6pvYE3dp+PSTlgZRnpzzj650pj7X5RpKJTH3+2dNTHiB5WZIj23E7JPmrJN9MebbSyR3L/XKSM9vldHthO/47Sf6iHfdnSX4j5REDf9U1/yEpjz/4bMpDPj+Yjfup2rKS5IqUwLgopXfq71OeV/aFJDu122NZyhPpL2rHvbNd/sVJ3lWp+8Qkf9e+Pj3J/0t50Ojlqfe0TbfupDze4evtuj6b8riJJHlcyo3uLkjyvzqWNd22BoZMSIKt0/tSQs69Z/GeR6c8QXtJkuNTHiL5hCT/kORVHfMtSnl20hEpIWVBSs/PT5M8vh1+P8mvtfM/Icn/SXmWWqcHpoSZp6UEhccneV7Ks8XWtPW/vlLnE5K8tq3zoSm9ZtMtq9v+KdvmkSm9S89PeeDs5PqWpoSX327nOShTn/M0nb1Tgt2Rmb6HqbbupDzp/g3tuiaSvLkdvyLlmVwHdy1nc9saGCIhCbZOG1IOvq+exXu+meS6lNN130/p7UjKgXtRx3xnJ/llku+l9JwsTvLMJCek9MRcmPJAycmnzX8jyQ8q63t8kvOTXJ/S+/WJlMcDzOQb7XrvTvLJlHDS67J+0NaYJN/q+rkmbUhyZ0o4/J0kt/dQ0z+mbJNLUp5uX1Nb971Trpf6Sjv+o23d3eM7H0K7uW0NDNH8URcAbLH3JPl2So/EpLuy8Z+feZn6NPOfdbz+Zcf3v8zUfUH3s4qadlmvyqZP/D4k5enzNfOmGT+T6dbfi86f8e5sPOXV6a6U3qpDk7wgyStTeqh6Xe50tfSy7s5lTPdMqOm2NTBkepJg63VjSq/PyzrGXZFyrUuSHJXknluw3GNS9g0PTfKQJOtSDtgv71jew5PsMsNyLkw5bbdXynU2L8zGnpPNeULK6aV7JDkuydfmsKxJtyTZrX29a0pPzuokp6ScghuUnya5Kclvtt8fn1L3ze2032jHv7jjPVuyrYEB0JMEW7d3p/SETPr7JOemnLL610zfy7M561IO5A9I8gfZeGpqUUrP1byU017Pm2E51yV5U8qF3fNSQsm5Paz/gpTrfpZk40Xcv9zCZU06PeX6qjuSHNa+d0G7rNoF8P300nbdO6ecRlzejl+e5CMpp/s6e422ZFsDAzCvaabr8QUYukNS7vt05AzzAQyc020AABV6kgAAKvQkAQBUCEkAABVCEgBAhZAEAFAhJAEAVAhJAAAV/x+1WWAXzibZzAAAAABJRU5ErkJggg==\n",
      "text/plain": [
       "<Figure size 720x720 with 1 Axes>"
      ]
     },
     "metadata": {
      "needs_background": "dark"
     },
     "output_type": "display_data"
    }
   ],
   "source": [
    "import numpy as np\n",
    "from scipy.cluster.hierarchy import dendrogram\n",
    "\n",
    "def plot_dendrogram(model, **kwargs):\n",
    "    \n",
    "    counts = np.zeros(model.children_.shape[0])\n",
    "    n_samples = len(model.labels_)\n",
    "    for i, merge in enumerate(model.children_):\n",
    "        current_count = 0\n",
    "        for child_idx in merge:\n",
    "            if child_idx < n_samples:\n",
    "                current_count +=1\n",
    "            else:\n",
    "                current_count += counts[child_idx-n_samples]\n",
    "        counts[i] = current_count\n",
    "        \n",
    "    linkage_matrix = np.column_stack([model.children_, model.distances_,\n",
    "                                     counts]).astype(float)\n",
    "    \n",
    "    dendrogram(linkage_matrix, **kwargs)\n",
    "\n",
    "fig, ax = plt.subplots(figsize = (10,10))\n",
    "ax.set_title(\"Hierarchical clustering dendrogram\")\n",
    "#plot the top three levels of the dendrogram\n",
    "plot_dendrogram(model, truncate_mode='level', p=3)\n",
    "plt.axhline(y = 5, color = \"r\", linestyle = \"--\")\n",
    "ax.set_xlabel(\"Number of points in node\")\n",
    "plt.savefig('./image/dendrogram.png',dpi=300, transparent=True) \n",
    "plt.show()"
   ]
  },
  {
   "cell_type": "markdown",
   "metadata": {},
   "source": [
    "#### 3.2.2 Cluster feature analysis"
   ]
  },
  {
   "cell_type": "code",
   "execution_count": 39,
   "metadata": {},
   "outputs": [
    {
     "data": {
      "image/png": "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\n",
      "text/plain": [
       "<Figure size 486.875x1512 with 7 Axes>"
      ]
     },
     "metadata": {
      "needs_background": "dark"
     },
     "output_type": "display_data"
    }
   ],
   "source": [
    "# for plot\n",
    "to_plot = rmo0.set_index('h_Cluster')\n",
    "to_plot = to_plot.stack()\n",
    "to_plot = to_plot.reset_index()\n",
    "to_plot = to_plot.rename(columns={'level_1': 'type', 0: 'Values'})\n",
    "\n",
    "facets = sns.FacetGrid(data=to_plot, row='type', hue='h_Cluster',\n",
    "                 sharey=False, sharex=False,aspect=2)\n",
    "kpt = facets.map(sns.kdeplot, 'Values', shade=True).add_legend()\n",
    "plt.savefig('./image/h_cluster_feature.png', dpi=500,transparent=True)"
   ]
  },
  {
   "cell_type": "markdown",
   "metadata": {},
   "source": [
    "#### 3.2.3 Test Spatial Autocorrelation (Moran's I)"
   ]
  },
  {
   "cell_type": "code",
   "execution_count": 40,
   "metadata": {},
   "outputs": [],
   "source": [
    "#import the necessary packages\n",
    "from libpysal import weights\n",
    "\n",
    "#calculate the weights matrix\n",
    "wr = weights.contiguity.Rook.from_dataframe(rmo,geom_col='geometry')"
   ]
  },
  {
   "cell_type": "code",
   "execution_count": 41,
   "metadata": {},
   "outputs": [
    {
     "data": {
      "text/html": [
       "<div>\n",
       "<style scoped>\n",
       "    .dataframe tbody tr th:only-of-type {\n",
       "        vertical-align: middle;\n",
       "    }\n",
       "\n",
       "    .dataframe tbody tr th {\n",
       "        vertical-align: top;\n",
       "    }\n",
       "\n",
       "    .dataframe thead th {\n",
       "        text-align: right;\n",
       "    }\n",
       "</style>\n",
       "<table border=\"1\" class=\"dataframe\">\n",
       "  <thead>\n",
       "    <tr style=\"text-align: right;\">\n",
       "      <th></th>\n",
       "      <th>Moran's I</th>\n",
       "      <th>P-value</th>\n",
       "    </tr>\n",
       "    <tr>\n",
       "      <th>Variable</th>\n",
       "      <th></th>\n",
       "      <th></th>\n",
       "    </tr>\n",
       "  </thead>\n",
       "  <tbody>\n",
       "    <tr>\n",
       "      <th>vegan_rate</th>\n",
       "      <td>0.163641</td>\n",
       "      <td>0.006</td>\n",
       "    </tr>\n",
       "    <tr>\n",
       "      <th>stars</th>\n",
       "      <td>0.157422</td>\n",
       "      <td>0.009</td>\n",
       "    </tr>\n",
       "    <tr>\n",
       "      <th>classy_rate</th>\n",
       "      <td>0.130536</td>\n",
       "      <td>0.022</td>\n",
       "    </tr>\n",
       "    <tr>\n",
       "      <th>liquor_rate</th>\n",
       "      <td>0.123731</td>\n",
       "      <td>0.036</td>\n",
       "    </tr>\n",
       "    <tr>\n",
       "      <th>romance_rate</th>\n",
       "      <td>0.067910</td>\n",
       "      <td>0.102</td>\n",
       "    </tr>\n",
       "    <tr>\n",
       "      <th>family_rate</th>\n",
       "      <td>0.058657</td>\n",
       "      <td>0.160</td>\n",
       "    </tr>\n",
       "    <tr>\n",
       "      <th>number_of_reviews</th>\n",
       "      <td>0.003503</td>\n",
       "      <td>0.388</td>\n",
       "    </tr>\n",
       "  </tbody>\n",
       "</table>\n",
       "</div>"
      ],
      "text/plain": [
       "                   Moran's I  P-value\n",
       "Variable                             \n",
       "vegan_rate          0.163641    0.006\n",
       "stars               0.157422    0.009\n",
       "classy_rate         0.130536    0.022\n",
       "liquor_rate         0.123731    0.036\n",
       "romance_rate        0.067910    0.102\n",
       "family_rate         0.058657    0.160\n",
       "number_of_reviews   0.003503    0.388"
      ]
     },
     "execution_count": 41,
     "metadata": {},
     "output_type": "execute_result"
    }
   ],
   "source": [
    "to_plotcol=[ 'number_of_reviews',\n",
    " 'liquor_rate',\n",
    " 'vegan_rate',\n",
    " 'romance_rate',\n",
    " 'family_rate',\n",
    " 'classy_rate',\n",
    " 'stars']\n",
    "\n",
    "#import Moran\n",
    "from esda.moran import Moran\n",
    "\n",
    "#extract the resutls for each column\n",
    "mi_results = [Moran(rmo[col], wr) for col in to_plotcol]\n",
    "\n",
    "#create a table based on this\n",
    "#extract the variable, and results from the zipped list\n",
    "table = pd.DataFrame([(to_plotcol, res.I, res.p_sim) \\\n",
    "                          for to_plotcol,res \\\n",
    "                          in zip(to_plotcol, mi_results)\n",
    "                         ], \n",
    "                     #set the columns\n",
    "                     columns=['Variable', \"Moran's I\", 'P-value'])\\\n",
    "              .set_index('Variable')\n",
    "#set the index to the variable\n",
    "\n",
    "#sort the tables values \n",
    "table.sort_values(by= [\"Moran's I\"], ascending=False)"
   ]
  },
  {
   "cell_type": "code",
   "execution_count": 42,
   "metadata": {},
   "outputs": [
    {
     "data": {
      "image/png": "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\n",
      "text/plain": [
       "<Figure size 720x720 with 1 Axes>"
      ]
     },
     "metadata": {
      "needs_background": "dark"
     },
     "output_type": "display_data"
    }
   ],
   "source": [
    "rest_clus = rmo[to_plotcol]\n",
    "#create the model with wards linkage\n",
    "model = AgglomerativeClustering(linkage=\"ward\", \n",
    "                                #define the connectivity\n",
    "                                connectivity = wr.sparse,\n",
    "                                #set the distance threshold\n",
    "                                distance_threshold = 50, \n",
    "                                n_clusters=None)\n",
    "\n",
    "#fit the model\n",
    "model.fit(rest_clus)\n",
    "\n",
    "#extract labels\n",
    "rmo[\"h_Cluster_spa\"] = model.labels_\n",
    "\n",
    "#creating axis\n",
    "fig, ax =plt.subplots(figsize = (10,10))\n",
    "\n",
    "#plt the results\n",
    "rmo.plot(column = \"h_Cluster_spa\", categorical = True, legend=True, ax = ax)\n",
    "plt.savefig('h_cluster_spatial_moran.png', dpi=300,transparent=True)"
   ]
  },
  {
   "cell_type": "code",
   "execution_count": null,
   "metadata": {},
   "outputs": [],
   "source": []
  }
 ],
 "metadata": {
  "kernelspec": {
   "display_name": "Python 3",
   "language": "python",
   "name": "python3"
  },
  "language_info": {
   "codemirror_mode": {
    "name": "ipython",
    "version": 3
   },
   "file_extension": ".py",
   "mimetype": "text/x-python",
   "name": "python",
   "nbconvert_exporter": "python",
   "pygments_lexer": "ipython3",
   "version": "3.7.8"
  }
 },
 "nbformat": 4,
 "nbformat_minor": 4
}
add
